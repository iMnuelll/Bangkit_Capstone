{
  "nbformat": 4,
  "nbformat_minor": 0,
  "metadata": {
    "colab": {
      "provenance": []
    },
    "kernelspec": {
      "name": "python3",
      "display_name": "Python 3"
    },
    "language_info": {
      "name": "python"
    }
  },
  "cells": [
    {
      "cell_type": "code",
      "source": [
        "!pip install faker"
      ],
      "metadata": {
        "colab": {
          "base_uri": "https://localhost:8080/"
        },
        "id": "U5_zeJ9MMEr1",
        "outputId": "c3f3620b-1462-4bf2-d784-490c480a278f"
      },
      "execution_count": null,
      "outputs": [
        {
          "output_type": "stream",
          "name": "stdout",
          "text": [
            "Collecting faker\n",
            "  Downloading Faker-25.5.0-py3-none-any.whl (1.8 MB)\n",
            "\u001b[2K     \u001b[90m━━━━━━━━━━━━━━━━━━━━━━━━━━━━━━━━━━━━━━━━\u001b[0m \u001b[32m1.8/1.8 MB\u001b[0m \u001b[31m13.7 MB/s\u001b[0m eta \u001b[36m0:00:00\u001b[0m\n",
            "\u001b[?25hRequirement already satisfied: python-dateutil>=2.4 in /usr/local/lib/python3.10/dist-packages (from faker) (2.8.2)\n",
            "Requirement already satisfied: six>=1.5 in /usr/local/lib/python3.10/dist-packages (from python-dateutil>=2.4->faker) (1.16.0)\n",
            "Installing collected packages: faker\n",
            "Successfully installed faker-25.5.0\n"
          ]
        }
      ]
    },
    {
      "cell_type": "code",
      "execution_count": null,
      "metadata": {
        "id": "gHL2BiY6k5Md",
        "colab": {
          "base_uri": "https://localhost:8080/"
        },
        "outputId": "5f83c55b-2c9f-4b5f-a85c-b0e3ae3e4316"
      },
      "outputs": [
        {
          "output_type": "stream",
          "name": "stdout",
          "text": [
            "                    name  gender  age  job  task  work_days  difficulty  \\\n",
            "0  Galih Lazuardi, M.TI.       0   40    2     6          5           1   \n",
            "1          Sabar Sudiati       0   30    1     5          5           1   \n",
            "2          Lantar Astuti       0   31    2     5          5           2   \n",
            "3         Ratih Simbolon       0   39    4     5          7           4   \n",
            "4       Teddy Hutagalung       1   31    4     3          7           4   \n",
            "\n",
            "   average_work_hour  average_rest  mood_before_work  mood_after_work  \\\n",
            "0                  9           3.5                 1                0   \n",
            "1                  7           2.5                 2                2   \n",
            "2                  8           3.3                 0                2   \n",
            "3                  6           2.9                 1                0   \n",
            "4                  8           3.7                 1                0   \n",
            "\n",
            "   deadline  importance  sleep_average  urgency  total_gangguan  \\\n",
            "0         3           3              8        3               3   \n",
            "1         4           4              6        1               1   \n",
            "2         4           3              7        1               5   \n",
            "3         3           1              7        1               5   \n",
            "4         4           4              8        3               0   \n",
            "\n",
            "   productive_time  \n",
            "0                0  \n",
            "1                0  \n",
            "2                0  \n",
            "3                0  \n",
            "4                0  \n"
          ]
        }
      ],
      "source": [
        "from faker import Faker\n",
        "import random\n",
        "import pandas as pd\n",
        "\n",
        "fake = Faker('id_ID')\n",
        "\n",
        "def generate_user_data(label):\n",
        "\n",
        "    data_list = []\n",
        "    for i in range(60):\n",
        "        if label == 0: #Lion\n",
        "            age = random.randint(30, 41)\n",
        "            work_days = random.randint(5, 7)\n",
        "            work_hour = random.randint(6, 9)\n",
        "            deadline = random.randint(2, 4)\n",
        "            sleep_hour = random.randint(6, 8)\n",
        "            total_gangguan = random.randint(0, 5)\n",
        "        elif label == 1: # Bear\n",
        "            age = random.randint(23, 50)\n",
        "            work_days = random.randint(5, 6)\n",
        "            work_hour = random.randint(7, 9)\n",
        "            deadline = random.randint(1, 2)\n",
        "            sleep_hour = random.randint(7, 9)\n",
        "            total_gangguan = random.randint(0, 7)\n",
        "        elif label == 2: # wolf\n",
        "            age = random.randint(15, 30)\n",
        "            work_days = random.randint(3, 5) if age <= 20 else random.randint(4, 7)\n",
        "            work_hour = random.randint(5, 9)\n",
        "            deadline = random.randint(0, 2) if age <= 20 else random.randint(0, 4)\n",
        "            sleep_hour = random.randint(5, 8)\n",
        "            total_gangguan = random.randint(0, 6)\n",
        "        elif label == 3: # dolphin\n",
        "            age = random.randint(15, 50)\n",
        "            work_days = random.randint(4, 10)\n",
        "            work_hour = random.randint(8, 10)\n",
        "            deadline = random.randint(0, 2)\n",
        "            sleep_hour = random.randint(3, 6)\n",
        "            total_gangguan = random.randint(0, 6)\n",
        "\n",
        "        data = {\n",
        "            \"name\": fake.name(), # gk guna\n",
        "            \"gender\": random.randint(0, 1), # gk guna\n",
        "            \"age\": age,\n",
        "            \"job\": random.randint(0, 4), # gk guna\n",
        "            \"task\": random.randint(0, 6),\n",
        "            \"work_days\": work_days,\n",
        "            \"difficulty\": random.randint(1, 5), # gk guna\n",
        "            \"average_work_hour\": work_hour,\n",
        "            \"average_rest\": round(random.uniform(1.0, 4.0), 1), # gk guna\n",
        "            \"mood_before_work\": random.randint(0, 2), # gk guna\n",
        "            \"mood_after_work\": random.randint(0, 2), # gk guna\n",
        "            \"deadline\": deadline,\n",
        "            \"importance\": random.randint(1, 5), # gk guna\n",
        "            \"sleep_average\": sleep_hour,\n",
        "            \"urgency\": random.randint(1, 5), # gk guna\n",
        "            # \"Gangguan dari atasan\": random.randint(0, 1), # gk guna\n",
        "            # \"Gangguan dari internal\": random.randint(0, 1), # gk guna\n",
        "            # \"Gangguan dari kesehatan\": random.randint(0, 1), # gk guna\n",
        "            # \"Gangguan dari lingkungan sekitar\": random.randint(0, 1), # gk guna\n",
        "            # \"Gangguan dari perangkat elektronik\": random.randint(0, 1), # gk guna\n",
        "            # \"Gangguan dari teman atau rekan kerja\": random.randint(0, 1), # gk guna\n",
        "            # \"Gangguan internet\": random.randint(0, 1), # gk guna\n",
        "            # \"Mood\": random.randint(0, 1), # gk guna\n",
        "            # \"Panggilan Telepon\": random.randint(0, 1), # gk guna\n",
        "            # \"Tidak ada\": random.randint(0, 1), # gk guna\n",
        "            # \"ajakan bermain\": random.randint(0, 1), # gk guna\n",
        "            \"total_gangguan\": total_gangguan,\n",
        "            #label\n",
        "            \"productive_time\": label,\n",
        "        }\n",
        "        data_list.append(data)\n",
        "    return data_list\n",
        "\n",
        "data = []\n",
        "for i in range(4):\n",
        "    data.extend(generate_user_data(i))\n",
        "\n",
        "# Mengonversi data menjadi DataFrame\n",
        "df = pd.DataFrame(data)\n",
        "\n",
        "# Menyimpan DataFrame ke dalam file CSV\n",
        "df.to_csv('data_dummy_rev3.csv', index=False)\n",
        "\n",
        "# Menampilkan lima baris pertama dari DataFrame\n",
        "print(df.head())"
      ]
    }
  ]
}