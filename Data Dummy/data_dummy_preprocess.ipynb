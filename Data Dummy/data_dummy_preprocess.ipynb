{
 "cells": [
  {
   "cell_type": "code",
   "execution_count": 2,
   "metadata": {},
   "outputs": [],
   "source": [
    "import pandas as pd\n",
    "import random\n",
    "import numpy as np\n",
    "import matplotlib.pyplot as plt\n",
    "import seaborn as sns\n",
    "from functools import reduce\n",
    "from sklearn.preprocessing import LabelEncoder"
   ]
  },
  {
   "cell_type": "code",
   "execution_count": 3,
   "metadata": {},
   "outputs": [],
   "source": [
    "data = 'https://github.com/iMnuelll/Bangkit_Capstone/raw/main/Data%20Dummy/new_data_dummy.csv'\n",
    "df = pd.read_csv(data)"
   ]
  },
  {
   "cell_type": "code",
   "execution_count": 4,
   "metadata": {},
   "outputs": [
    {
     "data": {
      "text/html": [
       "<div>\n",
       "<style scoped>\n",
       "    .dataframe tbody tr th:only-of-type {\n",
       "        vertical-align: middle;\n",
       "    }\n",
       "\n",
       "    .dataframe tbody tr th {\n",
       "        vertical-align: top;\n",
       "    }\n",
       "\n",
       "    .dataframe thead th {\n",
       "        text-align: right;\n",
       "    }\n",
       "</style>\n",
       "<table border=\"1\" class=\"dataframe\">\n",
       "  <thead>\n",
       "    <tr style=\"text-align: right;\">\n",
       "      <th></th>\n",
       "      <th>name</th>\n",
       "      <th>gender</th>\n",
       "      <th>age</th>\n",
       "      <th>job</th>\n",
       "      <th>task</th>\n",
       "      <th>work_days</th>\n",
       "      <th>difficulty</th>\n",
       "      <th>average_work_hour</th>\n",
       "      <th>average_rest</th>\n",
       "      <th>mood_before_work</th>\n",
       "      <th>...</th>\n",
       "      <th>Gangguan dari internal</th>\n",
       "      <th>Gangguan dari kesehatan</th>\n",
       "      <th>Gangguan dari lingkungan sekitar</th>\n",
       "      <th>Gangguan dari perangkat elektronik</th>\n",
       "      <th>Gangguan dari teman atau rekan kerja</th>\n",
       "      <th>Gangguan internet</th>\n",
       "      <th>Mood</th>\n",
       "      <th>Panggilan Telepon</th>\n",
       "      <th>Tidak ada</th>\n",
       "      <th>ajakan bermain</th>\n",
       "    </tr>\n",
       "  </thead>\n",
       "  <tbody>\n",
       "    <tr>\n",
       "      <th>0</th>\n",
       "      <td>Matthew Castillo</td>\n",
       "      <td>0</td>\n",
       "      <td>34</td>\n",
       "      <td>4</td>\n",
       "      <td>2</td>\n",
       "      <td>1</td>\n",
       "      <td>1</td>\n",
       "      <td>6.8</td>\n",
       "      <td>3.5</td>\n",
       "      <td>2</td>\n",
       "      <td>...</td>\n",
       "      <td>1</td>\n",
       "      <td>1</td>\n",
       "      <td>0</td>\n",
       "      <td>1</td>\n",
       "      <td>0</td>\n",
       "      <td>1</td>\n",
       "      <td>1</td>\n",
       "      <td>1</td>\n",
       "      <td>0</td>\n",
       "      <td>1</td>\n",
       "    </tr>\n",
       "    <tr>\n",
       "      <th>1</th>\n",
       "      <td>Brooke Hull</td>\n",
       "      <td>1</td>\n",
       "      <td>36</td>\n",
       "      <td>0</td>\n",
       "      <td>3</td>\n",
       "      <td>6</td>\n",
       "      <td>4</td>\n",
       "      <td>3.9</td>\n",
       "      <td>3.3</td>\n",
       "      <td>2</td>\n",
       "      <td>...</td>\n",
       "      <td>1</td>\n",
       "      <td>0</td>\n",
       "      <td>1</td>\n",
       "      <td>0</td>\n",
       "      <td>1</td>\n",
       "      <td>1</td>\n",
       "      <td>1</td>\n",
       "      <td>0</td>\n",
       "      <td>0</td>\n",
       "      <td>1</td>\n",
       "    </tr>\n",
       "    <tr>\n",
       "      <th>2</th>\n",
       "      <td>Grant Tran</td>\n",
       "      <td>0</td>\n",
       "      <td>38</td>\n",
       "      <td>1</td>\n",
       "      <td>5</td>\n",
       "      <td>3</td>\n",
       "      <td>3</td>\n",
       "      <td>10.9</td>\n",
       "      <td>3.1</td>\n",
       "      <td>2</td>\n",
       "      <td>...</td>\n",
       "      <td>1</td>\n",
       "      <td>1</td>\n",
       "      <td>1</td>\n",
       "      <td>1</td>\n",
       "      <td>1</td>\n",
       "      <td>1</td>\n",
       "      <td>1</td>\n",
       "      <td>0</td>\n",
       "      <td>0</td>\n",
       "      <td>0</td>\n",
       "    </tr>\n",
       "    <tr>\n",
       "      <th>3</th>\n",
       "      <td>Rebecca Nguyen</td>\n",
       "      <td>1</td>\n",
       "      <td>27</td>\n",
       "      <td>0</td>\n",
       "      <td>6</td>\n",
       "      <td>3</td>\n",
       "      <td>3</td>\n",
       "      <td>1.9</td>\n",
       "      <td>3.5</td>\n",
       "      <td>0</td>\n",
       "      <td>...</td>\n",
       "      <td>1</td>\n",
       "      <td>0</td>\n",
       "      <td>1</td>\n",
       "      <td>1</td>\n",
       "      <td>0</td>\n",
       "      <td>1</td>\n",
       "      <td>1</td>\n",
       "      <td>0</td>\n",
       "      <td>1</td>\n",
       "      <td>0</td>\n",
       "    </tr>\n",
       "    <tr>\n",
       "      <th>4</th>\n",
       "      <td>Melissa Jennings</td>\n",
       "      <td>0</td>\n",
       "      <td>37</td>\n",
       "      <td>5</td>\n",
       "      <td>6</td>\n",
       "      <td>3</td>\n",
       "      <td>3</td>\n",
       "      <td>9.6</td>\n",
       "      <td>1.8</td>\n",
       "      <td>1</td>\n",
       "      <td>...</td>\n",
       "      <td>0</td>\n",
       "      <td>1</td>\n",
       "      <td>1</td>\n",
       "      <td>0</td>\n",
       "      <td>0</td>\n",
       "      <td>0</td>\n",
       "      <td>1</td>\n",
       "      <td>0</td>\n",
       "      <td>1</td>\n",
       "      <td>1</td>\n",
       "    </tr>\n",
       "    <tr>\n",
       "      <th>...</th>\n",
       "      <td>...</td>\n",
       "      <td>...</td>\n",
       "      <td>...</td>\n",
       "      <td>...</td>\n",
       "      <td>...</td>\n",
       "      <td>...</td>\n",
       "      <td>...</td>\n",
       "      <td>...</td>\n",
       "      <td>...</td>\n",
       "      <td>...</td>\n",
       "      <td>...</td>\n",
       "      <td>...</td>\n",
       "      <td>...</td>\n",
       "      <td>...</td>\n",
       "      <td>...</td>\n",
       "      <td>...</td>\n",
       "      <td>...</td>\n",
       "      <td>...</td>\n",
       "      <td>...</td>\n",
       "      <td>...</td>\n",
       "      <td>...</td>\n",
       "    </tr>\n",
       "    <tr>\n",
       "      <th>95</th>\n",
       "      <td>Sherry Smith</td>\n",
       "      <td>1</td>\n",
       "      <td>31</td>\n",
       "      <td>5</td>\n",
       "      <td>5</td>\n",
       "      <td>5</td>\n",
       "      <td>5</td>\n",
       "      <td>12.0</td>\n",
       "      <td>2.7</td>\n",
       "      <td>2</td>\n",
       "      <td>...</td>\n",
       "      <td>0</td>\n",
       "      <td>1</td>\n",
       "      <td>0</td>\n",
       "      <td>1</td>\n",
       "      <td>1</td>\n",
       "      <td>0</td>\n",
       "      <td>1</td>\n",
       "      <td>0</td>\n",
       "      <td>0</td>\n",
       "      <td>1</td>\n",
       "    </tr>\n",
       "    <tr>\n",
       "      <th>96</th>\n",
       "      <td>Justin Ortega</td>\n",
       "      <td>1</td>\n",
       "      <td>25</td>\n",
       "      <td>0</td>\n",
       "      <td>2</td>\n",
       "      <td>2</td>\n",
       "      <td>4</td>\n",
       "      <td>4.7</td>\n",
       "      <td>3.6</td>\n",
       "      <td>0</td>\n",
       "      <td>...</td>\n",
       "      <td>0</td>\n",
       "      <td>0</td>\n",
       "      <td>0</td>\n",
       "      <td>0</td>\n",
       "      <td>1</td>\n",
       "      <td>1</td>\n",
       "      <td>0</td>\n",
       "      <td>1</td>\n",
       "      <td>0</td>\n",
       "      <td>1</td>\n",
       "    </tr>\n",
       "    <tr>\n",
       "      <th>97</th>\n",
       "      <td>Bryan Miles</td>\n",
       "      <td>0</td>\n",
       "      <td>28</td>\n",
       "      <td>4</td>\n",
       "      <td>1</td>\n",
       "      <td>1</td>\n",
       "      <td>3</td>\n",
       "      <td>9.7</td>\n",
       "      <td>2.9</td>\n",
       "      <td>0</td>\n",
       "      <td>...</td>\n",
       "      <td>0</td>\n",
       "      <td>1</td>\n",
       "      <td>1</td>\n",
       "      <td>1</td>\n",
       "      <td>0</td>\n",
       "      <td>0</td>\n",
       "      <td>1</td>\n",
       "      <td>0</td>\n",
       "      <td>1</td>\n",
       "      <td>1</td>\n",
       "    </tr>\n",
       "    <tr>\n",
       "      <th>98</th>\n",
       "      <td>Karen Kim</td>\n",
       "      <td>1</td>\n",
       "      <td>31</td>\n",
       "      <td>5</td>\n",
       "      <td>2</td>\n",
       "      <td>5</td>\n",
       "      <td>2</td>\n",
       "      <td>6.9</td>\n",
       "      <td>3.1</td>\n",
       "      <td>1</td>\n",
       "      <td>...</td>\n",
       "      <td>1</td>\n",
       "      <td>1</td>\n",
       "      <td>1</td>\n",
       "      <td>0</td>\n",
       "      <td>0</td>\n",
       "      <td>1</td>\n",
       "      <td>1</td>\n",
       "      <td>1</td>\n",
       "      <td>1</td>\n",
       "      <td>0</td>\n",
       "    </tr>\n",
       "    <tr>\n",
       "      <th>99</th>\n",
       "      <td>Mr. Matthew Franco DDS</td>\n",
       "      <td>0</td>\n",
       "      <td>26</td>\n",
       "      <td>5</td>\n",
       "      <td>6</td>\n",
       "      <td>6</td>\n",
       "      <td>4</td>\n",
       "      <td>4.9</td>\n",
       "      <td>3.3</td>\n",
       "      <td>1</td>\n",
       "      <td>...</td>\n",
       "      <td>1</td>\n",
       "      <td>1</td>\n",
       "      <td>0</td>\n",
       "      <td>1</td>\n",
       "      <td>0</td>\n",
       "      <td>0</td>\n",
       "      <td>0</td>\n",
       "      <td>1</td>\n",
       "      <td>1</td>\n",
       "      <td>1</td>\n",
       "    </tr>\n",
       "  </tbody>\n",
       "</table>\n",
       "<p>100 rows × 27 columns</p>\n",
       "</div>"
      ],
      "text/plain": [
       "                      name  gender  age  job  task  work_days  difficulty  \\\n",
       "0         Matthew Castillo       0   34    4     2          1           1   \n",
       "1              Brooke Hull       1   36    0     3          6           4   \n",
       "2               Grant Tran       0   38    1     5          3           3   \n",
       "3           Rebecca Nguyen       1   27    0     6          3           3   \n",
       "4         Melissa Jennings       0   37    5     6          3           3   \n",
       "..                     ...     ...  ...  ...   ...        ...         ...   \n",
       "95            Sherry Smith       1   31    5     5          5           5   \n",
       "96           Justin Ortega       1   25    0     2          2           4   \n",
       "97             Bryan Miles       0   28    4     1          1           3   \n",
       "98               Karen Kim       1   31    5     2          5           2   \n",
       "99  Mr. Matthew Franco DDS       0   26    5     6          6           4   \n",
       "\n",
       "    average_work_hour  average_rest  mood_before_work  ...  \\\n",
       "0                 6.8           3.5                 2  ...   \n",
       "1                 3.9           3.3                 2  ...   \n",
       "2                10.9           3.1                 2  ...   \n",
       "3                 1.9           3.5                 0  ...   \n",
       "4                 9.6           1.8                 1  ...   \n",
       "..                ...           ...               ...  ...   \n",
       "95               12.0           2.7                 2  ...   \n",
       "96                4.7           3.6                 0  ...   \n",
       "97                9.7           2.9                 0  ...   \n",
       "98                6.9           3.1                 1  ...   \n",
       "99                4.9           3.3                 1  ...   \n",
       "\n",
       "    Gangguan dari internal   Gangguan dari kesehatan  \\\n",
       "0                         1                        1   \n",
       "1                         1                        0   \n",
       "2                         1                        1   \n",
       "3                         1                        0   \n",
       "4                         0                        1   \n",
       "..                      ...                      ...   \n",
       "95                        0                        1   \n",
       "96                        0                        0   \n",
       "97                        0                        1   \n",
       "98                        1                        1   \n",
       "99                        1                        1   \n",
       "\n",
       "    Gangguan dari lingkungan sekitar   Gangguan dari perangkat elektronik   \\\n",
       "0                                   0                                    1   \n",
       "1                                   1                                    0   \n",
       "2                                   1                                    1   \n",
       "3                                   1                                    1   \n",
       "4                                   1                                    0   \n",
       "..                                ...                                  ...   \n",
       "95                                  0                                    1   \n",
       "96                                  0                                    0   \n",
       "97                                  1                                    1   \n",
       "98                                  1                                    0   \n",
       "99                                  0                                    1   \n",
       "\n",
       "    Gangguan dari teman atau rekan kerja  Gangguan internet  Mood   \\\n",
       "0                                      0                  1      1   \n",
       "1                                      1                  1      1   \n",
       "2                                      1                  1      1   \n",
       "3                                      0                  1      1   \n",
       "4                                      0                  0      1   \n",
       "..                                   ...                ...    ...   \n",
       "95                                     1                  0      1   \n",
       "96                                     1                  1      0   \n",
       "97                                     0                  0      1   \n",
       "98                                     0                  1      1   \n",
       "99                                     0                  0      0   \n",
       "\n",
       "    Panggilan Telepon  Tidak ada  ajakan bermain  \n",
       "0                   1          0               1  \n",
       "1                   0          0               1  \n",
       "2                   0          0               0  \n",
       "3                   0          1               0  \n",
       "4                   0          1               1  \n",
       "..                ...        ...             ...  \n",
       "95                  0          0               1  \n",
       "96                  1          0               1  \n",
       "97                  0          1               1  \n",
       "98                  1          1               0  \n",
       "99                  1          1               1  \n",
       "\n",
       "[100 rows x 27 columns]"
      ]
     },
     "execution_count": 4,
     "metadata": {},
     "output_type": "execute_result"
    }
   ],
   "source": [
    "df.head(150)"
   ]
  },
  {
   "cell_type": "code",
   "execution_count": 5,
   "metadata": {},
   "outputs": [],
   "source": [
    "df = df.drop(columns=['name'])"
   ]
  },
  {
   "cell_type": "markdown",
   "metadata": {},
   "source": [
    "**Fungsi Visualisasi Data**"
   ]
  },
  {
   "cell_type": "code",
   "execution_count": 6,
   "metadata": {},
   "outputs": [],
   "source": [
    "def scatterPlot(columnName, describe='mean'):\n",
    "    mean_value = columnName.mean()\n",
    "    median_value = columnName.median()\n",
    "\n",
    "    plt.figure(figsize=(10, 5))\n",
    "    plt.scatter(df.index, columnName)\n",
    "    if describe == 'mean' :\n",
    "      plt.axhline(mean_value, color='red', linestyle='--', label=f'Mean ({mean_value:.2f})')\n",
    "    elif describe == 'median' :\n",
    "      plt.axhline(median_value, color='red', linestyle='--', label=f'Median ({median_value:.2f})')\n",
    "    plt.title(f'Scatter Plot of {columnName.name}')\n",
    "    plt.xlabel('Index')\n",
    "    plt.ylabel('Values')\n",
    "    plt.legend()\n",
    "    plt.show()"
   ]
  },
  {
   "cell_type": "markdown",
   "metadata": {},
   "source": [
    "**Visualisasi Kolom :**\n",
    "1. average_work_hour\n",
    "2. average_rest\n",
    "3. work_days"
   ]
  },
  {
   "cell_type": "code",
   "execution_count": 7,
   "metadata": {},
   "outputs": [
    {
     "data": {
      "image/png": "[encoded data removed]",
      "text/plain": [
       "<Figure size 1000x500 with 1 Axes>"
      ]
     },
     "metadata": {},
     "output_type": "display_data"
    },
    {
     "data": {
      "image/png": "[encoded data removed]",
      "text/plain": [
       "<Figure size 1000x500 with 1 Axes>"
      ]
     },
     "metadata": {},
     "output_type": "display_data"
    },
    {
     "data": {
      "image/png": "[encoded data removed]",
      "text/plain": [
       "<Figure size 1000x500 with 1 Axes>"
      ]
     },
     "metadata": {},
     "output_type": "display_data"
    }
   ],
   "source": [
    "scatterPlot(df['average_work_hour'])\n",
    "scatterPlot(df['average_rest'])\n",
    "scatterPlot(df['work_days'])"
   ]
  },
  {
   "cell_type": "markdown",
   "metadata": {},
   "source": [
    "**Menjumlahkan Total Gangguan**"
   ]
  },
  {
   "cell_type": "code",
   "execution_count": 8,
   "metadata": {},
   "outputs": [
    {
     "data": {
      "text/plain": [
       "Index(['gender', 'age', 'job', 'task', 'work_days', 'difficulty',\n",
       "       'average_work_hour', 'average_rest', 'mood_before_work',\n",
       "       'mood_after_work', 'deadline', 'importance', 'sleep_average',\n",
       "       'productive_time', 'urgency', 'Gangguan dari atasan',\n",
       "       'Gangguan dari internal ', 'Gangguan dari kesehatan',\n",
       "       'Gangguan dari lingkungan sekitar ',\n",
       "       'Gangguan dari perangkat elektronik ',\n",
       "       'Gangguan dari teman atau rekan kerja', 'Gangguan internet', 'Mood ',\n",
       "       'Panggilan Telepon', 'Tidak ada', 'ajakan bermain'],\n",
       "      dtype='object')"
      ]
     },
     "execution_count": 8,
     "metadata": {},
     "output_type": "execute_result"
    }
   ],
   "source": [
    "df.columns"
   ]
  },
  {
   "cell_type": "code",
   "execution_count": 9,
   "metadata": {},
   "outputs": [],
   "source": [
    "df['total_gangguan'] = df[['Gangguan dari atasan',\n",
    "       'Gangguan dari internal ', 'Gangguan dari kesehatan',\n",
    "       'Gangguan dari lingkungan sekitar ',\n",
    "       'Gangguan dari perangkat elektronik ',\n",
    "       'Gangguan dari teman atau rekan kerja', 'Gangguan internet', 'Mood ',\n",
    "       'Panggilan Telepon', 'Tidak ada', 'ajakan bermain']].sum(axis=1)"
   ]
  },
  {
   "cell_type": "code",
   "execution_count": 10,
   "metadata": {},
   "outputs": [
    {
     "data": {
      "text/plain": [
       "count    100.00000\n",
       "mean       5.52000\n",
       "std        1.61733\n",
       "min        2.00000\n",
       "25%        5.00000\n",
       "50%        6.00000\n",
       "75%        7.00000\n",
       "max       10.00000\n",
       "Name: total_gangguan, dtype: float64"
      ]
     },
     "execution_count": 10,
     "metadata": {},
     "output_type": "execute_result"
    }
   ],
   "source": [
    "df['total_gangguan'].describe()"
   ]
  },
  {
   "cell_type": "markdown",
   "metadata": {},
   "source": [
    "**Kategorisasi Hari Kerja**"
   ]
  },
  {
   "cell_type": "code",
   "execution_count": 11,
   "metadata": {},
   "outputs": [
    {
     "data": {
      "text/plain": [
       "count    100.000000\n",
       "mean       4.090000\n",
       "std        2.050351\n",
       "min        1.000000\n",
       "25%        2.000000\n",
       "50%        4.000000\n",
       "75%        6.000000\n",
       "max        7.000000\n",
       "Name: work_days, dtype: float64"
      ]
     },
     "execution_count": 11,
     "metadata": {},
     "output_type": "execute_result"
    }
   ],
   "source": [
    "df['work_days'].describe()"
   ]
  },
  {
   "cell_type": "code",
   "execution_count": 12,
   "metadata": {},
   "outputs": [],
   "source": [
    "def categorize_days(day):\n",
    "    if 1 <= day <= 3:\n",
    "        return \"1 - 3 hari\"\n",
    "    elif day == 4:\n",
    "        return \"2 - 4 hari\"\n",
    "    elif day == 5:\n",
    "        return \"3 - 5 hari\"\n",
    "    elif day == 6:\n",
    "        return \"4 - 6 hari\"\n",
    "    elif day == 7:\n",
    "        return \"5 - 7 hari\"\n",
    "    else:\n",
    "        return \"Unknown category\"\n",
    "\n",
    "df['work_days_category'] = [categorize_days(day) for day in df['work_days']]\n",
    "df['work_days_category_int'] = df['work_days_category'].str.extract(r'(\\d+)\\s*hari$')\n",
    "df['work_days_category_int'] = df['work_days_category_int'].astype(int)"
   ]
  },
  {
   "cell_type": "code",
   "execution_count": 13,
   "metadata": {},
   "outputs": [
    {
     "data": {
      "text/plain": [
       "count    100.000000\n",
       "mean       4.520000\n",
       "std        1.520765\n",
       "min        3.000000\n",
       "25%        3.000000\n",
       "50%        4.000000\n",
       "75%        6.000000\n",
       "max        7.000000\n",
       "Name: work_days_category_int, dtype: float64"
      ]
     },
     "execution_count": 13,
     "metadata": {},
     "output_type": "execute_result"
    }
   ],
   "source": [
    "df['work_days_category_int'].describe()"
   ]
  },
  {
   "cell_type": "markdown",
   "metadata": {},
   "source": [
    "**Kalikan hari kerja dengan rata - rata jam kerja**"
   ]
  },
  {
   "cell_type": "code",
   "execution_count": 14,
   "metadata": {},
   "outputs": [],
   "source": [
    "df['work_hour_in_week'] = df['work_days_category_int'] * df['average_work_hour']"
   ]
  },
  {
   "cell_type": "code",
   "execution_count": 15,
   "metadata": {},
   "outputs": [
    {
     "data": {
      "text/plain": [
       "count    100.000000\n",
       "mean      27.226000\n",
       "std       17.146909\n",
       "min        4.200000\n",
       "25%       12.675000\n",
       "50%       25.350000\n",
       "75%       35.025000\n",
       "max       74.200000\n",
       "Name: work_hour_in_week, dtype: float64"
      ]
     },
     "execution_count": 15,
     "metadata": {},
     "output_type": "execute_result"
    }
   ],
   "source": [
    "df['work_hour_in_week'].describe()"
   ]
  },
  {
   "cell_type": "markdown",
   "metadata": {},
   "source": [
    "## **Kategori jam kerja dalam 1 minggu :**\n",
    "\n",
    "1.   Paruh Waktu < 35 jam\n",
    "2.   Normal 35 <= 40 jam\n",
    "3.   Lembur > 40 jam\n",
    "\n"
   ]
  },
  {
   "cell_type": "code",
   "execution_count": 16,
   "metadata": {},
   "outputs": [],
   "source": [
    "def work_hour_in_week(hours):\n",
    "\n",
    "    if hours < 35 :\n",
    "      return \"Paruh Waktu\"\n",
    "    elif 35 <= hours <= 40 :\n",
    "      return \"Normal\"\n",
    "    elif hours > 40 :\n",
    "      return \"Lembur\"\n",
    "\n",
    "df['categorize_work_hour_in_week'] = df['work_hour_in_week'].apply(work_hour_in_week)"
   ]
  },
  {
   "cell_type": "code",
   "execution_count": 17,
   "metadata": {},
   "outputs": [
    {
     "data": {
      "text/plain": [
       "0     Paruh Waktu\n",
       "1     Paruh Waktu\n",
       "2     Paruh Waktu\n",
       "3     Paruh Waktu\n",
       "4     Paruh Waktu\n",
       "         ...     \n",
       "95         Lembur\n",
       "96    Paruh Waktu\n",
       "97    Paruh Waktu\n",
       "98    Paruh Waktu\n",
       "99    Paruh Waktu\n",
       "Name: categorize_work_hour_in_week, Length: 100, dtype: object"
      ]
     },
     "execution_count": 17,
     "metadata": {},
     "output_type": "execute_result"
    }
   ],
   "source": [
    "df['categorize_work_hour_in_week'].head(100)"
   ]
  },
  {
   "cell_type": "markdown",
   "metadata": {},
   "source": [
    "## **Encode :**\n",
    "1. work_days_category\n",
    "2. categorize_work_hour_in_week"
   ]
  },
  {
   "cell_type": "code",
   "execution_count": 18,
   "metadata": {},
   "outputs": [],
   "source": [
    "label_encoder = LabelEncoder()\n",
    "\n",
    "df['work_hour_label'] = label_encoder.fit_transform(df['categorize_work_hour_in_week'])\n",
    "df['work_days_label'] = label_encoder.fit_transform(df['work_days_category'])"
   ]
  },
  {
   "cell_type": "markdown",
   "metadata": {},
   "source": [
    "**Drop Column**"
   ]
  },
  {
   "cell_type": "code",
   "execution_count": 19,
   "metadata": {},
   "outputs": [
    {
     "data": {
      "text/plain": [
       "Index(['gender', 'age', 'job', 'task', 'work_days', 'difficulty',\n",
       "       'average_work_hour', 'average_rest', 'mood_before_work',\n",
       "       'mood_after_work', 'deadline', 'importance', 'sleep_average',\n",
       "       'productive_time', 'urgency', 'Gangguan dari atasan',\n",
       "       'Gangguan dari internal ', 'Gangguan dari kesehatan',\n",
       "       'Gangguan dari lingkungan sekitar ',\n",
       "       'Gangguan dari perangkat elektronik ',\n",
       "       'Gangguan dari teman atau rekan kerja', 'Gangguan internet', 'Mood ',\n",
       "       'Panggilan Telepon', 'Tidak ada', 'ajakan bermain', 'total_gangguan',\n",
       "       'work_days_category', 'work_days_category_int', 'work_hour_in_week',\n",
       "       'categorize_work_hour_in_week', 'work_hour_label', 'work_days_label'],\n",
       "      dtype='object')"
      ]
     },
     "execution_count": 19,
     "metadata": {},
     "output_type": "execute_result"
    }
   ],
   "source": [
    "df.columns"
   ]
  },
  {
   "cell_type": "code",
   "execution_count": 20,
   "metadata": {},
   "outputs": [],
   "source": [
    "df = df.drop(columns = ['work_days', 'average_work_hour', 'Gangguan dari atasan',\n",
    "       'Gangguan dari internal ', 'Gangguan dari kesehatan',\n",
    "       'Gangguan dari lingkungan sekitar ',\n",
    "       'Gangguan dari perangkat elektronik ',\n",
    "       'Gangguan dari teman atau rekan kerja', 'Gangguan internet', 'Mood ',\n",
    "       'Panggilan Telepon', 'Tidak ada', 'ajakan bermain', 'work_days_category', 'work_days_category_int', 'work_hour_in_week',\n",
    "       'categorize_work_hour_in_week', 'work_days_label'])"
   ]
  },
  {
   "cell_type": "markdown",
   "metadata": {},
   "source": [
    "**Save To CSV**"
   ]
  },
  {
   "cell_type": "code",
   "execution_count": 21,
   "metadata": {},
   "outputs": [],
   "source": [
    "# df.to_csv('fix_new_data_dummy.csv', sep='|', index=False)"
   ]
  },
  {
   "cell_type": "code",
   "execution_count": 22,
   "metadata": {},
   "outputs": [
    {
     "data": {
      "text/plain": [
       "productive_time\n",
       "0    25\n",
       "2    25\n",
       "3    25\n",
       "1    25\n",
       "Name: count, dtype: int64"
      ]
     },
     "execution_count": 22,
     "metadata": {},
     "output_type": "execute_result"
    }
   ],
   "source": [
    "df['productive_time'].value_counts()"
   ]
  },
  {
   "cell_type": "markdown",
   "metadata": {},
   "source": [
    "**Menggabungkan DataFrame**"
   ]
  },
  {
   "cell_type": "code",
   "execution_count": 34,
   "metadata": {},
   "outputs": [],
   "source": [
    "data = 'https://github.com/iMnuelll/Bangkit_Capstone/raw/main/Preprocessing/data_gform_after_flatten.csv'\n",
    "df2 = pd.read_csv(data, delimiter='|')"
   ]
  },
  {
   "cell_type": "code",
   "execution_count": 35,
   "metadata": {},
   "outputs": [
    {
     "data": {
      "text/html": [
       "<div>\n",
       "<style scoped>\n",
       "    .dataframe tbody tr th:only-of-type {\n",
       "        vertical-align: middle;\n",
       "    }\n",
       "\n",
       "    .dataframe tbody tr th {\n",
       "        vertical-align: top;\n",
       "    }\n",
       "\n",
       "    .dataframe thead th {\n",
       "        text-align: right;\n",
       "    }\n",
       "</style>\n",
       "<table border=\"1\" class=\"dataframe\">\n",
       "  <thead>\n",
       "    <tr style=\"text-align: right;\">\n",
       "      <th></th>\n",
       "      <th>gender</th>\n",
       "      <th>age</th>\n",
       "      <th>job</th>\n",
       "      <th>task</th>\n",
       "      <th>difficulty</th>\n",
       "      <th>average_rest</th>\n",
       "      <th>mood_before_work</th>\n",
       "      <th>mood_after_work</th>\n",
       "      <th>deadline</th>\n",
       "      <th>importance</th>\n",
       "      <th>sleep_average</th>\n",
       "      <th>productive_time</th>\n",
       "      <th>urgency</th>\n",
       "      <th>total_gangguan</th>\n",
       "      <th>work_hour_label</th>\n",
       "    </tr>\n",
       "  </thead>\n",
       "  <tbody>\n",
       "    <tr>\n",
       "      <th>0</th>\n",
       "      <td>0</td>\n",
       "      <td>22</td>\n",
       "      <td>1</td>\n",
       "      <td>5</td>\n",
       "      <td>4</td>\n",
       "      <td>5.0</td>\n",
       "      <td>2</td>\n",
       "      <td>1</td>\n",
       "      <td>4</td>\n",
       "      <td>1</td>\n",
       "      <td>7.0</td>\n",
       "      <td>0</td>\n",
       "      <td>2</td>\n",
       "      <td>4</td>\n",
       "      <td>2</td>\n",
       "    </tr>\n",
       "    <tr>\n",
       "      <th>1</th>\n",
       "      <td>0</td>\n",
       "      <td>24</td>\n",
       "      <td>0</td>\n",
       "      <td>4</td>\n",
       "      <td>3</td>\n",
       "      <td>1.0</td>\n",
       "      <td>0</td>\n",
       "      <td>0</td>\n",
       "      <td>3</td>\n",
       "      <td>1</td>\n",
       "      <td>7.0</td>\n",
       "      <td>0</td>\n",
       "      <td>3</td>\n",
       "      <td>3</td>\n",
       "      <td>0</td>\n",
       "    </tr>\n",
       "    <tr>\n",
       "      <th>2</th>\n",
       "      <td>0</td>\n",
       "      <td>21</td>\n",
       "      <td>1</td>\n",
       "      <td>2</td>\n",
       "      <td>3</td>\n",
       "      <td>2.0</td>\n",
       "      <td>0</td>\n",
       "      <td>0</td>\n",
       "      <td>1</td>\n",
       "      <td>1</td>\n",
       "      <td>5.0</td>\n",
       "      <td>0</td>\n",
       "      <td>1</td>\n",
       "      <td>1</td>\n",
       "      <td>2</td>\n",
       "    </tr>\n",
       "    <tr>\n",
       "      <th>3</th>\n",
       "      <td>0</td>\n",
       "      <td>21</td>\n",
       "      <td>1</td>\n",
       "      <td>6</td>\n",
       "      <td>4</td>\n",
       "      <td>3.0</td>\n",
       "      <td>1</td>\n",
       "      <td>1</td>\n",
       "      <td>1</td>\n",
       "      <td>2</td>\n",
       "      <td>5.0</td>\n",
       "      <td>0</td>\n",
       "      <td>2</td>\n",
       "      <td>3</td>\n",
       "      <td>0</td>\n",
       "    </tr>\n",
       "    <tr>\n",
       "      <th>4</th>\n",
       "      <td>0</td>\n",
       "      <td>21</td>\n",
       "      <td>1</td>\n",
       "      <td>1</td>\n",
       "      <td>3</td>\n",
       "      <td>0.5</td>\n",
       "      <td>1</td>\n",
       "      <td>0</td>\n",
       "      <td>1</td>\n",
       "      <td>2</td>\n",
       "      <td>6.0</td>\n",
       "      <td>0</td>\n",
       "      <td>4</td>\n",
       "      <td>1</td>\n",
       "      <td>2</td>\n",
       "    </tr>\n",
       "  </tbody>\n",
       "</table>\n",
       "</div>"
      ],
      "text/plain": [
       "   gender  age  job  task  difficulty  average_rest  mood_before_work  \\\n",
       "0       0   22    1     5           4           5.0                 2   \n",
       "1       0   24    0     4           3           1.0                 0   \n",
       "2       0   21    1     2           3           2.0                 0   \n",
       "3       0   21    1     6           4           3.0                 1   \n",
       "4       0   21    1     1           3           0.5                 1   \n",
       "\n",
       "   mood_after_work  deadline  importance  sleep_average  productive_time  \\\n",
       "0                1         4           1            7.0                0   \n",
       "1                0         3           1            7.0                0   \n",
       "2                0         1           1            5.0                0   \n",
       "3                1         1           2            5.0                0   \n",
       "4                0         1           2            6.0                0   \n",
       "\n",
       "   urgency  total_gangguan  work_hour_label  \n",
       "0        2               4                2  \n",
       "1        3               3                0  \n",
       "2        1               1                2  \n",
       "3        2               3                0  \n",
       "4        4               1                2  "
      ]
     },
     "execution_count": 35,
     "metadata": {},
     "output_type": "execute_result"
    }
   ],
   "source": [
    "df2.head()"
   ]
  },
  {
   "cell_type": "code",
   "execution_count": 37,
   "metadata": {},
   "outputs": [],
   "source": [
    "df_concate = pd.concat([df, df2], axis = 0)"
   ]
  },
  {
   "cell_type": "code",
   "execution_count": 38,
   "metadata": {},
   "outputs": [],
   "source": [
    "df_concate.to_csv('concate_df.csv', sep='|', index=False)"
   ]
  },
  {
   "cell_type": "code",
   "execution_count": null,
   "metadata": {},
   "outputs": [],
   "source": []
  }
 ],
 "metadata": {
  "kernelspec": {
   "display_name": "Python 3",
   "language": "python",
   "name": "python3"
  },
  "language_info": {
   "codemirror_mode": {
    "name": "ipython",
    "version": 3
   },
   "file_extension": ".py",
   "mimetype": "text/x-python",
   "name": "python",
   "nbconvert_exporter": "python",
   "pygments_lexer": "ipython3",
   "version": "3.12.3"
  }
 },
 "nbformat": 4,
 "nbformat_minor": 2
}
