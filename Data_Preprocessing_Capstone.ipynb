{
  "nbformat": 4,
  "nbformat_minor": 0,
  "metadata": {
    "colab": {
      "provenance": []
    },
    "kernelspec": {
      "name": "python3",
      "display_name": "Python 3"
    },
    "language_info": {
      "name": "python"
    }
  },
  "cells": [
    {
      "cell_type": "code",
      "execution_count": 325,
      "metadata": {
        "id": "N_ZJ24X_DEbJ"
      },
      "outputs": [],
      "source": [
        "import pandas as pd\n",
        "import random\n",
        "import numpy as np\n",
        "from functools import reduce\n",
        "from google.colab import files"
      ]
    },
    {
      "cell_type": "markdown",
      "source": [
        "## **Read File**"
      ],
      "metadata": {
        "id": "gkrXeUoUFyTC"
      }
    },
    {
      "cell_type": "code",
      "source": [
        "from google.colab import drive\n",
        "drive.mount('/content/drive')"
      ],
      "metadata": {
        "colab": {
          "base_uri": "https://localhost:8080/"
        },
        "id": "BE6tixR-t7qk",
        "outputId": "2e3e0a7b-fe66-4811-c694-921b66640e4d"
      },
      "execution_count": 326,
      "outputs": [
        {
          "output_type": "stream",
          "name": "stdout",
          "text": [
            "Drive already mounted at /content/drive; to attempt to forcibly remount, call drive.mount(\"/content/drive\", force_remount=True).\n"
          ]
        }
      ]
    },
    {
      "cell_type": "code",
      "source": [
        "df = pd.read_excel('/content/drive/MyDrive/Colab Notebooks/Capstone Project/Time Management and Productivity Scale (Responses)_1.xlsx')"
      ],
      "metadata": {
        "id": "PVkpd_bruGBm"
      },
      "execution_count": 327,
      "outputs": []
    },
    {
      "cell_type": "markdown",
      "source": [
        "## **Ganti Nama Kolom**"
      ],
      "metadata": {
        "id": "XKHsycywGgTu"
      }
    },
    {
      "cell_type": "code",
      "source": [
        "df.columns"
      ],
      "metadata": {
        "id": "Hpi7dYaPStdH",
        "colab": {
          "base_uri": "https://localhost:8080/"
        },
        "outputId": "b32a9dc2-8861-4237-9c44-d4ba1fbc2773"
      },
      "execution_count": 328,
      "outputs": [
        {
          "output_type": "execute_result",
          "data": {
            "text/plain": [
              "Index(['Timestamp', 'Nama Lengkap:', 'Jenis Kelamin:',\n",
              "       'Umur: \\n(Petunjuk: 17 tahun → 17)', 'Pekerjaan:',\n",
              "       'Saya mengisi kuisioner ini secara sukarela dan bersedia memberikan jawaban yang jujur dan sesuai dengan kondisi saya. Saya juga mengizinkan peneliti untuk menggunakan data yang saya berikan sebagai keperluan capstone project.',\n",
              "       'Apa jenis tugas yang biasanya Anda kerjakan?',\n",
              "       'Berapa hari yang dihabiskan untuk melakukan pekerjaan/kegiatan utama dalam seminggu?',\n",
              "       'Bagaimana Anda menilai tingkat kesulitan tugas yang biasanya Anda kerjakan?',\n",
              "       'Berapa rata-rata waktu yang Anda habiskan untuk bekerja/mengerjakan tugas?\\n(Petunjuk: Jawab dengan angka saja, dalam jam. Contoh: 6 jam → 6, atau 7 jam 30 menit → 7.5) ',\n",
              "       'Berapa rata-rata waktu istirahat Anda di sela-sela bekerja/mengerjakan tugas dalam sehari? (Istirahat selain tidur)\\n(Petunjuk: Jawab dengan angka saja, dalam jam. Contoh: 1 jam → 1, atau 3 jam 15 menit → 3.25, atau 45 menit → 0.75)',\n",
              "       'Apa saja jenis gangguan yang Anda alami saat bekerja atau menyelesaikan tugas?',\n",
              "       'Bagaimana perasaan atau mood sebelum menyelesaikan tugas?',\n",
              "       'Bagaimana perasaan atau mood setelah menyelesaikan tugas?',\n",
              "       'Berapa lama batas pengerjaan (deadline) tugas yang biasa Anda kerjakan?',\n",
              "       'Biasanya seberapa penting pekerjaan atau tugas yang Anda kerjakan dalam mencapai tujuan Anda?',\n",
              "       'Berapa rata-rata waktu yang Anda habiskan untuk tidur dalam sehari? \\n(Petunjuk: Jawab dengan angka saja, dalam jam. Contoh: 1 jam → 1, atau 3 jam 30 menit → 3.5)',\n",
              "       'Email Address',\n",
              "       'Kalau menurut Anda, kapan Anda merasa paling produktif dalam sehari?',\n",
              "       'Biasanya seberapa mendesak pekerjaan atau tugas yang harus Anda diselesaikan?',\n",
              "       'Pada rentang waktu berapa Anda biasanya tidur ? [23:00 - 06:00]',\n",
              "       'Pada rentang waktu berapa Anda biasanya tidur ? [23:00 - 07:00]',\n",
              "       'Pada rentang waktu berapa Anda biasanya tidur ? [24:00 - 07:30]'],\n",
              "      dtype='object')"
            ]
          },
          "metadata": {},
          "execution_count": 328
        }
      ]
    },
    {
      "cell_type": "code",
      "source": [
        "df = df.rename(columns={'Nama Lengkap:' : 'name', 'Jenis Kelamin:' : 'gender', 'Umur: \\n(Petunjuk: 17 tahun → 17)' : 'age',\n",
        "                   'Pekerjaan:' : 'job', 'Apa jenis tugas yang biasanya Anda kerjakan?' : 'task',\n",
        "                   'Berapa hari yang dihabiskan untuk melakukan pekerjaan/kegiatan utama dalam seminggu?' : 'work_days',\n",
        "                   'Bagaimana Anda menilai tingkat kesulitan tugas yang biasanya Anda kerjakan?' : 'difficulty',\n",
        "                   'Berapa rata-rata waktu yang Anda habiskan untuk bekerja/mengerjakan tugas?\\n(Petunjuk: Jawab dengan angka saja, dalam jam. Contoh: 6 jam → 6, atau 7 jam 30 menit → 7.5) ' : 'average_work_hour',\n",
        "                   'Berapa rata-rata waktu istirahat Anda di sela-sela bekerja/mengerjakan tugas dalam sehari? (Istirahat selain tidur)\\n(Petunjuk: Jawab dengan angka saja, dalam jam. Contoh: 1 jam → 1, atau 3 jam 15 menit → 3.25, atau 45 menit → 0.75)' : 'average_rest',\n",
        "                   'Apa saja jenis gangguan yang Anda alami saat bekerja atau menyelesaikan tugas?' : 'distraction',\n",
        "                   'Bagaimana perasaan atau mood sebelum menyelesaikan tugas?' : 'mood_before_work',\n",
        "                   'Bagaimana perasaan atau mood setelah menyelesaikan tugas?' : 'mood_after_work',\n",
        "                   'Berapa lama batas pengerjaan (deadline) tugas yang biasa Anda kerjakan?' : 'deadline',\n",
        "                   'Biasanya seberapa penting pekerjaan atau tugas yang Anda kerjakan dalam mencapai tujuan Anda?' : 'importance',\n",
        "                   'Berapa rata-rata waktu yang Anda habiskan untuk tidur dalam sehari? \\n(Petunjuk: Jawab dengan angka saja, dalam jam. Contoh: 1 jam → 1, atau 3 jam 30 menit → 3.5)' : 'sleep_average',\n",
        "                   'Kalau menurut Anda, kapan Anda merasa paling produktif dalam sehari?' : 'productive_time',\n",
        "                   'Biasanya seberapa mendesak pekerjaan atau tugas yang harus Anda diselesaikan?' : 'urgency'\n",
        "                    })"
      ],
      "metadata": {
        "id": "vdHrvDrGJ1e7"
      },
      "execution_count": 329,
      "outputs": []
    },
    {
      "cell_type": "code",
      "source": [
        "df.head(5)"
      ],
      "metadata": {
        "id": "IyhkCTH4NjpA",
        "colab": {
          "base_uri": "https://localhost:8080/",
          "height": 845
        },
        "outputId": "96ec98d5-27f5-4aa8-e79b-1090e977b72b"
      },
      "execution_count": 330,
      "outputs": [
        {
          "output_type": "execute_result",
          "data": {
            "text/plain": [
              "                Timestamp                          name     gender  age  \\\n",
              "0 2024-05-02 11:05:49.973  Andi Ichel Bidara Zalsabila   Perempuan   21   \n",
              "1 2024-05-02 11:09:46.496            Zahrah Syampratiwi  Perempuan   21   \n",
              "2 2024-05-02 11:14:20.802               Muhammad Raihan  Laki-laki   21   \n",
              "3 2024-05-02 11:15:38.724     Lianizar Hayunaji Septama  Laki-laki   20   \n",
              "4 2024-05-02 11:15:44.805                  Adhimas Jaya  Laki-laki   21   \n",
              "\n",
              "                        job  \\\n",
              "0           Siswa/Mahasiswa   \n",
              "1           Siswa/Mahasiswa   \n",
              "2           Siswa/Mahasiswa   \n",
              "3           Siswa/Mahasiswa   \n",
              "4  Pegawai/Pekerja kantoran   \n",
              "\n",
              "  Saya mengisi kuisioner ini secara sukarela dan bersedia memberikan jawaban yang jujur dan sesuai dengan kondisi saya. Saya juga mengizinkan peneliti untuk menggunakan data yang saya berikan sebagai keperluan capstone project.  \\\n",
              "0                                  Ya, saya bersedia                                                                                                                                                                                  \n",
              "1                                  Ya, saya bersedia                                                                                                                                                                                  \n",
              "2                                  Ya, saya bersedia                                                                                                                                                                                  \n",
              "3                                  Ya, saya bersedia                                                                                                                                                                                  \n",
              "4                                  Ya, saya bersedia                                                                                                                                                                                  \n",
              "\n",
              "            task   work_days  difficulty  average_work_hour  ...  \\\n",
              "0     Penelitian  4 - 6 hari           4               10.0  ...   \n",
              "1  Administratif  4 - 6 hari           2                4.0  ...   \n",
              "2        Kreatif  3 - 5 hari           4                6.0  ...   \n",
              "3       Akademik  3 - 5 hari           3                7.0  ...   \n",
              "4     Komunikasi  5 - 7 hari           2                1.5  ...   \n",
              "\n",
              "   mood_after_work              deadline importance sleep_average  \\\n",
              "0             Lega     1 hingga 2 minggu          4         5 jam   \n",
              "1             Puas  Kurang dari 1 minggu          2         7 jam   \n",
              "2             Lega     1 hingga 2 minggu          2         6 jam   \n",
              "3             Lega     1 hingga 2 minggu          4         6 jam   \n",
              "4             Puas  Kurang dari 1 minggu          5         5 jam   \n",
              "\n",
              "  Email Address  productive_time urgency  \\\n",
              "0           NaN              NaN     NaN   \n",
              "1           NaN              NaN     NaN   \n",
              "2           NaN              NaN     NaN   \n",
              "3           NaN              NaN     NaN   \n",
              "4           NaN              NaN     NaN   \n",
              "\n",
              "  Pada rentang waktu berapa Anda biasanya tidur ? [23:00 - 06:00]  \\\n",
              "0                                                NaN                \n",
              "1                                                NaN                \n",
              "2                                                NaN                \n",
              "3                                                NaN                \n",
              "4                                                NaN                \n",
              "\n",
              "  Pada rentang waktu berapa Anda biasanya tidur ? [23:00 - 07:00]  \\\n",
              "0                                                NaN                \n",
              "1                                                NaN                \n",
              "2                                                NaN                \n",
              "3                                                NaN                \n",
              "4                                                NaN                \n",
              "\n",
              "   Pada rentang waktu berapa Anda biasanya tidur ? [24:00 - 07:30]  \n",
              "0                                                NaN                \n",
              "1                                                NaN                \n",
              "2                                                NaN                \n",
              "3                                                NaN                \n",
              "4                                                NaN                \n",
              "\n",
              "[5 rows x 23 columns]"
            ],
            "text/html": [
              "\n",
              "  <div id=\"df-ab553f15-706b-48c0-861a-80f1fb99503b\" class=\"colab-df-container\">\n",
              "    <div>\n",
              "<style scoped>\n",
              "    .dataframe tbody tr th:only-of-type {\n",
              "        vertical-align: middle;\n",
              "    }\n",
              "\n",
              "    .dataframe tbody tr th {\n",
              "        vertical-align: top;\n",
              "    }\n",
              "\n",
              "    .dataframe thead th {\n",
              "        text-align: right;\n",
              "    }\n",
              "</style>\n",
              "<table border=\"1\" class=\"dataframe\">\n",
              "  <thead>\n",
              "    <tr style=\"text-align: right;\">\n",
              "      <th></th>\n",
              "      <th>Timestamp</th>\n",
              "      <th>name</th>\n",
              "      <th>gender</th>\n",
              "      <th>age</th>\n",
              "      <th>job</th>\n",
              "      <th>Saya mengisi kuisioner ini secara sukarela dan bersedia memberikan jawaban yang jujur dan sesuai dengan kondisi saya. Saya juga mengizinkan peneliti untuk menggunakan data yang saya berikan sebagai keperluan capstone project.</th>\n",
              "      <th>task</th>\n",
              "      <th>work_days</th>\n",
              "      <th>difficulty</th>\n",
              "      <th>average_work_hour</th>\n",
              "      <th>...</th>\n",
              "      <th>mood_after_work</th>\n",
              "      <th>deadline</th>\n",
              "      <th>importance</th>\n",
              "      <th>sleep_average</th>\n",
              "      <th>Email Address</th>\n",
              "      <th>productive_time</th>\n",
              "      <th>urgency</th>\n",
              "      <th>Pada rentang waktu berapa Anda biasanya tidur ? [23:00 - 06:00]</th>\n",
              "      <th>Pada rentang waktu berapa Anda biasanya tidur ? [23:00 - 07:00]</th>\n",
              "      <th>Pada rentang waktu berapa Anda biasanya tidur ? [24:00 - 07:30]</th>\n",
              "    </tr>\n",
              "  </thead>\n",
              "  <tbody>\n",
              "    <tr>\n",
              "      <th>0</th>\n",
              "      <td>2024-05-02 11:05:49.973</td>\n",
              "      <td>Andi Ichel Bidara Zalsabila</td>\n",
              "      <td>Perempuan</td>\n",
              "      <td>21</td>\n",
              "      <td>Siswa/Mahasiswa</td>\n",
              "      <td>Ya, saya bersedia</td>\n",
              "      <td>Penelitian</td>\n",
              "      <td>4 - 6 hari</td>\n",
              "      <td>4</td>\n",
              "      <td>10.0</td>\n",
              "      <td>...</td>\n",
              "      <td>Lega</td>\n",
              "      <td>1 hingga 2 minggu</td>\n",
              "      <td>4</td>\n",
              "      <td>5 jam</td>\n",
              "      <td>NaN</td>\n",
              "      <td>NaN</td>\n",
              "      <td>NaN</td>\n",
              "      <td>NaN</td>\n",
              "      <td>NaN</td>\n",
              "      <td>NaN</td>\n",
              "    </tr>\n",
              "    <tr>\n",
              "      <th>1</th>\n",
              "      <td>2024-05-02 11:09:46.496</td>\n",
              "      <td>Zahrah Syampratiwi</td>\n",
              "      <td>Perempuan</td>\n",
              "      <td>21</td>\n",
              "      <td>Siswa/Mahasiswa</td>\n",
              "      <td>Ya, saya bersedia</td>\n",
              "      <td>Administratif</td>\n",
              "      <td>4 - 6 hari</td>\n",
              "      <td>2</td>\n",
              "      <td>4.0</td>\n",
              "      <td>...</td>\n",
              "      <td>Puas</td>\n",
              "      <td>Kurang dari 1 minggu</td>\n",
              "      <td>2</td>\n",
              "      <td>7 jam</td>\n",
              "      <td>NaN</td>\n",
              "      <td>NaN</td>\n",
              "      <td>NaN</td>\n",
              "      <td>NaN</td>\n",
              "      <td>NaN</td>\n",
              "      <td>NaN</td>\n",
              "    </tr>\n",
              "    <tr>\n",
              "      <th>2</th>\n",
              "      <td>2024-05-02 11:14:20.802</td>\n",
              "      <td>Muhammad Raihan</td>\n",
              "      <td>Laki-laki</td>\n",
              "      <td>21</td>\n",
              "      <td>Siswa/Mahasiswa</td>\n",
              "      <td>Ya, saya bersedia</td>\n",
              "      <td>Kreatif</td>\n",
              "      <td>3 - 5 hari</td>\n",
              "      <td>4</td>\n",
              "      <td>6.0</td>\n",
              "      <td>...</td>\n",
              "      <td>Lega</td>\n",
              "      <td>1 hingga 2 minggu</td>\n",
              "      <td>2</td>\n",
              "      <td>6 jam</td>\n",
              "      <td>NaN</td>\n",
              "      <td>NaN</td>\n",
              "      <td>NaN</td>\n",
              "      <td>NaN</td>\n",
              "      <td>NaN</td>\n",
              "      <td>NaN</td>\n",
              "    </tr>\n",
              "    <tr>\n",
              "      <th>3</th>\n",
              "      <td>2024-05-02 11:15:38.724</td>\n",
              "      <td>Lianizar Hayunaji Septama</td>\n",
              "      <td>Laki-laki</td>\n",
              "      <td>20</td>\n",
              "      <td>Siswa/Mahasiswa</td>\n",
              "      <td>Ya, saya bersedia</td>\n",
              "      <td>Akademik</td>\n",
              "      <td>3 - 5 hari</td>\n",
              "      <td>3</td>\n",
              "      <td>7.0</td>\n",
              "      <td>...</td>\n",
              "      <td>Lega</td>\n",
              "      <td>1 hingga 2 minggu</td>\n",
              "      <td>4</td>\n",
              "      <td>6 jam</td>\n",
              "      <td>NaN</td>\n",
              "      <td>NaN</td>\n",
              "      <td>NaN</td>\n",
              "      <td>NaN</td>\n",
              "      <td>NaN</td>\n",
              "      <td>NaN</td>\n",
              "    </tr>\n",
              "    <tr>\n",
              "      <th>4</th>\n",
              "      <td>2024-05-02 11:15:44.805</td>\n",
              "      <td>Adhimas Jaya</td>\n",
              "      <td>Laki-laki</td>\n",
              "      <td>21</td>\n",
              "      <td>Pegawai/Pekerja kantoran</td>\n",
              "      <td>Ya, saya bersedia</td>\n",
              "      <td>Komunikasi</td>\n",
              "      <td>5 - 7 hari</td>\n",
              "      <td>2</td>\n",
              "      <td>1.5</td>\n",
              "      <td>...</td>\n",
              "      <td>Puas</td>\n",
              "      <td>Kurang dari 1 minggu</td>\n",
              "      <td>5</td>\n",
              "      <td>5 jam</td>\n",
              "      <td>NaN</td>\n",
              "      <td>NaN</td>\n",
              "      <td>NaN</td>\n",
              "      <td>NaN</td>\n",
              "      <td>NaN</td>\n",
              "      <td>NaN</td>\n",
              "    </tr>\n",
              "  </tbody>\n",
              "</table>\n",
              "<p>5 rows × 23 columns</p>\n",
              "</div>\n",
              "    <div class=\"colab-df-buttons\">\n",
              "\n",
              "  <div class=\"colab-df-container\">\n",
              "    <button class=\"colab-df-convert\" onclick=\"convertToInteractive('df-ab553f15-706b-48c0-861a-80f1fb99503b')\"\n",
              "            title=\"Convert this dataframe to an interactive table.\"\n",
              "            style=\"display:none;\">\n",
              "\n",
              "  <svg xmlns=\"http://www.w3.org/2000/svg\" height=\"24px\" viewBox=\"0 -960 960 960\">\n",
              "    <path d=\"M120-120v-720h720v720H120Zm60-500h600v-160H180v160Zm220 220h160v-160H400v160Zm0 220h160v-160H400v160ZM180-400h160v-160H180v160Zm440 0h160v-160H620v160ZM180-180h160v-160H180v160Zm440 0h160v-160H620v160Z\"/>\n",
              "  </svg>\n",
              "    </button>\n",
              "\n",
              "  <style>\n",
              "    .colab-df-container {\n",
              "      display:flex;\n",
              "      gap: 12px;\n",
              "    }\n",
              "\n",
              "    .colab-df-convert {\n",
              "      background-color: #E8F0FE;\n",
              "      border: none;\n",
              "      border-radius: 50%;\n",
              "      cursor: pointer;\n",
              "      display: none;\n",
              "      fill: #1967D2;\n",
              "      height: 32px;\n",
              "      padding: 0 0 0 0;\n",
              "      width: 32px;\n",
              "    }\n",
              "\n",
              "    .colab-df-convert:hover {\n",
              "      background-color: #E2EBFA;\n",
              "      box-shadow: 0px 1px 2px rgba(60, 64, 67, 0.3), 0px 1px 3px 1px rgba(60, 64, 67, 0.15);\n",
              "      fill: #174EA6;\n",
              "    }\n",
              "\n",
              "    .colab-df-buttons div {\n",
              "      margin-bottom: 4px;\n",
              "    }\n",
              "\n",
              "    [theme=dark] .colab-df-convert {\n",
              "      background-color: #3B4455;\n",
              "      fill: #D2E3FC;\n",
              "    }\n",
              "\n",
              "    [theme=dark] .colab-df-convert:hover {\n",
              "      background-color: #434B5C;\n",
              "      box-shadow: 0px 1px 3px 1px rgba(0, 0, 0, 0.15);\n",
              "      filter: drop-shadow(0px 1px 2px rgba(0, 0, 0, 0.3));\n",
              "      fill: #FFFFFF;\n",
              "    }\n",
              "  </style>\n",
              "\n",
              "    <script>\n",
              "      const buttonEl =\n",
              "        document.querySelector('#df-ab553f15-706b-48c0-861a-80f1fb99503b button.colab-df-convert');\n",
              "      buttonEl.style.display =\n",
              "        google.colab.kernel.accessAllowed ? 'block' : 'none';\n",
              "\n",
              "      async function convertToInteractive(key) {\n",
              "        const element = document.querySelector('#df-ab553f15-706b-48c0-861a-80f1fb99503b');\n",
              "        const dataTable =\n",
              "          await google.colab.kernel.invokeFunction('convertToInteractive',\n",
              "                                                    [key], {});\n",
              "        if (!dataTable) return;\n",
              "\n",
              "        const docLinkHtml = 'Like what you see? Visit the ' +\n",
              "          '<a target=\"_blank\" href=https://colab.research.google.com/notebooks/data_table.ipynb>data table notebook</a>'\n",
              "          + ' to learn more about interactive tables.';\n",
              "        element.innerHTML = '';\n",
              "        dataTable['output_type'] = 'display_data';\n",
              "        await google.colab.output.renderOutput(dataTable, element);\n",
              "        const docLink = document.createElement('div');\n",
              "        docLink.innerHTML = docLinkHtml;\n",
              "        element.appendChild(docLink);\n",
              "      }\n",
              "    </script>\n",
              "  </div>\n",
              "\n",
              "\n",
              "<div id=\"df-9bbb3357-efd9-4f6e-a598-5399b5d81798\">\n",
              "  <button class=\"colab-df-quickchart\" onclick=\"quickchart('df-9bbb3357-efd9-4f6e-a598-5399b5d81798')\"\n",
              "            title=\"Suggest charts\"\n",
              "            style=\"display:none;\">\n",
              "\n",
              "<svg xmlns=\"http://www.w3.org/2000/svg\" height=\"24px\"viewBox=\"0 0 24 24\"\n",
              "     width=\"24px\">\n",
              "    <g>\n",
              "        <path d=\"M19 3H5c-1.1 0-2 .9-2 2v14c0 1.1.9 2 2 2h14c1.1 0 2-.9 2-2V5c0-1.1-.9-2-2-2zM9 17H7v-7h2v7zm4 0h-2V7h2v10zm4 0h-2v-4h2v4z\"/>\n",
              "    </g>\n",
              "</svg>\n",
              "  </button>\n",
              "\n",
              "<style>\n",
              "  .colab-df-quickchart {\n",
              "      --bg-color: #E8F0FE;\n",
              "      --fill-color: #1967D2;\n",
              "      --hover-bg-color: #E2EBFA;\n",
              "      --hover-fill-color: #174EA6;\n",
              "      --disabled-fill-color: #AAA;\n",
              "      --disabled-bg-color: #DDD;\n",
              "  }\n",
              "\n",
              "  [theme=dark] .colab-df-quickchart {\n",
              "      --bg-color: #3B4455;\n",
              "      --fill-color: #D2E3FC;\n",
              "      --hover-bg-color: #434B5C;\n",
              "      --hover-fill-color: #FFFFFF;\n",
              "      --disabled-bg-color: #3B4455;\n",
              "      --disabled-fill-color: #666;\n",
              "  }\n",
              "\n",
              "  .colab-df-quickchart {\n",
              "    background-color: var(--bg-color);\n",
              "    border: none;\n",
              "    border-radius: 50%;\n",
              "    cursor: pointer;\n",
              "    display: none;\n",
              "    fill: var(--fill-color);\n",
              "    height: 32px;\n",
              "    padding: 0;\n",
              "    width: 32px;\n",
              "  }\n",
              "\n",
              "  .colab-df-quickchart:hover {\n",
              "    background-color: var(--hover-bg-color);\n",
              "    box-shadow: 0 1px 2px rgba(60, 64, 67, 0.3), 0 1px 3px 1px rgba(60, 64, 67, 0.15);\n",
              "    fill: var(--button-hover-fill-color);\n",
              "  }\n",
              "\n",
              "  .colab-df-quickchart-complete:disabled,\n",
              "  .colab-df-quickchart-complete:disabled:hover {\n",
              "    background-color: var(--disabled-bg-color);\n",
              "    fill: var(--disabled-fill-color);\n",
              "    box-shadow: none;\n",
              "  }\n",
              "\n",
              "  .colab-df-spinner {\n",
              "    border: 2px solid var(--fill-color);\n",
              "    border-color: transparent;\n",
              "    border-bottom-color: var(--fill-color);\n",
              "    animation:\n",
              "      spin 1s steps(1) infinite;\n",
              "  }\n",
              "\n",
              "  @keyframes spin {\n",
              "    0% {\n",
              "      border-color: transparent;\n",
              "      border-bottom-color: var(--fill-color);\n",
              "      border-left-color: var(--fill-color);\n",
              "    }\n",
              "    20% {\n",
              "      border-color: transparent;\n",
              "      border-left-color: var(--fill-color);\n",
              "      border-top-color: var(--fill-color);\n",
              "    }\n",
              "    30% {\n",
              "      border-color: transparent;\n",
              "      border-left-color: var(--fill-color);\n",
              "      border-top-color: var(--fill-color);\n",
              "      border-right-color: var(--fill-color);\n",
              "    }\n",
              "    40% {\n",
              "      border-color: transparent;\n",
              "      border-right-color: var(--fill-color);\n",
              "      border-top-color: var(--fill-color);\n",
              "    }\n",
              "    60% {\n",
              "      border-color: transparent;\n",
              "      border-right-color: var(--fill-color);\n",
              "    }\n",
              "    80% {\n",
              "      border-color: transparent;\n",
              "      border-right-color: var(--fill-color);\n",
              "      border-bottom-color: var(--fill-color);\n",
              "    }\n",
              "    90% {\n",
              "      border-color: transparent;\n",
              "      border-bottom-color: var(--fill-color);\n",
              "    }\n",
              "  }\n",
              "</style>\n",
              "\n",
              "  <script>\n",
              "    async function quickchart(key) {\n",
              "      const quickchartButtonEl =\n",
              "        document.querySelector('#' + key + ' button');\n",
              "      quickchartButtonEl.disabled = true;  // To prevent multiple clicks.\n",
              "      quickchartButtonEl.classList.add('colab-df-spinner');\n",
              "      try {\n",
              "        const charts = await google.colab.kernel.invokeFunction(\n",
              "            'suggestCharts', [key], {});\n",
              "      } catch (error) {\n",
              "        console.error('Error during call to suggestCharts:', error);\n",
              "      }\n",
              "      quickchartButtonEl.classList.remove('colab-df-spinner');\n",
              "      quickchartButtonEl.classList.add('colab-df-quickchart-complete');\n",
              "    }\n",
              "    (() => {\n",
              "      let quickchartButtonEl =\n",
              "        document.querySelector('#df-9bbb3357-efd9-4f6e-a598-5399b5d81798 button');\n",
              "      quickchartButtonEl.style.display =\n",
              "        google.colab.kernel.accessAllowed ? 'block' : 'none';\n",
              "    })();\n",
              "  </script>\n",
              "</div>\n",
              "    </div>\n",
              "  </div>\n"
            ],
            "application/vnd.google.colaboratory.intrinsic+json": {
              "type": "dataframe",
              "variable_name": "df"
            }
          },
          "metadata": {},
          "execution_count": 330
        }
      ]
    },
    {
      "cell_type": "markdown",
      "source": [
        "## **Menghapus kolom yang tidak digunakan**\n",
        "\n",
        "\n",
        "1.   Timestamp\n",
        "2.   Persetujuan\n",
        "3.   Pada rentang waktu berapa Anda biasanya tidur ? [23:00 - 06:00]\n",
        "4.   Pada rentang waktu berapa Anda biasanya tidur ? [23:00 - 07:00]\n",
        "5.   Pada rentang waktu berapa Anda biasanya tidur ? [24:00 - 07:30]    \n",
        "     \n",
        "\n"
      ],
      "metadata": {
        "id": "w9vbILU-U0SY"
      }
    },
    {
      "cell_type": "code",
      "source": [
        "df.columns"
      ],
      "metadata": {
        "id": "3FXm13xTVqq2",
        "colab": {
          "base_uri": "https://localhost:8080/"
        },
        "outputId": "5cba5e8e-40bc-46d4-e3ce-77793037a3aa"
      },
      "execution_count": 331,
      "outputs": [
        {
          "output_type": "execute_result",
          "data": {
            "text/plain": [
              "Index(['Timestamp', 'name', 'gender', 'age', 'job',\n",
              "       'Saya mengisi kuisioner ini secara sukarela dan bersedia memberikan jawaban yang jujur dan sesuai dengan kondisi saya. Saya juga mengizinkan peneliti untuk menggunakan data yang saya berikan sebagai keperluan capstone project.',\n",
              "       'task', 'work_days', 'difficulty', 'average_work_hour', 'average_rest',\n",
              "       'distraction', 'mood_before_work', 'mood_after_work', 'deadline',\n",
              "       'importance', 'sleep_average', 'Email Address', 'productive_time',\n",
              "       'urgency',\n",
              "       'Pada rentang waktu berapa Anda biasanya tidur ? [23:00 - 06:00]',\n",
              "       'Pada rentang waktu berapa Anda biasanya tidur ? [23:00 - 07:00]',\n",
              "       'Pada rentang waktu berapa Anda biasanya tidur ? [24:00 - 07:30]'],\n",
              "      dtype='object')"
            ]
          },
          "metadata": {},
          "execution_count": 331
        }
      ]
    },
    {
      "cell_type": "code",
      "source": [
        "delete_column = ['Timestamp', 'Saya mengisi kuisioner ini secara sukarela dan bersedia memberikan jawaban yang jujur dan sesuai dengan kondisi saya. Saya juga mengizinkan peneliti untuk menggunakan data yang saya berikan sebagai keperluan capstone project.',\n",
        "                 'Pada rentang waktu berapa Anda biasanya tidur ? [23:00 - 06:00]', 'Pada rentang waktu berapa Anda biasanya tidur ? [23:00 - 07:00]',\n",
        "                 'Pada rentang waktu berapa Anda biasanya tidur ? [24:00 - 07:30]', 'Email Address']\n",
        "df = df.drop(columns=delete_column)\n",
        "df.columns"
      ],
      "metadata": {
        "id": "b7Pnxo-rWY9n",
        "colab": {
          "base_uri": "https://localhost:8080/"
        },
        "outputId": "b7fc1c74-b6c8-4cba-b41e-f97eb13c198b"
      },
      "execution_count": 332,
      "outputs": [
        {
          "output_type": "execute_result",
          "data": {
            "text/plain": [
              "Index(['name', 'gender', 'age', 'job', 'task', 'work_days', 'difficulty',\n",
              "       'average_work_hour', 'average_rest', 'distraction', 'mood_before_work',\n",
              "       'mood_after_work', 'deadline', 'importance', 'sleep_average',\n",
              "       'productive_time', 'urgency'],\n",
              "      dtype='object')"
            ]
          },
          "metadata": {},
          "execution_count": 332
        }
      ]
    },
    {
      "cell_type": "markdown",
      "source": [
        "## **Menghapus data duplikat (nama)**"
      ],
      "metadata": {
        "id": "gGqz4ciXXuq9"
      }
    },
    {
      "cell_type": "code",
      "source": [
        "df = df.drop_duplicates(subset='name', keep='last')\n",
        "print(df)"
      ],
      "metadata": {
        "id": "xK0Lu8y_WcAR",
        "colab": {
          "base_uri": "https://localhost:8080/"
        },
        "outputId": "4633a242-fe42-4545-ec1e-1af69b65192b"
      },
      "execution_count": 333,
      "outputs": [
        {
          "output_type": "stream",
          "name": "stdout",
          "text": [
            "                                name     gender  age  \\\n",
            "0       Andi Ichel Bidara Zalsabila   Perempuan   21   \n",
            "4                       Adhimas Jaya  Laki-laki   21   \n",
            "5       Nur Endra Purwa Maulana Jati  Laki-laki   20   \n",
            "6                    Misbach Choirun  Laki-laki   21   \n",
            "7                               Eris  Laki-laki   21   \n",
            "..                               ...        ...  ...   \n",
            "126      Almas Fa'iq Khairul Ikhwan   Laki-laki   21   \n",
            "127           Nosten Saputra Sitorus  Laki-laki   21   \n",
            "128                         Ehshshsh  Laki-laki   31   \n",
            "129  Vebie Yoseva Theresia Pasaribu   Perempuan   19   \n",
            "130               Hilya Faizatunnisa  Perempuan   20   \n",
            "\n",
            "                          job                                           task  \\\n",
            "0             Siswa/Mahasiswa                                     Penelitian   \n",
            "4    Pegawai/Pekerja kantoran                                     Komunikasi   \n",
            "5             Siswa/Mahasiswa                                        Kreatif   \n",
            "6    Pegawai/Pekerja kantoran                                       Akademik   \n",
            "7             Siswa/Mahasiswa                                       Analitis   \n",
            "..                        ...                                            ...   \n",
            "126           Siswa/Mahasiswa  Akademik (Dosen, Guru, Siswa, Mahasiswa, dll)   \n",
            "127           Siswa/Mahasiswa          Kreatif (Desain grafis, Penulis, dll)   \n",
            "128           Siswa/Mahasiswa          Kreatif (Desain grafis, Penulis, dll)   \n",
            "129           Siswa/Mahasiswa  Akademik (Dosen, Guru, Siswa, Mahasiswa, dll)   \n",
            "130           Siswa/Mahasiswa  Akademik (Dosen, Guru, Siswa, Mahasiswa, dll)   \n",
            "\n",
            "      work_days  difficulty  average_work_hour  average_rest  \\\n",
            "0    4 - 6 hari           4               10.0          2.00   \n",
            "4    5 - 7 hari           2                1.5         30.00   \n",
            "5    4 - 6 hari           4                7.0         10.00   \n",
            "6    4 - 6 hari           3                2.0         60.00   \n",
            "7    2 - 4 hari           3                4.0         30.00   \n",
            "..          ...         ...                ...           ...   \n",
            "126      3 hari           3                6.0          0.75   \n",
            "127      4 hari           3                7.0         20.00   \n",
            "128      3 hari           5               69.0        100.00   \n",
            "129      6 hari           4                8.0          3.00   \n",
            "130      5 hari           4                3.0          0.50   \n",
            "\n",
            "                                           distraction mood_before_work  \\\n",
            "0                    Gangguan dari lingkungan sekitar          Semangat   \n",
            "4                              Gangguan dari internal          Semangat   \n",
            "5                  Gangguan dari perangkat elektronik             Malas   \n",
            "6                  Gangguan dari perangkat elektronik             Cemas   \n",
            "7                  Gangguan dari perangkat elektronik          Semangat   \n",
            "..                                                 ...              ...   \n",
            "126  Gangguan dari teman atau rekan kerja, Gangguan...         Semangat   \n",
            "127                Gangguan dari perangkat elektronik             Malas   \n",
            "128  Panggilan Telepon, Gangguan dari teman atau re...         Semangat   \n",
            "129  Gangguan dari teman atau rekan kerja, Gangguan...            Malas   \n",
            "130  Gangguan dari perangkat elektronik , Gangguan ...            Malas   \n",
            "\n",
            "    mood_after_work                deadline  importance sleep_average  \\\n",
            "0              Lega       1 hingga 2 minggu           4         5 jam   \n",
            "4              Puas    Kurang dari 1 minggu           5         5 jam   \n",
            "5              Lega    Kurang dari 1 minggu           5         4 jam   \n",
            "6              Lega    Kurang dari 1 minggu           2         8 jam   \n",
            "7              Lega    Kurang dari 1 minggu           2         5 jam   \n",
            "..              ...                     ...         ...           ...   \n",
            "126            Lega       1 hingga 2 minggu           2             8   \n",
            "127            Lega      Kurang dari 3 hari           2             7   \n",
            "128            Puas  3 hari hingga 1 minggu           5           100   \n",
            "129            Lega  3 hari hingga 1 minggu           1             5   \n",
            "130            Lega       1 hingga 2 minggu           4             4   \n",
            "\n",
            "    productive_time  urgency  \n",
            "0               NaN      NaN  \n",
            "4               NaN      NaN  \n",
            "5               NaN      NaN  \n",
            "6               NaN      NaN  \n",
            "7               NaN      NaN  \n",
            "..              ...      ...  \n",
            "126   10:00 - 14:00      3.0  \n",
            "127   15:00 - 19:00      2.0  \n",
            "128   15:00 - 19:00      5.0  \n",
            "129   15:00 - 19:00      2.0  \n",
            "130   10:00 - 14:00      4.0  \n",
            "\n",
            "[122 rows x 17 columns]\n"
          ]
        }
      ]
    },
    {
      "cell_type": "markdown",
      "source": [
        "## **Encoded Data**"
      ],
      "metadata": {
        "id": "pcPOn-QteSa3"
      }
    },
    {
      "cell_type": "code",
      "source": [
        "encoding = {\"gender\" : {\"Laki-laki\" : 0, \"Perempuan\": 1},\n",
        "            \"job\" : {\"Pegawai/Pekerja kantoran\" : 0, \"Siswa/Mahasiswa\" : 1, \"Pengusaha\" : 2, \"Buruh\" : 4},\n",
        "            \"task\" : {\"Kreatif (Desain grafis, Penulis, dll)\" : 0, \"Kreatif\" : 0,\n",
        "                      \"Analitis (Analisis data, Analisis keuangan, dll)\" : 1, \"Analitis\" : 1, \"Proyek dan koding\" : 1,\n",
        "                      \"Fisik (Pemain sepak bola, Pemain voli, Buruh, dll)\" : 2, \"Fisik\" : 2,\n",
        "                      \"Administratif (Admin, Sekretaris, dll)\" : 3, \"Administratif\" : 3,\n",
        "                      \"Komunikasi (Jurnalis, Penyiar, Public relation, dll)\" : 4, \"Komunikasi\" : 4,\n",
        "                      \"Penelitian (Peneliti lingkungan, Peneliti budaya, Data scientist, dll)\" : 5, \"Penelitian\" : 5,\n",
        "                      \"Akademik (Dosen, Guru, Siswa, Mahasiswa, dll)\" : 6, \"Akademik\" : 6},\n",
        "            \"mood_before_work\" : {\"Semangat\" : 0, \"Cemas\" : 1, \"Malas\" : 2},\n",
        "            \"mood_after_work\" : {\"Puas\" : 0, \"Lega\" : 1, \"Kecewa\" : 2},\n",
        "            \"deadline\" : {\"Kurang dari 3 hari\" : 0, \"3 hari hingga 1 minggu\" : 1, \"Kurang dari 1 minggu\" : 1,  \"1 hingga 2 minggu\" : 2, \"2 minggu hingga 1 bulan\" : 3,\n",
        "                          \"Lebih dari 1 bulan\" : 4},\n",
        "            \"productive_time\" : {\"09:00 - 14:00\" : 0, \"09:00 - 12:00\" : 0, \"10:00 - 14:00\" : 2, \"13:00 - 17:00\" : 3, \"15:00 - 19:00\" : 4, \"23:00 - 06:00\" : None}}\n",
        "df.replace(encoding, inplace=True)\n",
        "print(df)"
      ],
      "metadata": {
        "id": "67c_aE12eWq9",
        "colab": {
          "base_uri": "https://localhost:8080/"
        },
        "outputId": "1753d29d-ae61-4b5d-e6ab-4f505f2b4fed"
      },
      "execution_count": 334,
      "outputs": [
        {
          "output_type": "stream",
          "name": "stdout",
          "text": [
            "                                name  gender  age  job  task   work_days  \\\n",
            "0       Andi Ichel Bidara Zalsabila        1   21    1     5  4 - 6 hari   \n",
            "4                       Adhimas Jaya       0   21    0     4  5 - 7 hari   \n",
            "5       Nur Endra Purwa Maulana Jati       0   20    1     0  4 - 6 hari   \n",
            "6                    Misbach Choirun       0   21    0     6  4 - 6 hari   \n",
            "7                               Eris       0   21    1     1  2 - 4 hari   \n",
            "..                               ...     ...  ...  ...   ...         ...   \n",
            "126      Almas Fa'iq Khairul Ikhwan        0   21    1     6      3 hari   \n",
            "127           Nosten Saputra Sitorus       0   21    1     0      4 hari   \n",
            "128                         Ehshshsh       0   31    1     0      3 hari   \n",
            "129  Vebie Yoseva Theresia Pasaribu        1   19    1     6      6 hari   \n",
            "130               Hilya Faizatunnisa       1   20    1     6      5 hari   \n",
            "\n",
            "     difficulty  average_work_hour  average_rest  \\\n",
            "0             4               10.0          2.00   \n",
            "4             2                1.5         30.00   \n",
            "5             4                7.0         10.00   \n",
            "6             3                2.0         60.00   \n",
            "7             3                4.0         30.00   \n",
            "..          ...                ...           ...   \n",
            "126           3                6.0          0.75   \n",
            "127           3                7.0         20.00   \n",
            "128           5               69.0        100.00   \n",
            "129           4                8.0          3.00   \n",
            "130           4                3.0          0.50   \n",
            "\n",
            "                                           distraction  mood_before_work  \\\n",
            "0                    Gangguan dari lingkungan sekitar                  0   \n",
            "4                              Gangguan dari internal                  0   \n",
            "5                  Gangguan dari perangkat elektronik                  2   \n",
            "6                  Gangguan dari perangkat elektronik                  1   \n",
            "7                  Gangguan dari perangkat elektronik                  0   \n",
            "..                                                 ...               ...   \n",
            "126  Gangguan dari teman atau rekan kerja, Gangguan...                 0   \n",
            "127                Gangguan dari perangkat elektronik                  2   \n",
            "128  Panggilan Telepon, Gangguan dari teman atau re...                 0   \n",
            "129  Gangguan dari teman atau rekan kerja, Gangguan...                 2   \n",
            "130  Gangguan dari perangkat elektronik , Gangguan ...                 2   \n",
            "\n",
            "     mood_after_work  deadline  importance sleep_average  productive_time  \\\n",
            "0                  1         2           4         5 jam              NaN   \n",
            "4                  0         1           5         5 jam              NaN   \n",
            "5                  1         1           5         4 jam              NaN   \n",
            "6                  1         1           2         8 jam              NaN   \n",
            "7                  1         1           2         5 jam              NaN   \n",
            "..               ...       ...         ...           ...              ...   \n",
            "126                1         2           2             8              2.0   \n",
            "127                1         0           2             7              4.0   \n",
            "128                0         1           5           100              4.0   \n",
            "129                1         1           1             5              4.0   \n",
            "130                1         2           4             4              2.0   \n",
            "\n",
            "     urgency  \n",
            "0        NaN  \n",
            "4        NaN  \n",
            "5        NaN  \n",
            "6        NaN  \n",
            "7        NaN  \n",
            "..       ...  \n",
            "126      3.0  \n",
            "127      2.0  \n",
            "128      5.0  \n",
            "129      2.0  \n",
            "130      4.0  \n",
            "\n",
            "[122 rows x 17 columns]\n"
          ]
        }
      ]
    },
    {
      "cell_type": "code",
      "source": [
        "df.dtypes"
      ],
      "metadata": {
        "id": "P-MT_0rhvPTC",
        "colab": {
          "base_uri": "https://localhost:8080/"
        },
        "outputId": "8d0a9938-e88b-43c5-c5f4-5a7db1a1bce6"
      },
      "execution_count": 335,
      "outputs": [
        {
          "output_type": "execute_result",
          "data": {
            "text/plain": [
              "name                  object\n",
              "gender                 int64\n",
              "age                    int64\n",
              "job                    int64\n",
              "task                   int64\n",
              "work_days             object\n",
              "difficulty             int64\n",
              "average_work_hour    float64\n",
              "average_rest         float64\n",
              "distraction           object\n",
              "mood_before_work       int64\n",
              "mood_after_work        int64\n",
              "deadline               int64\n",
              "importance             int64\n",
              "sleep_average         object\n",
              "productive_time      float64\n",
              "urgency              float64\n",
              "dtype: object"
            ]
          },
          "metadata": {},
          "execution_count": 335
        }
      ]
    },
    {
      "cell_type": "markdown",
      "source": [
        "## **Mengganti nilai Null**"
      ],
      "metadata": {
        "id": "JipV_r0kAWxl"
      }
    },
    {
      "cell_type": "code",
      "source": [
        "df.isnull().sum()"
      ],
      "metadata": {
        "id": "5QxTM26cvR0B",
        "colab": {
          "base_uri": "https://localhost:8080/"
        },
        "outputId": "06230849-b4dc-4739-fedd-9a4d7fd6db1f"
      },
      "execution_count": 336,
      "outputs": [
        {
          "output_type": "execute_result",
          "data": {
            "text/plain": [
              "name                  0\n",
              "gender                0\n",
              "age                   0\n",
              "job                   0\n",
              "task                  0\n",
              "work_days             0\n",
              "difficulty            0\n",
              "average_work_hour     0\n",
              "average_rest          0\n",
              "distraction           0\n",
              "mood_before_work      0\n",
              "mood_after_work       0\n",
              "deadline              0\n",
              "importance            0\n",
              "sleep_average         0\n",
              "productive_time      20\n",
              "urgency              21\n",
              "dtype: int64"
            ]
          },
          "metadata": {},
          "execution_count": 336
        }
      ]
    },
    {
      "cell_type": "code",
      "source": [
        "productive_time_value = (0, 4)\n",
        "urgency_value = (0, 5)\n",
        "def replace_null_value (columnName, value) :\n",
        "  return columnName.apply(lambda x: random.randint(value[0], value[1] if pd.isnull(x) else x))"
      ],
      "metadata": {
        "id": "nQyZFZVo_f37"
      },
      "execution_count": 337,
      "outputs": []
    },
    {
      "cell_type": "code",
      "source": [
        "df['productive_time'] = replace_null_value(df['productive_time'], productive_time_value)\n",
        "df['urgency'] = replace_null_value(df['urgency'], urgency_value)"
      ],
      "metadata": {
        "id": "tK4flkFJFMQq"
      },
      "execution_count": 338,
      "outputs": []
    },
    {
      "cell_type": "code",
      "source": [
        "df.isnull().sum()"
      ],
      "metadata": {
        "id": "_9QQ-Tn-F-Uq",
        "colab": {
          "base_uri": "https://localhost:8080/"
        },
        "outputId": "772c0ea8-affa-45d7-8124-fedc23baae1a"
      },
      "execution_count": 339,
      "outputs": [
        {
          "output_type": "execute_result",
          "data": {
            "text/plain": [
              "name                 0\n",
              "gender               0\n",
              "age                  0\n",
              "job                  0\n",
              "task                 0\n",
              "work_days            0\n",
              "difficulty           0\n",
              "average_work_hour    0\n",
              "average_rest         0\n",
              "distraction          0\n",
              "mood_before_work     0\n",
              "mood_after_work      0\n",
              "deadline             0\n",
              "importance           0\n",
              "sleep_average        0\n",
              "productive_time      0\n",
              "urgency              0\n",
              "dtype: int64"
            ]
          },
          "metadata": {},
          "execution_count": 339
        }
      ]
    },
    {
      "cell_type": "markdown",
      "source": [
        "## **Melakukan regexp pada kolom work_days dan sleep_average**"
      ],
      "metadata": {
        "id": "rS_921-mHlpo"
      }
    },
    {
      "cell_type": "code",
      "source": [
        "print(df)"
      ],
      "metadata": {
        "id": "zlU9scLmGYlw",
        "colab": {
          "base_uri": "https://localhost:8080/"
        },
        "outputId": "49c8571a-e3de-48cc-9626-7f920c664c03"
      },
      "execution_count": 340,
      "outputs": [
        {
          "output_type": "stream",
          "name": "stdout",
          "text": [
            "                                name  gender  age  job  task   work_days  \\\n",
            "0       Andi Ichel Bidara Zalsabila        1   21    1     5  4 - 6 hari   \n",
            "4                       Adhimas Jaya       0   21    0     4  5 - 7 hari   \n",
            "5       Nur Endra Purwa Maulana Jati       0   20    1     0  4 - 6 hari   \n",
            "6                    Misbach Choirun       0   21    0     6  4 - 6 hari   \n",
            "7                               Eris       0   21    1     1  2 - 4 hari   \n",
            "..                               ...     ...  ...  ...   ...         ...   \n",
            "126      Almas Fa'iq Khairul Ikhwan        0   21    1     6      3 hari   \n",
            "127           Nosten Saputra Sitorus       0   21    1     0      4 hari   \n",
            "128                         Ehshshsh       0   31    1     0      3 hari   \n",
            "129  Vebie Yoseva Theresia Pasaribu        1   19    1     6      6 hari   \n",
            "130               Hilya Faizatunnisa       1   20    1     6      5 hari   \n",
            "\n",
            "     difficulty  average_work_hour  average_rest  \\\n",
            "0             4               10.0          2.00   \n",
            "4             2                1.5         30.00   \n",
            "5             4                7.0         10.00   \n",
            "6             3                2.0         60.00   \n",
            "7             3                4.0         30.00   \n",
            "..          ...                ...           ...   \n",
            "126           3                6.0          0.75   \n",
            "127           3                7.0         20.00   \n",
            "128           5               69.0        100.00   \n",
            "129           4                8.0          3.00   \n",
            "130           4                3.0          0.50   \n",
            "\n",
            "                                           distraction  mood_before_work  \\\n",
            "0                    Gangguan dari lingkungan sekitar                  0   \n",
            "4                              Gangguan dari internal                  0   \n",
            "5                  Gangguan dari perangkat elektronik                  2   \n",
            "6                  Gangguan dari perangkat elektronik                  1   \n",
            "7                  Gangguan dari perangkat elektronik                  0   \n",
            "..                                                 ...               ...   \n",
            "126  Gangguan dari teman atau rekan kerja, Gangguan...                 0   \n",
            "127                Gangguan dari perangkat elektronik                  2   \n",
            "128  Panggilan Telepon, Gangguan dari teman atau re...                 0   \n",
            "129  Gangguan dari teman atau rekan kerja, Gangguan...                 2   \n",
            "130  Gangguan dari perangkat elektronik , Gangguan ...                 2   \n",
            "\n",
            "     mood_after_work  deadline  importance sleep_average  productive_time  \\\n",
            "0                  1         2           4         5 jam                2   \n",
            "4                  0         1           5         5 jam                2   \n",
            "5                  1         1           5         4 jam                4   \n",
            "6                  1         1           2         8 jam                3   \n",
            "7                  1         1           2         5 jam                3   \n",
            "..               ...       ...         ...           ...              ...   \n",
            "126                1         2           2             8                2   \n",
            "127                1         0           2             7                1   \n",
            "128                0         1           5           100                1   \n",
            "129                1         1           1             5                0   \n",
            "130                1         2           4             4                2   \n",
            "\n",
            "     urgency  \n",
            "0          5  \n",
            "4          4  \n",
            "5          2  \n",
            "6          5  \n",
            "7          1  \n",
            "..       ...  \n",
            "126        0  \n",
            "127        1  \n",
            "128        2  \n",
            "129        0  \n",
            "130        2  \n",
            "\n",
            "[122 rows x 17 columns]\n"
          ]
        }
      ]
    },
    {
      "cell_type": "code",
      "source": [
        "# Buat dataframe baru buat\n",
        "df1 = df"
      ],
      "metadata": {
        "id": "puA49Lo3NZOh"
      },
      "execution_count": 341,
      "outputs": []
    },
    {
      "cell_type": "code",
      "source": [
        "df['sleep_average'] = df['sleep_average'].astype(str)\n",
        "df['work_days'] = df['work_days'].str.extract(r'(\\d+)\\s*hari$')\n",
        "df['sleep_average'] = df['sleep_average'].str.extract(r'(\\d+)').astype(float)"
      ],
      "metadata": {
        "id": "D3F8rK6vG6Ya"
      },
      "execution_count": 342,
      "outputs": []
    },
    {
      "cell_type": "markdown",
      "source": [
        "## **One Hot Encoded distraction**"
      ],
      "metadata": {
        "id": "kS7W6P2pieeD"
      }
    },
    {
      "cell_type": "code",
      "source": [
        "encoded_df = df['distraction'].str.get_dummies(sep=', ')\n",
        "df = pd.concat([df, encoded_df], axis=1)\n",
        "df = df.drop(columns=['distraction'])\n",
        "df = df.T.drop_duplicates().T"
      ],
      "metadata": {
        "id": "pVJjgrOyW1O1"
      },
      "execution_count": 343,
      "outputs": []
    },
    {
      "cell_type": "code",
      "source": [
        "df[df.columns.difference(['name'])] = df[df.columns.difference(['name'])].astype(float)\n",
        "df[df.columns.difference(['average_work_hour', 'average_rest', 'sleep_average', 'name'])] = df[df.columns.difference(['average_work_hour', 'average_rest',\n",
        "                                                                                                                      'sleep_average', 'name'])].astype(int)"
      ],
      "metadata": {
        "id": "VpI1slm4zjtX"
      },
      "execution_count": 344,
      "outputs": []
    },
    {
      "cell_type": "markdown",
      "source": [
        "## **Mengubah value yang tidak sesuai pada kolom average_rest**"
      ],
      "metadata": {
        "id": "2abtezDFEaMr"
      }
    },
    {
      "cell_type": "code",
      "source": [
        "def modify_average_rest(x):\n",
        "    if x >= 1200:\n",
        "        return x / 1200\n",
        "    elif x > 10:\n",
        "        return x / 60\n",
        "    else:\n",
        "        return x\n",
        "\n",
        "average_work_hour_mean = round(df['average_work_hour'].mean(), 1)\n",
        "\n",
        "def modify_average_work_hour(x, mean_value) :\n",
        "  if x > 12.5 :\n",
        "    return mean_value\n",
        "  return x\n",
        "\n",
        "for col in df[['average_rest']]:\n",
        "    df[col] = df[col].apply(modify_average_rest)\n",
        "df['average_work_hour'] = df['average_work_hour'].apply(lambda x: modify_average_work_hour(x, average_work_hour_mean))\n"
      ],
      "metadata": {
        "id": "QfFkhwvH-B5O"
      },
      "execution_count": 345,
      "outputs": []
    },
    {
      "cell_type": "code",
      "source": [
        "df[['average_work_hour']].describe()"
      ],
      "metadata": {
        "colab": {
          "base_uri": "https://localhost:8080/",
          "height": 300
        },
        "id": "zlbFidsXD4Wc",
        "outputId": "d8021368-d07f-4ede-a691-10c522d3d50e"
      },
      "execution_count": 346,
      "outputs": [
        {
          "output_type": "execute_result",
          "data": {
            "text/plain": [
              "       average_work_hour\n",
              "count         122.000000\n",
              "mean            5.718033\n",
              "std             2.431271\n",
              "min             1.500000\n",
              "25%             4.000000\n",
              "50%             6.000000\n",
              "75%             7.875000\n",
              "max            12.000000"
            ],
            "text/html": [
              "\n",
              "  <div id=\"df-1f0b99f6-33a2-470b-8a01-14b39e37edc1\" class=\"colab-df-container\">\n",
              "    <div>\n",
              "<style scoped>\n",
              "    .dataframe tbody tr th:only-of-type {\n",
              "        vertical-align: middle;\n",
              "    }\n",
              "\n",
              "    .dataframe tbody tr th {\n",
              "        vertical-align: top;\n",
              "    }\n",
              "\n",
              "    .dataframe thead th {\n",
              "        text-align: right;\n",
              "    }\n",
              "</style>\n",
              "<table border=\"1\" class=\"dataframe\">\n",
              "  <thead>\n",
              "    <tr style=\"text-align: right;\">\n",
              "      <th></th>\n",
              "      <th>average_work_hour</th>\n",
              "    </tr>\n",
              "  </thead>\n",
              "  <tbody>\n",
              "    <tr>\n",
              "      <th>count</th>\n",
              "      <td>122.000000</td>\n",
              "    </tr>\n",
              "    <tr>\n",
              "      <th>mean</th>\n",
              "      <td>5.718033</td>\n",
              "    </tr>\n",
              "    <tr>\n",
              "      <th>std</th>\n",
              "      <td>2.431271</td>\n",
              "    </tr>\n",
              "    <tr>\n",
              "      <th>min</th>\n",
              "      <td>1.500000</td>\n",
              "    </tr>\n",
              "    <tr>\n",
              "      <th>25%</th>\n",
              "      <td>4.000000</td>\n",
              "    </tr>\n",
              "    <tr>\n",
              "      <th>50%</th>\n",
              "      <td>6.000000</td>\n",
              "    </tr>\n",
              "    <tr>\n",
              "      <th>75%</th>\n",
              "      <td>7.875000</td>\n",
              "    </tr>\n",
              "    <tr>\n",
              "      <th>max</th>\n",
              "      <td>12.000000</td>\n",
              "    </tr>\n",
              "  </tbody>\n",
              "</table>\n",
              "</div>\n",
              "    <div class=\"colab-df-buttons\">\n",
              "\n",
              "  <div class=\"colab-df-container\">\n",
              "    <button class=\"colab-df-convert\" onclick=\"convertToInteractive('df-1f0b99f6-33a2-470b-8a01-14b39e37edc1')\"\n",
              "            title=\"Convert this dataframe to an interactive table.\"\n",
              "            style=\"display:none;\">\n",
              "\n",
              "  <svg xmlns=\"http://www.w3.org/2000/svg\" height=\"24px\" viewBox=\"0 -960 960 960\">\n",
              "    <path d=\"M120-120v-720h720v720H120Zm60-500h600v-160H180v160Zm220 220h160v-160H400v160Zm0 220h160v-160H400v160ZM180-400h160v-160H180v160Zm440 0h160v-160H620v160ZM180-180h160v-160H180v160Zm440 0h160v-160H620v160Z\"/>\n",
              "  </svg>\n",
              "    </button>\n",
              "\n",
              "  <style>\n",
              "    .colab-df-container {\n",
              "      display:flex;\n",
              "      gap: 12px;\n",
              "    }\n",
              "\n",
              "    .colab-df-convert {\n",
              "      background-color: #E8F0FE;\n",
              "      border: none;\n",
              "      border-radius: 50%;\n",
              "      cursor: pointer;\n",
              "      display: none;\n",
              "      fill: #1967D2;\n",
              "      height: 32px;\n",
              "      padding: 0 0 0 0;\n",
              "      width: 32px;\n",
              "    }\n",
              "\n",
              "    .colab-df-convert:hover {\n",
              "      background-color: #E2EBFA;\n",
              "      box-shadow: 0px 1px 2px rgba(60, 64, 67, 0.3), 0px 1px 3px 1px rgba(60, 64, 67, 0.15);\n",
              "      fill: #174EA6;\n",
              "    }\n",
              "\n",
              "    .colab-df-buttons div {\n",
              "      margin-bottom: 4px;\n",
              "    }\n",
              "\n",
              "    [theme=dark] .colab-df-convert {\n",
              "      background-color: #3B4455;\n",
              "      fill: #D2E3FC;\n",
              "    }\n",
              "\n",
              "    [theme=dark] .colab-df-convert:hover {\n",
              "      background-color: #434B5C;\n",
              "      box-shadow: 0px 1px 3px 1px rgba(0, 0, 0, 0.15);\n",
              "      filter: drop-shadow(0px 1px 2px rgba(0, 0, 0, 0.3));\n",
              "      fill: #FFFFFF;\n",
              "    }\n",
              "  </style>\n",
              "\n",
              "    <script>\n",
              "      const buttonEl =\n",
              "        document.querySelector('#df-1f0b99f6-33a2-470b-8a01-14b39e37edc1 button.colab-df-convert');\n",
              "      buttonEl.style.display =\n",
              "        google.colab.kernel.accessAllowed ? 'block' : 'none';\n",
              "\n",
              "      async function convertToInteractive(key) {\n",
              "        const element = document.querySelector('#df-1f0b99f6-33a2-470b-8a01-14b39e37edc1');\n",
              "        const dataTable =\n",
              "          await google.colab.kernel.invokeFunction('convertToInteractive',\n",
              "                                                    [key], {});\n",
              "        if (!dataTable) return;\n",
              "\n",
              "        const docLinkHtml = 'Like what you see? Visit the ' +\n",
              "          '<a target=\"_blank\" href=https://colab.research.google.com/notebooks/data_table.ipynb>data table notebook</a>'\n",
              "          + ' to learn more about interactive tables.';\n",
              "        element.innerHTML = '';\n",
              "        dataTable['output_type'] = 'display_data';\n",
              "        await google.colab.output.renderOutput(dataTable, element);\n",
              "        const docLink = document.createElement('div');\n",
              "        docLink.innerHTML = docLinkHtml;\n",
              "        element.appendChild(docLink);\n",
              "      }\n",
              "    </script>\n",
              "  </div>\n",
              "\n",
              "\n",
              "<div id=\"df-403c9759-3c30-4066-aeaf-b4f66eea5a00\">\n",
              "  <button class=\"colab-df-quickchart\" onclick=\"quickchart('df-403c9759-3c30-4066-aeaf-b4f66eea5a00')\"\n",
              "            title=\"Suggest charts\"\n",
              "            style=\"display:none;\">\n",
              "\n",
              "<svg xmlns=\"http://www.w3.org/2000/svg\" height=\"24px\"viewBox=\"0 0 24 24\"\n",
              "     width=\"24px\">\n",
              "    <g>\n",
              "        <path d=\"M19 3H5c-1.1 0-2 .9-2 2v14c0 1.1.9 2 2 2h14c1.1 0 2-.9 2-2V5c0-1.1-.9-2-2-2zM9 17H7v-7h2v7zm4 0h-2V7h2v10zm4 0h-2v-4h2v4z\"/>\n",
              "    </g>\n",
              "</svg>\n",
              "  </button>\n",
              "\n",
              "<style>\n",
              "  .colab-df-quickchart {\n",
              "      --bg-color: #E8F0FE;\n",
              "      --fill-color: #1967D2;\n",
              "      --hover-bg-color: #E2EBFA;\n",
              "      --hover-fill-color: #174EA6;\n",
              "      --disabled-fill-color: #AAA;\n",
              "      --disabled-bg-color: #DDD;\n",
              "  }\n",
              "\n",
              "  [theme=dark] .colab-df-quickchart {\n",
              "      --bg-color: #3B4455;\n",
              "      --fill-color: #D2E3FC;\n",
              "      --hover-bg-color: #434B5C;\n",
              "      --hover-fill-color: #FFFFFF;\n",
              "      --disabled-bg-color: #3B4455;\n",
              "      --disabled-fill-color: #666;\n",
              "  }\n",
              "\n",
              "  .colab-df-quickchart {\n",
              "    background-color: var(--bg-color);\n",
              "    border: none;\n",
              "    border-radius: 50%;\n",
              "    cursor: pointer;\n",
              "    display: none;\n",
              "    fill: var(--fill-color);\n",
              "    height: 32px;\n",
              "    padding: 0;\n",
              "    width: 32px;\n",
              "  }\n",
              "\n",
              "  .colab-df-quickchart:hover {\n",
              "    background-color: var(--hover-bg-color);\n",
              "    box-shadow: 0 1px 2px rgba(60, 64, 67, 0.3), 0 1px 3px 1px rgba(60, 64, 67, 0.15);\n",
              "    fill: var(--button-hover-fill-color);\n",
              "  }\n",
              "\n",
              "  .colab-df-quickchart-complete:disabled,\n",
              "  .colab-df-quickchart-complete:disabled:hover {\n",
              "    background-color: var(--disabled-bg-color);\n",
              "    fill: var(--disabled-fill-color);\n",
              "    box-shadow: none;\n",
              "  }\n",
              "\n",
              "  .colab-df-spinner {\n",
              "    border: 2px solid var(--fill-color);\n",
              "    border-color: transparent;\n",
              "    border-bottom-color: var(--fill-color);\n",
              "    animation:\n",
              "      spin 1s steps(1) infinite;\n",
              "  }\n",
              "\n",
              "  @keyframes spin {\n",
              "    0% {\n",
              "      border-color: transparent;\n",
              "      border-bottom-color: var(--fill-color);\n",
              "      border-left-color: var(--fill-color);\n",
              "    }\n",
              "    20% {\n",
              "      border-color: transparent;\n",
              "      border-left-color: var(--fill-color);\n",
              "      border-top-color: var(--fill-color);\n",
              "    }\n",
              "    30% {\n",
              "      border-color: transparent;\n",
              "      border-left-color: var(--fill-color);\n",
              "      border-top-color: var(--fill-color);\n",
              "      border-right-color: var(--fill-color);\n",
              "    }\n",
              "    40% {\n",
              "      border-color: transparent;\n",
              "      border-right-color: var(--fill-color);\n",
              "      border-top-color: var(--fill-color);\n",
              "    }\n",
              "    60% {\n",
              "      border-color: transparent;\n",
              "      border-right-color: var(--fill-color);\n",
              "    }\n",
              "    80% {\n",
              "      border-color: transparent;\n",
              "      border-right-color: var(--fill-color);\n",
              "      border-bottom-color: var(--fill-color);\n",
              "    }\n",
              "    90% {\n",
              "      border-color: transparent;\n",
              "      border-bottom-color: var(--fill-color);\n",
              "    }\n",
              "  }\n",
              "</style>\n",
              "\n",
              "  <script>\n",
              "    async function quickchart(key) {\n",
              "      const quickchartButtonEl =\n",
              "        document.querySelector('#' + key + ' button');\n",
              "      quickchartButtonEl.disabled = true;  // To prevent multiple clicks.\n",
              "      quickchartButtonEl.classList.add('colab-df-spinner');\n",
              "      try {\n",
              "        const charts = await google.colab.kernel.invokeFunction(\n",
              "            'suggestCharts', [key], {});\n",
              "      } catch (error) {\n",
              "        console.error('Error during call to suggestCharts:', error);\n",
              "      }\n",
              "      quickchartButtonEl.classList.remove('colab-df-spinner');\n",
              "      quickchartButtonEl.classList.add('colab-df-quickchart-complete');\n",
              "    }\n",
              "    (() => {\n",
              "      let quickchartButtonEl =\n",
              "        document.querySelector('#df-403c9759-3c30-4066-aeaf-b4f66eea5a00 button');\n",
              "      quickchartButtonEl.style.display =\n",
              "        google.colab.kernel.accessAllowed ? 'block' : 'none';\n",
              "    })();\n",
              "  </script>\n",
              "</div>\n",
              "    </div>\n",
              "  </div>\n"
            ],
            "application/vnd.google.colaboratory.intrinsic+json": {
              "type": "dataframe",
              "summary": "{\n  \"name\": \"df[['average_work_hour']]\",\n  \"rows\": 8,\n  \"fields\": [\n    {\n      \"column\": \"average_work_hour\",\n      \"properties\": {\n        \"dtype\": \"number\",\n        \"std\": 41.268476424817024,\n        \"min\": 1.5,\n        \"max\": 122.0,\n        \"num_unique_values\": 8,\n        \"samples\": [\n          5.718032786885246,\n          6.0,\n          122.0\n        ],\n        \"semantic_type\": \"\",\n        \"description\": \"\"\n      }\n    }\n  ]\n}"
            }
          },
          "metadata": {},
          "execution_count": 346
        }
      ]
    },
    {
      "cell_type": "markdown",
      "source": [
        "## **Save to excel**"
      ],
      "metadata": {
        "id": "56MX2ol59oRK"
      }
    },
    {
      "cell_type": "code",
      "source": [
        "df.to_csv('data_gform.csv', index=False)\n",
        "files.download('data_gform.csv')"
      ],
      "metadata": {
        "colab": {
          "base_uri": "https://localhost:8080/",
          "height": 17
        },
        "id": "pCDte77S0AFf",
        "outputId": "4c24f5a8-85d4-4b88-81e7-f8cebd2fbf6b"
      },
      "execution_count": 347,
      "outputs": [
        {
          "output_type": "display_data",
          "data": {
            "text/plain": [
              "<IPython.core.display.Javascript object>"
            ],
            "application/javascript": [
              "\n",
              "    async function download(id, filename, size) {\n",
              "      if (!google.colab.kernel.accessAllowed) {\n",
              "        return;\n",
              "      }\n",
              "      const div = document.createElement('div');\n",
              "      const label = document.createElement('label');\n",
              "      label.textContent = `Downloading \"${filename}\": `;\n",
              "      div.appendChild(label);\n",
              "      const progress = document.createElement('progress');\n",
              "      progress.max = size;\n",
              "      div.appendChild(progress);\n",
              "      document.body.appendChild(div);\n",
              "\n",
              "      const buffers = [];\n",
              "      let downloaded = 0;\n",
              "\n",
              "      const channel = await google.colab.kernel.comms.open(id);\n",
              "      // Send a message to notify the kernel that we're ready.\n",
              "      channel.send({})\n",
              "\n",
              "      for await (const message of channel.messages) {\n",
              "        // Send a message to notify the kernel that we're ready.\n",
              "        channel.send({})\n",
              "        if (message.buffers) {\n",
              "          for (const buffer of message.buffers) {\n",
              "            buffers.push(buffer);\n",
              "            downloaded += buffer.byteLength;\n",
              "            progress.value = downloaded;\n",
              "          }\n",
              "        }\n",
              "      }\n",
              "      const blob = new Blob(buffers, {type: 'application/binary'});\n",
              "      const a = document.createElement('a');\n",
              "      a.href = window.URL.createObjectURL(blob);\n",
              "      a.download = filename;\n",
              "      div.appendChild(a);\n",
              "      a.click();\n",
              "      div.remove();\n",
              "    }\n",
              "  "
            ]
          },
          "metadata": {}
        },
        {
          "output_type": "display_data",
          "data": {
            "text/plain": [
              "<IPython.core.display.Javascript object>"
            ],
            "application/javascript": [
              "download(\"download_c3d8000d-b3e3-4e48-893c-dd7d04a0738a\", \"data_gform.csv\", 10657)"
            ]
          },
          "metadata": {}
        }
      ]
    }
  ]
}