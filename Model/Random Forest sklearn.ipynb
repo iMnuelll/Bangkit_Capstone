{
  "cells": [
    {
      "cell_type": "code",
      "execution_count": 1,
      "metadata": {
        "id": "eN-nV57wDXWd"
      },
      "outputs": [],
      "source": [
        "import pandas as pd\n",
        "from sklearn.model_selection import train_test_split\n",
        "from sklearn.ensemble import RandomForestClassifier\n",
        "from sklearn.metrics import accuracy_score, classification_report\n",
        "from sklearn.preprocessing import StandardScaler\n",
        "from sklearn.impute import SimpleImputer\n",
        "\n",
        "# Load the dataset\n",
        "file_path = '/content/data_gform.csv'\n",
        "data = pd.read_csv(file_path, sep='|')"
      ]
    },
    {
      "cell_type": "code",
      "execution_count": 2,
      "metadata": {
        "colab": {
          "base_uri": "https://localhost:8080/"
        },
        "id": "iyA5ETnmDR8L",
        "outputId": "a6e29354-0d36-4b57-9f81-1fb48329a7be"
      },
      "outputs": [
        {
          "name": "stdout",
          "output_type": "stream",
          "text": [
            "Index(['gender', 'age', 'job', 'task', 'work_days', 'difficulty',\n",
            "       'average_work_hour', 'average_rest', 'mood_before_work',\n",
            "       'mood_after_work', 'deadline', 'importance', 'sleep_average',\n",
            "       'productive_time', 'urgency', 'Gangguan dari atasan',\n",
            "       'Gangguan dari internal (Kelelahan', 'Gangguan dari kesehatan',\n",
            "       'Gangguan dari lingkungan sekitar (kebisingan)',\n",
            "       'Gangguan dari perangkat elektronik (notifikasi dari smartphone atau komputer)',\n",
            "       'Gangguan dari teman atau rekan kerja', 'Gangguan internet',\n",
            "       'Gangguan jawa', 'MATI LAMPU ??', 'Mood ', 'Panggilan Telepon',\n",
            "       'Temen ngajak mabar??', 'Tidak ada', 'ajakan bermain'],\n",
            "      dtype='object')\n"
          ]
        }
      ],
      "source": [
        "print(data.columns)"
      ]
    },
    {
      "cell_type": "code",
      "execution_count": 3,
      "metadata": {
        "colab": {
          "base_uri": "https://localhost:8080/"
        },
        "id": "Ib-YYc1MDBa5",
        "outputId": "cebdf5d5-9e91-48e4-da9f-42c812abc8eb"
      },
      "outputs": [
        {
          "name": "stdout",
          "output_type": "stream",
          "text": [
            "Accuracy: 0.88\n",
            "Classification Report:\n",
            "              precision    recall  f1-score   support\n",
            "\n",
            "         0.0       1.00      1.00      1.00        10\n",
            "         1.0       0.80      0.80      0.80         5\n",
            "         2.0       0.50      0.33      0.40         3\n",
            "         3.0       0.89      1.00      0.94         8\n",
            "\n",
            "    accuracy                           0.88        26\n",
            "   macro avg       0.80      0.78      0.79        26\n",
            "weighted avg       0.87      0.88      0.87        26\n",
            "\n"
          ]
        }
      ],
      "source": [
        "# Define the features and target label\n",
        "features = ['gender', 'age', 'job', 'task', 'work_days', 'difficulty',\n",
        "       'average_work_hour', 'average_rest', 'mood_before_work',\n",
        "       'mood_after_work', 'deadline', 'importance', 'sleep_average',\n",
        "       'productive_time', 'urgency', 'Gangguan dari atasan',\n",
        "       'Gangguan dari internal (Kelelahan', 'Gangguan dari kesehatan',\n",
        "       'Gangguan dari lingkungan sekitar (kebisingan)',\n",
        "       'Gangguan dari perangkat elektronik (notifikasi dari smartphone atau komputer)',\n",
        "       'Gangguan dari teman atau rekan kerja', 'Gangguan internet',\n",
        "       'Gangguan jawa', 'MATI LAMPU ??', 'Mood ', 'Panggilan Telepon',\n",
        "       'Temen ngajak mabar??', 'Tidak ada', 'ajakan bermain']\n",
        "\n",
        "target = 'productive_time'\n",
        "\n",
        "# Split the data into training and testing sets\n",
        "X = data[features]\n",
        "y = data[target]\n",
        "X_train, X_test, y_train, y_test = train_test_split(X, y, test_size=0.2, random_state=42, stratify=y)\n",
        "\n",
        "# Standardize the features\n",
        "scaler = StandardScaler()\n",
        "X_train = scaler.fit_transform(X_train)\n",
        "X_test = scaler.transform(X_test)\n",
        "\n",
        "# Train a Random Forest Classifier\n",
        "model = RandomForestClassifier(n_estimators=100, random_state=42)\n",
        "model.fit(X_train, y_train)\n",
        "\n",
        "# Make predictions\n",
        "y_pred = model.predict(X_test)\n",
        "\n",
        "# Evaluate the model\n",
        "accuracy = accuracy_score(y_test, y_pred)\n",
        "report = classification_report(y_test, y_pred)\n",
        "\n",
        "# Output the evaluation results\n",
        "print(f\"Accuracy: {accuracy:.2f}\")\n",
        "print(\"Classification Report:\")\n",
        "print(report)"
      ]
    }
  ],
  "metadata": {
    "colab": {
      "provenance": []
    },
    "kernelspec": {
      "display_name": "Python 3",
      "name": "python3"
    },
    "language_info": {
      "name": "python"
    }
  },
  "nbformat": 4,
  "nbformat_minor": 0
}
