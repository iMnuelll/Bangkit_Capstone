{
  "nbformat": 4,
  "nbformat_minor": 0,
  "metadata": {
    "colab": {
      "provenance": []
    },
    "kernelspec": {
      "name": "python3",
      "display_name": "Python 3"
    },
    "language_info": {
      "name": "python"
    }
  },
  "cells": [
    {
      "cell_type": "code",
      "execution_count": null,
      "metadata": {
        "id": "N_ZJ24X_DEbJ"
      },
      "outputs": [],
      "source": [
        "import pandas as pd\n",
        "import random\n",
        "import numpy as np\n",
        "import matplotlib.pyplot as plt\n",
        "import seaborn as sns\n",
        "from functools import reduce\n",
        "from google.colab import files\n",
        "from sklearn.preprocessing import LabelEncoder"
      ]
    },
    {
      "cell_type": "markdown",
      "source": [
        "## **Read File**"
      ],
      "metadata": {
        "id": "gkrXeUoUFyTC"
      }
    },
    {
      "cell_type": "code",
      "source": [
        "url = 'https://github.com/iMnuelll/Bangkit_Capstone/raw/main/Preprocessing/Gform_update250524_1946.csv'\n",
        "df = pd.read_csv(url, sep='|')"
      ],
      "metadata": {
        "id": "PVkpd_bruGBm"
      },
      "execution_count": null,
      "outputs": []
    },
    {
      "cell_type": "markdown",
      "source": [
        "## **Fungsi Visualisasi Data**"
      ],
      "metadata": {
        "id": "j-FST_KAD0mc"
      }
    },
    {
      "cell_type": "code",
      "source": [
        "def scatterPlot(columnName, describe='mean'):\n",
        "    mean_value = columnName.mean()\n",
        "    median_value = columnName.median()\n",
        "\n",
        "    plt.figure(figsize=(10, 5))\n",
        "    plt.scatter(df.index, columnName)\n",
        "    if describe == 'mean' :\n",
        "      plt.axhline(mean_value, color='red', linestyle='--', label=f'Mean ({mean_value:.2f})')\n",
        "    elif describe == 'median' :\n",
        "      plt.axhline(median_value, color='red', linestyle='--', label=f'Median ({median_value:.2f})')\n",
        "    plt.title(f'Scatter Plot of {columnName.name}')\n",
        "    plt.xlabel('Index')\n",
        "    plt.ylabel('Values')\n",
        "    plt.legend()\n",
        "    plt.show()"
      ],
      "metadata": {
        "id": "llyuCO-mD0Jh"
      },
      "execution_count": null,
      "outputs": []
    },
    {
      "cell_type": "markdown",
      "source": [
        "## **Ganti Nama Kolom**"
      ],
      "metadata": {
        "id": "XKHsycywGgTu"
      }
    },
    {
      "cell_type": "code",
      "source": [
        "df.dtypes"
      ],
      "metadata": {
        "id": "Hpi7dYaPStdH",
        "colab": {
          "base_uri": "https://localhost:8080/"
        },
        "outputId": "e1dc7b3f-2327-4111-e9ad-9aac79d10f4d"
      },
      "execution_count": null,
      "outputs": [
        {
          "output_type": "execute_result",
          "data": {
            "text/plain": [
              "Jenis Kelamin:                                                                                                                                                                                                                               object\n",
              "Umur: \\n(Petunjuk: 17 tahun ? 17)                                                                                                                                                                                                             int64\n",
              "Pekerjaan:                                                                                                                                                                                                                                   object\n",
              "Apa jenis tugas yang biasanya Anda kerjakan?                                                                                                                                                                                                 object\n",
              "Berapa hari yang dihabiskan untuk melakukan pekerjaan/kegiatan utama dalam seminggu?                                                                                                                                                         object\n",
              "Bagaimana Anda menilai tingkat kesulitan tugas yang biasanya Anda kerjakan?                                                                                                                                                                   int64\n",
              "Berapa rata-rata waktu yang Anda habiskan untuk bekerja/mengerjakan tugas?\\n(Petunjuk: Jawab dengan angka saja, dalam jam. Contoh: 6 jam ? 6, atau 7 jam 30 menit ? 7.5)                                                                      int64\n",
              "Berapa rata-rata waktu istirahat Anda di sela-sela bekerja/mengerjakan tugas dalam sehari? (Istirahat selain tidur)\\n(Petunjuk: Jawab dengan angka saja, dalam jam. Contoh: 1 jam ? 1, atau 3 jam 15 menit ? 3.25, atau 45 menit ? 0.75)      int64\n",
              "Apa saja jenis gangguan yang Anda alami saat bekerja atau menyelesaikan tugas?                                                                                                                                                               object\n",
              "Bagaimana perasaan atau mood sebelum menyelesaikan tugas?                                                                                                                                                                                    object\n",
              "Bagaimana perasaan atau mood setelah menyelesaikan tugas?                                                                                                                                                                                    object\n",
              "Berapa lama batas pengerjaan (deadline) tugas yang biasa Anda kerjakan?                                                                                                                                                                      object\n",
              "Biasanya seberapa penting pekerjaan atau tugas yang Anda kerjakan dalam mencapai tujuan Anda?                                                                                                                                                 int64\n",
              "Berapa rata-rata waktu yang Anda habiskan untuk tidur dalam sehari? \\n(Petunjuk: Jawab dengan angka saja, dalam jam. Contoh: 1 jam ? 1, atau 3 jam 30 menit ? 3.5)                                                                           object\n",
              "Kalau menurut Anda, kapan Anda merasa paling produktif dalam sehari?                                                                                                                                                                         object\n",
              "Biasanya seberapa mendesak pekerjaan atau tugas yang harus Anda diselesaikan?                                                                                                                                                               float64\n",
              "dtype: object"
            ]
          },
          "metadata": {},
          "execution_count": 287
        }
      ]
    },
    {
      "cell_type": "code",
      "source": [
        "df = df.rename(columns={'Jenis Kelamin:' : 'gender', 'Umur: \\n(Petunjuk: 17 tahun ? 17)' : 'age',\n",
        "                   'Pekerjaan:' : 'job', 'Apa jenis tugas yang biasanya Anda kerjakan?' : 'task',\n",
        "                   'Berapa hari yang dihabiskan untuk melakukan pekerjaan/kegiatan utama dalam seminggu?' : 'work_days',\n",
        "                   'Bagaimana Anda menilai tingkat kesulitan tugas yang biasanya Anda kerjakan?' : 'difficulty',\n",
        "                   'Berapa rata-rata waktu yang Anda habiskan untuk bekerja/mengerjakan tugas?\\n(Petunjuk: Jawab dengan angka saja, dalam jam. Contoh: 6 jam ? 6, atau 7 jam 30 menit ? 7.5) ' : 'average_work_hour',\n",
        "                   'Berapa rata-rata waktu istirahat Anda di sela-sela bekerja/mengerjakan tugas dalam sehari? (Istirahat selain tidur)\\n(Petunjuk: Jawab dengan angka saja, dalam jam. Contoh: 1 jam ? 1, atau 3 jam 15 menit ? 3.25, atau 45 menit ? 0.75)' : 'average_rest',\n",
        "                   'Apa saja jenis gangguan yang Anda alami saat bekerja atau menyelesaikan tugas?' : 'distraction',\n",
        "                   'Bagaimana perasaan atau mood sebelum menyelesaikan tugas?' : 'mood_before_work',\n",
        "                   'Bagaimana perasaan atau mood setelah menyelesaikan tugas?' : 'mood_after_work',\n",
        "                   'Berapa lama batas pengerjaan (deadline) tugas yang biasa Anda kerjakan?' : 'deadline',\n",
        "                   'Biasanya seberapa penting pekerjaan atau tugas yang Anda kerjakan dalam mencapai tujuan Anda?' : 'importance',\n",
        "                   'Berapa rata-rata waktu yang Anda habiskan untuk tidur dalam sehari? \\n(Petunjuk: Jawab dengan angka saja, dalam jam. Contoh: 1 jam ? 1, atau 3 jam 30 menit ? 3.5)' : 'sleep_average',\n",
        "                   'Kalau menurut Anda, kapan Anda merasa paling produktif dalam sehari?' : 'productive_time',\n",
        "                   'Biasanya seberapa mendesak pekerjaan atau tugas yang harus Anda diselesaikan?' : 'urgency'\n",
        "                    })"
      ],
      "metadata": {
        "id": "vdHrvDrGJ1e7"
      },
      "execution_count": null,
      "outputs": []
    },
    {
      "cell_type": "code",
      "source": [
        "df.head(5)"
      ],
      "metadata": {
        "id": "IyhkCTH4NjpA",
        "colab": {
          "base_uri": "https://localhost:8080/",
          "height": 556
        },
        "outputId": "4d646d9b-5544-4435-d3e8-7cd01a93dc7e"
      },
      "execution_count": null,
      "outputs": [
        {
          "output_type": "execute_result",
          "data": {
            "text/plain": [
              "      gender  age                       job        task   work_days  \\\n",
              "0  Perempuan   21           Siswa/Mahasiswa  Penelitian  4 - 6 hari   \n",
              "1  Laki-laki   21  Pegawai/Pekerja kantoran  Komunikasi  5 - 7 hari   \n",
              "2  Laki-laki   20           Siswa/Mahasiswa     Kreatif  4 - 6 hari   \n",
              "3  Laki-laki   21  Pegawai/Pekerja kantoran    Akademik  4 - 6 hari   \n",
              "4  Laki-laki   21           Siswa/Mahasiswa    Analitis  2 - 4 hari   \n",
              "\n",
              "   difficulty  average_work_hour  average_rest  \\\n",
              "0           4                 10             2   \n",
              "1           2                 15            30   \n",
              "2           4                  7            10   \n",
              "3           3                  2            60   \n",
              "4           3                  4            30   \n",
              "\n",
              "                                         distraction mood_before_work  \\\n",
              "0      Gangguan dari lingkungan sekitar (kebisingan)         Semangat   \n",
              "1  Gangguan dari internal (Kelelahan, lapar, keha...         Semangat   \n",
              "2  Gangguan dari perangkat elektronik (notifikasi...            Malas   \n",
              "3  Gangguan dari perangkat elektronik (notifikasi...            Cemas   \n",
              "4  Gangguan dari perangkat elektronik (notifikasi...         Semangat   \n",
              "\n",
              "  mood_after_work              deadline  importance sleep_average  \\\n",
              "0            Lega     1 hingga 2 minggu           4         5 jam   \n",
              "1            Puas  Kurang dari 1 minggu           5         5 jam   \n",
              "2            Lega  Kurang dari 1 minggu           5         4 jam   \n",
              "3            Lega  Kurang dari 1 minggu           2         8 jam   \n",
              "4            Lega  Kurang dari 1 minggu           2         5 jam   \n",
              "\n",
              "  productive_time  urgency  \n",
              "0             NaN      NaN  \n",
              "1             NaN      NaN  \n",
              "2             NaN      NaN  \n",
              "3             NaN      NaN  \n",
              "4             NaN      NaN  "
            ],
            "text/html": [
              "\n",
              "  <div id=\"df-27415070-0156-4d2a-8626-cc93e9eb1e8b\" class=\"colab-df-container\">\n",
              "    <div>\n",
              "<style scoped>\n",
              "    .dataframe tbody tr th:only-of-type {\n",
              "        vertical-align: middle;\n",
              "    }\n",
              "\n",
              "    .dataframe tbody tr th {\n",
              "        vertical-align: top;\n",
              "    }\n",
              "\n",
              "    .dataframe thead th {\n",
              "        text-align: right;\n",
              "    }\n",
              "</style>\n",
              "<table border=\"1\" class=\"dataframe\">\n",
              "  <thead>\n",
              "    <tr style=\"text-align: right;\">\n",
              "      <th></th>\n",
              "      <th>gender</th>\n",
              "      <th>age</th>\n",
              "      <th>job</th>\n",
              "      <th>task</th>\n",
              "      <th>work_days</th>\n",
              "      <th>difficulty</th>\n",
              "      <th>average_work_hour</th>\n",
              "      <th>average_rest</th>\n",
              "      <th>distraction</th>\n",
              "      <th>mood_before_work</th>\n",
              "      <th>mood_after_work</th>\n",
              "      <th>deadline</th>\n",
              "      <th>importance</th>\n",
              "      <th>sleep_average</th>\n",
              "      <th>productive_time</th>\n",
              "      <th>urgency</th>\n",
              "    </tr>\n",
              "  </thead>\n",
              "  <tbody>\n",
              "    <tr>\n",
              "      <th>0</th>\n",
              "      <td>Perempuan</td>\n",
              "      <td>21</td>\n",
              "      <td>Siswa/Mahasiswa</td>\n",
              "      <td>Penelitian</td>\n",
              "      <td>4 - 6 hari</td>\n",
              "      <td>4</td>\n",
              "      <td>10</td>\n",
              "      <td>2</td>\n",
              "      <td>Gangguan dari lingkungan sekitar (kebisingan)</td>\n",
              "      <td>Semangat</td>\n",
              "      <td>Lega</td>\n",
              "      <td>1 hingga 2 minggu</td>\n",
              "      <td>4</td>\n",
              "      <td>5 jam</td>\n",
              "      <td>NaN</td>\n",
              "      <td>NaN</td>\n",
              "    </tr>\n",
              "    <tr>\n",
              "      <th>1</th>\n",
              "      <td>Laki-laki</td>\n",
              "      <td>21</td>\n",
              "      <td>Pegawai/Pekerja kantoran</td>\n",
              "      <td>Komunikasi</td>\n",
              "      <td>5 - 7 hari</td>\n",
              "      <td>2</td>\n",
              "      <td>15</td>\n",
              "      <td>30</td>\n",
              "      <td>Gangguan dari internal (Kelelahan, lapar, keha...</td>\n",
              "      <td>Semangat</td>\n",
              "      <td>Puas</td>\n",
              "      <td>Kurang dari 1 minggu</td>\n",
              "      <td>5</td>\n",
              "      <td>5 jam</td>\n",
              "      <td>NaN</td>\n",
              "      <td>NaN</td>\n",
              "    </tr>\n",
              "    <tr>\n",
              "      <th>2</th>\n",
              "      <td>Laki-laki</td>\n",
              "      <td>20</td>\n",
              "      <td>Siswa/Mahasiswa</td>\n",
              "      <td>Kreatif</td>\n",
              "      <td>4 - 6 hari</td>\n",
              "      <td>4</td>\n",
              "      <td>7</td>\n",
              "      <td>10</td>\n",
              "      <td>Gangguan dari perangkat elektronik (notifikasi...</td>\n",
              "      <td>Malas</td>\n",
              "      <td>Lega</td>\n",
              "      <td>Kurang dari 1 minggu</td>\n",
              "      <td>5</td>\n",
              "      <td>4 jam</td>\n",
              "      <td>NaN</td>\n",
              "      <td>NaN</td>\n",
              "    </tr>\n",
              "    <tr>\n",
              "      <th>3</th>\n",
              "      <td>Laki-laki</td>\n",
              "      <td>21</td>\n",
              "      <td>Pegawai/Pekerja kantoran</td>\n",
              "      <td>Akademik</td>\n",
              "      <td>4 - 6 hari</td>\n",
              "      <td>3</td>\n",
              "      <td>2</td>\n",
              "      <td>60</td>\n",
              "      <td>Gangguan dari perangkat elektronik (notifikasi...</td>\n",
              "      <td>Cemas</td>\n",
              "      <td>Lega</td>\n",
              "      <td>Kurang dari 1 minggu</td>\n",
              "      <td>2</td>\n",
              "      <td>8 jam</td>\n",
              "      <td>NaN</td>\n",
              "      <td>NaN</td>\n",
              "    </tr>\n",
              "    <tr>\n",
              "      <th>4</th>\n",
              "      <td>Laki-laki</td>\n",
              "      <td>21</td>\n",
              "      <td>Siswa/Mahasiswa</td>\n",
              "      <td>Analitis</td>\n",
              "      <td>2 - 4 hari</td>\n",
              "      <td>3</td>\n",
              "      <td>4</td>\n",
              "      <td>30</td>\n",
              "      <td>Gangguan dari perangkat elektronik (notifikasi...</td>\n",
              "      <td>Semangat</td>\n",
              "      <td>Lega</td>\n",
              "      <td>Kurang dari 1 minggu</td>\n",
              "      <td>2</td>\n",
              "      <td>5 jam</td>\n",
              "      <td>NaN</td>\n",
              "      <td>NaN</td>\n",
              "    </tr>\n",
              "  </tbody>\n",
              "</table>\n",
              "</div>\n",
              "    <div class=\"colab-df-buttons\">\n",
              "\n",
              "  <div class=\"colab-df-container\">\n",
              "    <button class=\"colab-df-convert\" onclick=\"convertToInteractive('df-27415070-0156-4d2a-8626-cc93e9eb1e8b')\"\n",
              "            title=\"Convert this dataframe to an interactive table.\"\n",
              "            style=\"display:none;\">\n",
              "\n",
              "  <svg xmlns=\"http://www.w3.org/2000/svg\" height=\"24px\" viewBox=\"0 -960 960 960\">\n",
              "    <path d=\"M120-120v-720h720v720H120Zm60-500h600v-160H180v160Zm220 220h160v-160H400v160Zm0 220h160v-160H400v160ZM180-400h160v-160H180v160Zm440 0h160v-160H620v160ZM180-180h160v-160H180v160Zm440 0h160v-160H620v160Z\"/>\n",
              "  </svg>\n",
              "    </button>\n",
              "\n",
              "  <style>\n",
              "    .colab-df-container {\n",
              "      display:flex;\n",
              "      gap: 12px;\n",
              "    }\n",
              "\n",
              "    .colab-df-convert {\n",
              "      background-color: #E8F0FE;\n",
              "      border: none;\n",
              "      border-radius: 50%;\n",
              "      cursor: pointer;\n",
              "      display: none;\n",
              "      fill: #1967D2;\n",
              "      height: 32px;\n",
              "      padding: 0 0 0 0;\n",
              "      width: 32px;\n",
              "    }\n",
              "\n",
              "    .colab-df-convert:hover {\n",
              "      background-color: #E2EBFA;\n",
              "      box-shadow: 0px 1px 2px rgba(60, 64, 67, 0.3), 0px 1px 3px 1px rgba(60, 64, 67, 0.15);\n",
              "      fill: #174EA6;\n",
              "    }\n",
              "\n",
              "    .colab-df-buttons div {\n",
              "      margin-bottom: 4px;\n",
              "    }\n",
              "\n",
              "    [theme=dark] .colab-df-convert {\n",
              "      background-color: #3B4455;\n",
              "      fill: #D2E3FC;\n",
              "    }\n",
              "\n",
              "    [theme=dark] .colab-df-convert:hover {\n",
              "      background-color: #434B5C;\n",
              "      box-shadow: 0px 1px 3px 1px rgba(0, 0, 0, 0.15);\n",
              "      filter: drop-shadow(0px 1px 2px rgba(0, 0, 0, 0.3));\n",
              "      fill: #FFFFFF;\n",
              "    }\n",
              "  </style>\n",
              "\n",
              "    <script>\n",
              "      const buttonEl =\n",
              "        document.querySelector('#df-27415070-0156-4d2a-8626-cc93e9eb1e8b button.colab-df-convert');\n",
              "      buttonEl.style.display =\n",
              "        google.colab.kernel.accessAllowed ? 'block' : 'none';\n",
              "\n",
              "      async function convertToInteractive(key) {\n",
              "        const element = document.querySelector('#df-27415070-0156-4d2a-8626-cc93e9eb1e8b');\n",
              "        const dataTable =\n",
              "          await google.colab.kernel.invokeFunction('convertToInteractive',\n",
              "                                                    [key], {});\n",
              "        if (!dataTable) return;\n",
              "\n",
              "        const docLinkHtml = 'Like what you see? Visit the ' +\n",
              "          '<a target=\"_blank\" href=https://colab.research.google.com/notebooks/data_table.ipynb>data table notebook</a>'\n",
              "          + ' to learn more about interactive tables.';\n",
              "        element.innerHTML = '';\n",
              "        dataTable['output_type'] = 'display_data';\n",
              "        await google.colab.output.renderOutput(dataTable, element);\n",
              "        const docLink = document.createElement('div');\n",
              "        docLink.innerHTML = docLinkHtml;\n",
              "        element.appendChild(docLink);\n",
              "      }\n",
              "    </script>\n",
              "  </div>\n",
              "\n",
              "\n",
              "<div id=\"df-4f14abc8-44d9-4866-8ca3-c4ebd9569b94\">\n",
              "  <button class=\"colab-df-quickchart\" onclick=\"quickchart('df-4f14abc8-44d9-4866-8ca3-c4ebd9569b94')\"\n",
              "            title=\"Suggest charts\"\n",
              "            style=\"display:none;\">\n",
              "\n",
              "<svg xmlns=\"http://www.w3.org/2000/svg\" height=\"24px\"viewBox=\"0 0 24 24\"\n",
              "     width=\"24px\">\n",
              "    <g>\n",
              "        <path d=\"M19 3H5c-1.1 0-2 .9-2 2v14c0 1.1.9 2 2 2h14c1.1 0 2-.9 2-2V5c0-1.1-.9-2-2-2zM9 17H7v-7h2v7zm4 0h-2V7h2v10zm4 0h-2v-4h2v4z\"/>\n",
              "    </g>\n",
              "</svg>\n",
              "  </button>\n",
              "\n",
              "<style>\n",
              "  .colab-df-quickchart {\n",
              "      --bg-color: #E8F0FE;\n",
              "      --fill-color: #1967D2;\n",
              "      --hover-bg-color: #E2EBFA;\n",
              "      --hover-fill-color: #174EA6;\n",
              "      --disabled-fill-color: #AAA;\n",
              "      --disabled-bg-color: #DDD;\n",
              "  }\n",
              "\n",
              "  [theme=dark] .colab-df-quickchart {\n",
              "      --bg-color: #3B4455;\n",
              "      --fill-color: #D2E3FC;\n",
              "      --hover-bg-color: #434B5C;\n",
              "      --hover-fill-color: #FFFFFF;\n",
              "      --disabled-bg-color: #3B4455;\n",
              "      --disabled-fill-color: #666;\n",
              "  }\n",
              "\n",
              "  .colab-df-quickchart {\n",
              "    background-color: var(--bg-color);\n",
              "    border: none;\n",
              "    border-radius: 50%;\n",
              "    cursor: pointer;\n",
              "    display: none;\n",
              "    fill: var(--fill-color);\n",
              "    height: 32px;\n",
              "    padding: 0;\n",
              "    width: 32px;\n",
              "  }\n",
              "\n",
              "  .colab-df-quickchart:hover {\n",
              "    background-color: var(--hover-bg-color);\n",
              "    box-shadow: 0 1px 2px rgba(60, 64, 67, 0.3), 0 1px 3px 1px rgba(60, 64, 67, 0.15);\n",
              "    fill: var(--button-hover-fill-color);\n",
              "  }\n",
              "\n",
              "  .colab-df-quickchart-complete:disabled,\n",
              "  .colab-df-quickchart-complete:disabled:hover {\n",
              "    background-color: var(--disabled-bg-color);\n",
              "    fill: var(--disabled-fill-color);\n",
              "    box-shadow: none;\n",
              "  }\n",
              "\n",
              "  .colab-df-spinner {\n",
              "    border: 2px solid var(--fill-color);\n",
              "    border-color: transparent;\n",
              "    border-bottom-color: var(--fill-color);\n",
              "    animation:\n",
              "      spin 1s steps(1) infinite;\n",
              "  }\n",
              "\n",
              "  @keyframes spin {\n",
              "    0% {\n",
              "      border-color: transparent;\n",
              "      border-bottom-color: var(--fill-color);\n",
              "      border-left-color: var(--fill-color);\n",
              "    }\n",
              "    20% {\n",
              "      border-color: transparent;\n",
              "      border-left-color: var(--fill-color);\n",
              "      border-top-color: var(--fill-color);\n",
              "    }\n",
              "    30% {\n",
              "      border-color: transparent;\n",
              "      border-left-color: var(--fill-color);\n",
              "      border-top-color: var(--fill-color);\n",
              "      border-right-color: var(--fill-color);\n",
              "    }\n",
              "    40% {\n",
              "      border-color: transparent;\n",
              "      border-right-color: var(--fill-color);\n",
              "      border-top-color: var(--fill-color);\n",
              "    }\n",
              "    60% {\n",
              "      border-color: transparent;\n",
              "      border-right-color: var(--fill-color);\n",
              "    }\n",
              "    80% {\n",
              "      border-color: transparent;\n",
              "      border-right-color: var(--fill-color);\n",
              "      border-bottom-color: var(--fill-color);\n",
              "    }\n",
              "    90% {\n",
              "      border-color: transparent;\n",
              "      border-bottom-color: var(--fill-color);\n",
              "    }\n",
              "  }\n",
              "</style>\n",
              "\n",
              "  <script>\n",
              "    async function quickchart(key) {\n",
              "      const quickchartButtonEl =\n",
              "        document.querySelector('#' + key + ' button');\n",
              "      quickchartButtonEl.disabled = true;  // To prevent multiple clicks.\n",
              "      quickchartButtonEl.classList.add('colab-df-spinner');\n",
              "      try {\n",
              "        const charts = await google.colab.kernel.invokeFunction(\n",
              "            'suggestCharts', [key], {});\n",
              "      } catch (error) {\n",
              "        console.error('Error during call to suggestCharts:', error);\n",
              "      }\n",
              "      quickchartButtonEl.classList.remove('colab-df-spinner');\n",
              "      quickchartButtonEl.classList.add('colab-df-quickchart-complete');\n",
              "    }\n",
              "    (() => {\n",
              "      let quickchartButtonEl =\n",
              "        document.querySelector('#df-4f14abc8-44d9-4866-8ca3-c4ebd9569b94 button');\n",
              "      quickchartButtonEl.style.display =\n",
              "        google.colab.kernel.accessAllowed ? 'block' : 'none';\n",
              "    })();\n",
              "  </script>\n",
              "</div>\n",
              "    </div>\n",
              "  </div>\n"
            ],
            "application/vnd.google.colaboratory.intrinsic+json": {
              "type": "dataframe",
              "variable_name": "df",
              "summary": "{\n  \"name\": \"df\",\n  \"rows\": 129,\n  \"fields\": [\n    {\n      \"column\": \"gender\",\n      \"properties\": {\n        \"dtype\": \"category\",\n        \"num_unique_values\": 2,\n        \"samples\": [\n          \"Laki-laki\",\n          \"Perempuan\"\n        ],\n        \"semantic_type\": \"\",\n        \"description\": \"\"\n      }\n    },\n    {\n      \"column\": \"age\",\n      \"properties\": {\n        \"dtype\": \"number\",\n        \"std\": 3,\n        \"min\": 13,\n        \"max\": 50,\n        \"num_unique_values\": 13,\n        \"samples\": [\n          31,\n          23\n        ],\n        \"semantic_type\": \"\",\n        \"description\": \"\"\n      }\n    },\n    {\n      \"column\": \"job\",\n      \"properties\": {\n        \"dtype\": \"category\",\n        \"num_unique_values\": 3,\n        \"samples\": [\n          \"Siswa/Mahasiswa\",\n          \"Pegawai/Pekerja kantoran\"\n        ],\n        \"semantic_type\": \"\",\n        \"description\": \"\"\n      }\n    },\n    {\n      \"column\": \"task\",\n      \"properties\": {\n        \"dtype\": \"category\",\n        \"num_unique_values\": 14,\n        \"samples\": [\n          \"Kreatif (Desain grafis, Penulis, dll)\",\n          \"Fisik (Pemain sepak bola, Pemain voli, Buruh, dll)\"\n        ],\n        \"semantic_type\": \"\",\n        \"description\": \"\"\n      }\n    },\n    {\n      \"column\": \"work_days\",\n      \"properties\": {\n        \"dtype\": \"category\",\n        \"num_unique_values\": 11,\n        \"samples\": [\n          \"5 hari\",\n          \"4 - 6 hari\"\n        ],\n        \"semantic_type\": \"\",\n        \"description\": \"\"\n      }\n    },\n    {\n      \"column\": \"difficulty\",\n      \"properties\": {\n        \"dtype\": \"number\",\n        \"std\": 0,\n        \"min\": 2,\n        \"max\": 5,\n        \"num_unique_values\": 4,\n        \"samples\": [\n          2,\n          5\n        ],\n        \"semantic_type\": \"\",\n        \"description\": \"\"\n      }\n    },\n    {\n      \"column\": \"average_work_hour\",\n      \"properties\": {\n        \"dtype\": \"number\",\n        \"std\": 17,\n        \"min\": 2,\n        \"max\": 85,\n        \"num_unique_values\": 21,\n        \"samples\": [\n          10,\n          75\n        ],\n        \"semantic_type\": \"\",\n        \"description\": \"\"\n      }\n    },\n    {\n      \"column\": \"average_rest\",\n      \"properties\": {\n        \"dtype\": \"number\",\n        \"std\": 106,\n        \"min\": 1,\n        \"max\": 1200,\n        \"num_unique_values\": 21,\n        \"samples\": [\n          2,\n          55\n        ],\n        \"semantic_type\": \"\",\n        \"description\": \"\"\n      }\n    },\n    {\n      \"column\": \"distraction\",\n      \"properties\": {\n        \"dtype\": \"category\",\n        \"num_unique_values\": 45,\n        \"samples\": [\n          \"Gangguan dari perangkat elektronik (notifikasi dari smartphone atau komputer), Gangguan jawa\",\n          \"Gangguan dari lingkungan sekitar (kebisingan), Gangguan dari perangkat elektronik (notifikasi dari smartphone atau komputer), Gangguan dari internal (Kelelahan, lapar, kehausan), Gangguan dari kesehatan\"\n        ],\n        \"semantic_type\": \"\",\n        \"description\": \"\"\n      }\n    },\n    {\n      \"column\": \"mood_before_work\",\n      \"properties\": {\n        \"dtype\": \"category\",\n        \"num_unique_values\": 3,\n        \"samples\": [\n          \"Semangat\",\n          \"Malas\"\n        ],\n        \"semantic_type\": \"\",\n        \"description\": \"\"\n      }\n    },\n    {\n      \"column\": \"mood_after_work\",\n      \"properties\": {\n        \"dtype\": \"category\",\n        \"num_unique_values\": 2,\n        \"samples\": [\n          \"Puas\",\n          \"Lega\"\n        ],\n        \"semantic_type\": \"\",\n        \"description\": \"\"\n      }\n    },\n    {\n      \"column\": \"deadline\",\n      \"properties\": {\n        \"dtype\": \"category\",\n        \"num_unique_values\": 6,\n        \"samples\": [\n          \"1 hingga 2 minggu\",\n          \"Kurang dari 1 minggu\"\n        ],\n        \"semantic_type\": \"\",\n        \"description\": \"\"\n      }\n    },\n    {\n      \"column\": \"importance\",\n      \"properties\": {\n        \"dtype\": \"number\",\n        \"std\": 1,\n        \"min\": 1,\n        \"max\": 5,\n        \"num_unique_values\": 5,\n        \"samples\": [\n          5,\n          3\n        ],\n        \"semantic_type\": \"\",\n        \"description\": \"\"\n      }\n    },\n    {\n      \"column\": \"sleep_average\",\n      \"properties\": {\n        \"dtype\": \"category\",\n        \"num_unique_values\": 20,\n        \"samples\": [\n          \"5 jam\",\n          \"4.5\"\n        ],\n        \"semantic_type\": \"\",\n        \"description\": \"\"\n      }\n    },\n    {\n      \"column\": \"productive_time\",\n      \"properties\": {\n        \"dtype\": \"category\",\n        \"num_unique_values\": 6,\n        \"samples\": [\n          \"23:00 - 06:00\",\n          \"09:00 - 12:00\"\n        ],\n        \"semantic_type\": \"\",\n        \"description\": \"\"\n      }\n    },\n    {\n      \"column\": \"urgency\",\n      \"properties\": {\n        \"dtype\": \"number\",\n        \"std\": 0.9920068222947888,\n        \"min\": 1.0,\n        \"max\": 5.0,\n        \"num_unique_values\": 5,\n        \"samples\": [\n          3.0,\n          1.0\n        ],\n        \"semantic_type\": \"\",\n        \"description\": \"\"\n      }\n    }\n  ]\n}"
            }
          },
          "metadata": {},
          "execution_count": 289
        }
      ]
    },
    {
      "cell_type": "markdown",
      "source": [
        "## **Encoded Data**"
      ],
      "metadata": {
        "id": "pcPOn-QteSa3"
      }
    },
    {
      "cell_type": "code",
      "source": [
        "encoding = {\"gender\" : {\"Laki-laki\" : 0, \"Perempuan\": 1},\n",
        "            \"job\" : {\"Pegawai/Pekerja kantoran\" : 0, \"Siswa/Mahasiswa\" : 1, \"Pengusaha\" : 2, \"Buruh\" : 4, \"Dosen\" : 5},\n",
        "            \"task\" : {\"Kreatif (Desain grafis, Penulis, dll)\" : 0, \"Kreatif\" : 0,\n",
        "                      \"Analitis (Analisis data, Analisis keuangan, dll)\" : 1, \"Analitis\" : 1, \"Proyek dan koding\" : 1,\n",
        "                      \"Fisik (Pemain sepak bola, Pemain voli, Buruh, dll)\" : 2, \"Fisik\" : 2,\n",
        "                      \"Administratif (Admin, Sekretaris, dll)\" : 3, \"Administratif\" : 3,\n",
        "                      \"Komunikasi (Jurnalis, Penyiar, Public relation, dll)\" : 4, \"Komunikasi\" : 4,\n",
        "                      \"Penelitian (Peneliti lingkungan, Peneliti budaya, Data scientist, dll)\" : 5, \"Penelitian\" : 5,\n",
        "                      \"Akademik (Dosen, Guru, Siswa, Mahasiswa, dll)\" : 6, \"Akademik\" : 6},\n",
        "            \"mood_before_work\" : {\"Semangat\" : 0, \"Cemas\" : 1, \"Malas\" : 2},\n",
        "            \"mood_after_work\" : {\"Puas\" : 0, \"Lega\" : 1, \"Kecewa\" : 2},\n",
        "            \"deadline\" : {\"Kurang dari 3 hari\" : 0, \"3 hari hingga 1 minggu\" : 1, \"Kurang dari 1 minggu\" : 1,  \"1 hingga 2 minggu\" : 2, \"2 minggu hingga 1 bulan\" : 3,\n",
        "                          \"Lebih dari 1 bulan\" : 4},\n",
        "            \"productive_time\" : {\"09:00 - 14:00\" : 0, \"09:00 - 12:00\" : 0, \"10:00 - 14:00\" : 1, \"13:00 - 17:00\" : 2, \"15:00 - 19:00\" : 3, \"23:00 - 06:00\" : 0}}\n",
        "df.replace(encoding, inplace=True)"
      ],
      "metadata": {
        "id": "67c_aE12eWq9"
      },
      "execution_count": null,
      "outputs": []
    },
    {
      "cell_type": "markdown",
      "source": [
        "## **Mengganti nilai Null**"
      ],
      "metadata": {
        "id": "JipV_r0kAWxl"
      }
    },
    {
      "cell_type": "code",
      "source": [
        "df.isnull().sum()"
      ],
      "metadata": {
        "id": "5QxTM26cvR0B",
        "colab": {
          "base_uri": "https://localhost:8080/"
        },
        "outputId": "2173a534-4895-42d7-de5e-86e60203d79d"
      },
      "execution_count": null,
      "outputs": [
        {
          "output_type": "execute_result",
          "data": {
            "text/plain": [
              "gender                0\n",
              "age                   0\n",
              "job                   0\n",
              "task                  0\n",
              "work_days             0\n",
              "difficulty            0\n",
              "average_work_hour     0\n",
              "average_rest          0\n",
              "distraction           0\n",
              "mood_before_work      0\n",
              "mood_after_work       0\n",
              "deadline              0\n",
              "importance            0\n",
              "sleep_average         0\n",
              "productive_time      19\n",
              "urgency              21\n",
              "dtype: int64"
            ]
          },
          "metadata": {},
          "execution_count": 291
        }
      ]
    },
    {
      "cell_type": "code",
      "source": [
        "productive_time_value = (0, 3)\n",
        "urgency_value = (1, 5)\n",
        "def replace_null_value (columnName, value) :\n",
        "  return columnName.apply(lambda x: random.randint(value[0], value[1]) if pd.isnull(x) else x)"
      ],
      "metadata": {
        "id": "nQyZFZVo_f37"
      },
      "execution_count": null,
      "outputs": []
    },
    {
      "cell_type": "code",
      "source": [
        "df['productive_time'] = replace_null_value(df['productive_time'], productive_time_value)\n",
        "df['urgency'] = replace_null_value(df['urgency'], urgency_value)"
      ],
      "metadata": {
        "id": "tK4flkFJFMQq"
      },
      "execution_count": null,
      "outputs": []
    },
    {
      "cell_type": "code",
      "source": [
        "df.isnull().sum()"
      ],
      "metadata": {
        "id": "_9QQ-Tn-F-Uq",
        "colab": {
          "base_uri": "https://localhost:8080/"
        },
        "outputId": "60bca4be-4d4f-4343-9efa-044f3a652cde"
      },
      "execution_count": null,
      "outputs": [
        {
          "output_type": "execute_result",
          "data": {
            "text/plain": [
              "gender               0\n",
              "age                  0\n",
              "job                  0\n",
              "task                 0\n",
              "work_days            0\n",
              "difficulty           0\n",
              "average_work_hour    0\n",
              "average_rest         0\n",
              "distraction          0\n",
              "mood_before_work     0\n",
              "mood_after_work      0\n",
              "deadline             0\n",
              "importance           0\n",
              "sleep_average        0\n",
              "productive_time      0\n",
              "urgency              0\n",
              "dtype: int64"
            ]
          },
          "metadata": {},
          "execution_count": 294
        }
      ]
    },
    {
      "cell_type": "markdown",
      "source": [
        "## **Melakukan regexp pada kolom work_days dan sleep_average**"
      ],
      "metadata": {
        "id": "rS_921-mHlpo"
      }
    },
    {
      "cell_type": "code",
      "source": [
        "df['sleep_average'] = df['sleep_average'].astype(str)\n",
        "df['work_days'] = df['work_days'].str.extract(r'(\\d+)\\s*hari$')\n",
        "df['sleep_average'] = df['sleep_average'].str.extract(r'(\\d+)').astype(float)"
      ],
      "metadata": {
        "id": "D3F8rK6vG6Ya"
      },
      "execution_count": null,
      "outputs": []
    },
    {
      "cell_type": "markdown",
      "source": [
        "## **One Hot Encoded distraction**"
      ],
      "metadata": {
        "id": "kS7W6P2pieeD"
      }
    },
    {
      "cell_type": "code",
      "source": [
        "encoded_df = df['distraction'].str.get_dummies(sep=', ')\n",
        "df = pd.concat([df, encoded_df], axis=1)\n",
        "df = df.drop(columns=['distraction'])\n",
        "df = df.T.drop_duplicates().T"
      ],
      "metadata": {
        "id": "pVJjgrOyW1O1"
      },
      "execution_count": null,
      "outputs": []
    },
    {
      "cell_type": "code",
      "source": [
        "df[df.columns.difference(['name'])] = df[df.columns.difference(['name'])].astype(float)\n",
        "df[df.columns.difference(['average_work_hour', 'average_rest', 'sleep_average', 'name'])] = df[df.columns.difference(['average_work_hour', 'average_rest',\n",
        "                                                                                                                      'sleep_average', 'name'])].astype(int)"
      ],
      "metadata": {
        "id": "VpI1slm4zjtX"
      },
      "execution_count": null,
      "outputs": []
    },
    {
      "cell_type": "markdown",
      "source": [
        "## **Mengubah value yang tidak masuk akal**"
      ],
      "metadata": {
        "id": "2abtezDFEaMr"
      }
    },
    {
      "cell_type": "code",
      "source": [
        "df.head(150)"
      ],
      "metadata": {
        "colab": {
          "base_uri": "https://localhost:8080/",
          "height": 582
        },
        "id": "6F1NtgXvaFjG",
        "outputId": "561e664e-5205-4932-f274-9e9538cb987f"
      },
      "execution_count": null,
      "outputs": [
        {
          "output_type": "execute_result",
          "data": {
            "text/plain": [
              "     gender  age  job  task  work_days  difficulty  average_work_hour  \\\n",
              "0         1   21    1     5          6           4               10.0   \n",
              "1         0   21    0     4          7           2               15.0   \n",
              "2         0   20    1     0          6           4                7.0   \n",
              "3         0   21    0     6          6           3                2.0   \n",
              "4         0   21    1     1          4           3                4.0   \n",
              "..      ...  ...  ...   ...        ...         ...                ...   \n",
              "124       0   21    1     0          7           4                6.0   \n",
              "125       0   19    1     0          7           3                6.0   \n",
              "126       0   21    1     6          5           4                8.0   \n",
              "127       0   20    1     6          5           4               45.0   \n",
              "128       0   20    1     6          5           4                7.0   \n",
              "\n",
              "     average_rest  mood_before_work  mood_after_work  ...  \\\n",
              "0             2.0                 0                1  ...   \n",
              "1            30.0                 0                0  ...   \n",
              "2            10.0                 2                1  ...   \n",
              "3            60.0                 1                1  ...   \n",
              "4            30.0                 0                1  ...   \n",
              "..            ...               ...              ...  ...   \n",
              "124           1.0                 2                1  ...   \n",
              "125           5.0                 0                1  ...   \n",
              "126           5.0                 2                0  ...   \n",
              "127          15.0                 1                0  ...   \n",
              "128           1.0                 1                0  ...   \n",
              "\n",
              "     Gangguan dari perangkat elektronik (notifikasi dari smartphone atau komputer)  \\\n",
              "0                                                    0                               \n",
              "1                                                    0                               \n",
              "2                                                    1                               \n",
              "3                                                    1                               \n",
              "4                                                    1                               \n",
              "..                                                 ...                               \n",
              "124                                                  1                               \n",
              "125                                                  1                               \n",
              "126                                                  1                               \n",
              "127                                                  1                               \n",
              "128                                                  1                               \n",
              "\n",
              "     Gangguan dari teman atau rekan kerja  Gangguan internet  Gangguan jawa  \\\n",
              "0                                       0                  0              0   \n",
              "1                                       0                  0              0   \n",
              "2                                       0                  0              0   \n",
              "3                                       0                  0              0   \n",
              "4                                       0                  0              0   \n",
              "..                                    ...                ...            ...   \n",
              "124                                     1                  0              0   \n",
              "125                                     1                  0              0   \n",
              "126                                     0                  0              0   \n",
              "127                                     0                  0              0   \n",
              "128                                     0                  0              0   \n",
              "\n",
              "     MATI LAMPU ??  Mood   Panggilan Telepon  Temen ngajak mabar??  Tidak ada  \\\n",
              "0                0      0                  0                     0          0   \n",
              "1                0      0                  0                     0          0   \n",
              "2                0      0                  0                     0          0   \n",
              "3                0      0                  0                     0          0   \n",
              "4                0      0                  0                     0          0   \n",
              "..             ...    ...                ...                   ...        ...   \n",
              "124              0      0                  0                     1          0   \n",
              "125              0      0                  0                     0          0   \n",
              "126              0      0                  0                     0          0   \n",
              "127              0      0                  0                     0          0   \n",
              "128              0      0                  0                     0          0   \n",
              "\n",
              "     ajakan bermain  \n",
              "0                 0  \n",
              "1                 0  \n",
              "2                 0  \n",
              "3                 0  \n",
              "4                 0  \n",
              "..              ...  \n",
              "124               0  \n",
              "125               0  \n",
              "126               0  \n",
              "127               0  \n",
              "128               0  \n",
              "\n",
              "[129 rows x 29 columns]"
            ],
            "text/html": [
              "\n",
              "  <div id=\"df-3c311ab5-ae6b-4511-a5db-2eb37135f9b7\" class=\"colab-df-container\">\n",
              "    <div>\n",
              "<style scoped>\n",
              "    .dataframe tbody tr th:only-of-type {\n",
              "        vertical-align: middle;\n",
              "    }\n",
              "\n",
              "    .dataframe tbody tr th {\n",
              "        vertical-align: top;\n",
              "    }\n",
              "\n",
              "    .dataframe thead th {\n",
              "        text-align: right;\n",
              "    }\n",
              "</style>\n",
              "<table border=\"1\" class=\"dataframe\">\n",
              "  <thead>\n",
              "    <tr style=\"text-align: right;\">\n",
              "      <th></th>\n",
              "      <th>gender</th>\n",
              "      <th>age</th>\n",
              "      <th>job</th>\n",
              "      <th>task</th>\n",
              "      <th>work_days</th>\n",
              "      <th>difficulty</th>\n",
              "      <th>average_work_hour</th>\n",
              "      <th>average_rest</th>\n",
              "      <th>mood_before_work</th>\n",
              "      <th>mood_after_work</th>\n",
              "      <th>...</th>\n",
              "      <th>Gangguan dari perangkat elektronik (notifikasi dari smartphone atau komputer)</th>\n",
              "      <th>Gangguan dari teman atau rekan kerja</th>\n",
              "      <th>Gangguan internet</th>\n",
              "      <th>Gangguan jawa</th>\n",
              "      <th>MATI LAMPU ??</th>\n",
              "      <th>Mood</th>\n",
              "      <th>Panggilan Telepon</th>\n",
              "      <th>Temen ngajak mabar??</th>\n",
              "      <th>Tidak ada</th>\n",
              "      <th>ajakan bermain</th>\n",
              "    </tr>\n",
              "  </thead>\n",
              "  <tbody>\n",
              "    <tr>\n",
              "      <th>0</th>\n",
              "      <td>1</td>\n",
              "      <td>21</td>\n",
              "      <td>1</td>\n",
              "      <td>5</td>\n",
              "      <td>6</td>\n",
              "      <td>4</td>\n",
              "      <td>10.0</td>\n",
              "      <td>2.0</td>\n",
              "      <td>0</td>\n",
              "      <td>1</td>\n",
              "      <td>...</td>\n",
              "      <td>0</td>\n",
              "      <td>0</td>\n",
              "      <td>0</td>\n",
              "      <td>0</td>\n",
              "      <td>0</td>\n",
              "      <td>0</td>\n",
              "      <td>0</td>\n",
              "      <td>0</td>\n",
              "      <td>0</td>\n",
              "      <td>0</td>\n",
              "    </tr>\n",
              "    <tr>\n",
              "      <th>1</th>\n",
              "      <td>0</td>\n",
              "      <td>21</td>\n",
              "      <td>0</td>\n",
              "      <td>4</td>\n",
              "      <td>7</td>\n",
              "      <td>2</td>\n",
              "      <td>15.0</td>\n",
              "      <td>30.0</td>\n",
              "      <td>0</td>\n",
              "      <td>0</td>\n",
              "      <td>...</td>\n",
              "      <td>0</td>\n",
              "      <td>0</td>\n",
              "      <td>0</td>\n",
              "      <td>0</td>\n",
              "      <td>0</td>\n",
              "      <td>0</td>\n",
              "      <td>0</td>\n",
              "      <td>0</td>\n",
              "      <td>0</td>\n",
              "      <td>0</td>\n",
              "    </tr>\n",
              "    <tr>\n",
              "      <th>2</th>\n",
              "      <td>0</td>\n",
              "      <td>20</td>\n",
              "      <td>1</td>\n",
              "      <td>0</td>\n",
              "      <td>6</td>\n",
              "      <td>4</td>\n",
              "      <td>7.0</td>\n",
              "      <td>10.0</td>\n",
              "      <td>2</td>\n",
              "      <td>1</td>\n",
              "      <td>...</td>\n",
              "      <td>1</td>\n",
              "      <td>0</td>\n",
              "      <td>0</td>\n",
              "      <td>0</td>\n",
              "      <td>0</td>\n",
              "      <td>0</td>\n",
              "      <td>0</td>\n",
              "      <td>0</td>\n",
              "      <td>0</td>\n",
              "      <td>0</td>\n",
              "    </tr>\n",
              "    <tr>\n",
              "      <th>3</th>\n",
              "      <td>0</td>\n",
              "      <td>21</td>\n",
              "      <td>0</td>\n",
              "      <td>6</td>\n",
              "      <td>6</td>\n",
              "      <td>3</td>\n",
              "      <td>2.0</td>\n",
              "      <td>60.0</td>\n",
              "      <td>1</td>\n",
              "      <td>1</td>\n",
              "      <td>...</td>\n",
              "      <td>1</td>\n",
              "      <td>0</td>\n",
              "      <td>0</td>\n",
              "      <td>0</td>\n",
              "      <td>0</td>\n",
              "      <td>0</td>\n",
              "      <td>0</td>\n",
              "      <td>0</td>\n",
              "      <td>0</td>\n",
              "      <td>0</td>\n",
              "    </tr>\n",
              "    <tr>\n",
              "      <th>4</th>\n",
              "      <td>0</td>\n",
              "      <td>21</td>\n",
              "      <td>1</td>\n",
              "      <td>1</td>\n",
              "      <td>4</td>\n",
              "      <td>3</td>\n",
              "      <td>4.0</td>\n",
              "      <td>30.0</td>\n",
              "      <td>0</td>\n",
              "      <td>1</td>\n",
              "      <td>...</td>\n",
              "      <td>1</td>\n",
              "      <td>0</td>\n",
              "      <td>0</td>\n",
              "      <td>0</td>\n",
              "      <td>0</td>\n",
              "      <td>0</td>\n",
              "      <td>0</td>\n",
              "      <td>0</td>\n",
              "      <td>0</td>\n",
              "      <td>0</td>\n",
              "    </tr>\n",
              "    <tr>\n",
              "      <th>...</th>\n",
              "      <td>...</td>\n",
              "      <td>...</td>\n",
              "      <td>...</td>\n",
              "      <td>...</td>\n",
              "      <td>...</td>\n",
              "      <td>...</td>\n",
              "      <td>...</td>\n",
              "      <td>...</td>\n",
              "      <td>...</td>\n",
              "      <td>...</td>\n",
              "      <td>...</td>\n",
              "      <td>...</td>\n",
              "      <td>...</td>\n",
              "      <td>...</td>\n",
              "      <td>...</td>\n",
              "      <td>...</td>\n",
              "      <td>...</td>\n",
              "      <td>...</td>\n",
              "      <td>...</td>\n",
              "      <td>...</td>\n",
              "      <td>...</td>\n",
              "    </tr>\n",
              "    <tr>\n",
              "      <th>124</th>\n",
              "      <td>0</td>\n",
              "      <td>21</td>\n",
              "      <td>1</td>\n",
              "      <td>0</td>\n",
              "      <td>7</td>\n",
              "      <td>4</td>\n",
              "      <td>6.0</td>\n",
              "      <td>1.0</td>\n",
              "      <td>2</td>\n",
              "      <td>1</td>\n",
              "      <td>...</td>\n",
              "      <td>1</td>\n",
              "      <td>1</td>\n",
              "      <td>0</td>\n",
              "      <td>0</td>\n",
              "      <td>0</td>\n",
              "      <td>0</td>\n",
              "      <td>0</td>\n",
              "      <td>1</td>\n",
              "      <td>0</td>\n",
              "      <td>0</td>\n",
              "    </tr>\n",
              "    <tr>\n",
              "      <th>125</th>\n",
              "      <td>0</td>\n",
              "      <td>19</td>\n",
              "      <td>1</td>\n",
              "      <td>0</td>\n",
              "      <td>7</td>\n",
              "      <td>3</td>\n",
              "      <td>6.0</td>\n",
              "      <td>5.0</td>\n",
              "      <td>0</td>\n",
              "      <td>1</td>\n",
              "      <td>...</td>\n",
              "      <td>1</td>\n",
              "      <td>1</td>\n",
              "      <td>0</td>\n",
              "      <td>0</td>\n",
              "      <td>0</td>\n",
              "      <td>0</td>\n",
              "      <td>0</td>\n",
              "      <td>0</td>\n",
              "      <td>0</td>\n",
              "      <td>0</td>\n",
              "    </tr>\n",
              "    <tr>\n",
              "      <th>126</th>\n",
              "      <td>0</td>\n",
              "      <td>21</td>\n",
              "      <td>1</td>\n",
              "      <td>6</td>\n",
              "      <td>5</td>\n",
              "      <td>4</td>\n",
              "      <td>8.0</td>\n",
              "      <td>5.0</td>\n",
              "      <td>2</td>\n",
              "      <td>0</td>\n",
              "      <td>...</td>\n",
              "      <td>1</td>\n",
              "      <td>0</td>\n",
              "      <td>0</td>\n",
              "      <td>0</td>\n",
              "      <td>0</td>\n",
              "      <td>0</td>\n",
              "      <td>0</td>\n",
              "      <td>0</td>\n",
              "      <td>0</td>\n",
              "      <td>0</td>\n",
              "    </tr>\n",
              "    <tr>\n",
              "      <th>127</th>\n",
              "      <td>0</td>\n",
              "      <td>20</td>\n",
              "      <td>1</td>\n",
              "      <td>6</td>\n",
              "      <td>5</td>\n",
              "      <td>4</td>\n",
              "      <td>45.0</td>\n",
              "      <td>15.0</td>\n",
              "      <td>1</td>\n",
              "      <td>0</td>\n",
              "      <td>...</td>\n",
              "      <td>1</td>\n",
              "      <td>0</td>\n",
              "      <td>0</td>\n",
              "      <td>0</td>\n",
              "      <td>0</td>\n",
              "      <td>0</td>\n",
              "      <td>0</td>\n",
              "      <td>0</td>\n",
              "      <td>0</td>\n",
              "      <td>0</td>\n",
              "    </tr>\n",
              "    <tr>\n",
              "      <th>128</th>\n",
              "      <td>0</td>\n",
              "      <td>20</td>\n",
              "      <td>1</td>\n",
              "      <td>6</td>\n",
              "      <td>5</td>\n",
              "      <td>4</td>\n",
              "      <td>7.0</td>\n",
              "      <td>1.0</td>\n",
              "      <td>1</td>\n",
              "      <td>0</td>\n",
              "      <td>...</td>\n",
              "      <td>1</td>\n",
              "      <td>0</td>\n",
              "      <td>0</td>\n",
              "      <td>0</td>\n",
              "      <td>0</td>\n",
              "      <td>0</td>\n",
              "      <td>0</td>\n",
              "      <td>0</td>\n",
              "      <td>0</td>\n",
              "      <td>0</td>\n",
              "    </tr>\n",
              "  </tbody>\n",
              "</table>\n",
              "<p>129 rows × 29 columns</p>\n",
              "</div>\n",
              "    <div class=\"colab-df-buttons\">\n",
              "\n",
              "  <div class=\"colab-df-container\">\n",
              "    <button class=\"colab-df-convert\" onclick=\"convertToInteractive('df-3c311ab5-ae6b-4511-a5db-2eb37135f9b7')\"\n",
              "            title=\"Convert this dataframe to an interactive table.\"\n",
              "            style=\"display:none;\">\n",
              "\n",
              "  <svg xmlns=\"http://www.w3.org/2000/svg\" height=\"24px\" viewBox=\"0 -960 960 960\">\n",
              "    <path d=\"M120-120v-720h720v720H120Zm60-500h600v-160H180v160Zm220 220h160v-160H400v160Zm0 220h160v-160H400v160ZM180-400h160v-160H180v160Zm440 0h160v-160H620v160ZM180-180h160v-160H180v160Zm440 0h160v-160H620v160Z\"/>\n",
              "  </svg>\n",
              "    </button>\n",
              "\n",
              "  <style>\n",
              "    .colab-df-container {\n",
              "      display:flex;\n",
              "      gap: 12px;\n",
              "    }\n",
              "\n",
              "    .colab-df-convert {\n",
              "      background-color: #E8F0FE;\n",
              "      border: none;\n",
              "      border-radius: 50%;\n",
              "      cursor: pointer;\n",
              "      display: none;\n",
              "      fill: #1967D2;\n",
              "      height: 32px;\n",
              "      padding: 0 0 0 0;\n",
              "      width: 32px;\n",
              "    }\n",
              "\n",
              "    .colab-df-convert:hover {\n",
              "      background-color: #E2EBFA;\n",
              "      box-shadow: 0px 1px 2px rgba(60, 64, 67, 0.3), 0px 1px 3px 1px rgba(60, 64, 67, 0.15);\n",
              "      fill: #174EA6;\n",
              "    }\n",
              "\n",
              "    .colab-df-buttons div {\n",
              "      margin-bottom: 4px;\n",
              "    }\n",
              "\n",
              "    [theme=dark] .colab-df-convert {\n",
              "      background-color: #3B4455;\n",
              "      fill: #D2E3FC;\n",
              "    }\n",
              "\n",
              "    [theme=dark] .colab-df-convert:hover {\n",
              "      background-color: #434B5C;\n",
              "      box-shadow: 0px 1px 3px 1px rgba(0, 0, 0, 0.15);\n",
              "      filter: drop-shadow(0px 1px 2px rgba(0, 0, 0, 0.3));\n",
              "      fill: #FFFFFF;\n",
              "    }\n",
              "  </style>\n",
              "\n",
              "    <script>\n",
              "      const buttonEl =\n",
              "        document.querySelector('#df-3c311ab5-ae6b-4511-a5db-2eb37135f9b7 button.colab-df-convert');\n",
              "      buttonEl.style.display =\n",
              "        google.colab.kernel.accessAllowed ? 'block' : 'none';\n",
              "\n",
              "      async function convertToInteractive(key) {\n",
              "        const element = document.querySelector('#df-3c311ab5-ae6b-4511-a5db-2eb37135f9b7');\n",
              "        const dataTable =\n",
              "          await google.colab.kernel.invokeFunction('convertToInteractive',\n",
              "                                                    [key], {});\n",
              "        if (!dataTable) return;\n",
              "\n",
              "        const docLinkHtml = 'Like what you see? Visit the ' +\n",
              "          '<a target=\"_blank\" href=https://colab.research.google.com/notebooks/data_table.ipynb>data table notebook</a>'\n",
              "          + ' to learn more about interactive tables.';\n",
              "        element.innerHTML = '';\n",
              "        dataTable['output_type'] = 'display_data';\n",
              "        await google.colab.output.renderOutput(dataTable, element);\n",
              "        const docLink = document.createElement('div');\n",
              "        docLink.innerHTML = docLinkHtml;\n",
              "        element.appendChild(docLink);\n",
              "      }\n",
              "    </script>\n",
              "  </div>\n",
              "\n",
              "\n",
              "<div id=\"df-48626078-991b-4413-bbf8-c86f09217d9f\">\n",
              "  <button class=\"colab-df-quickchart\" onclick=\"quickchart('df-48626078-991b-4413-bbf8-c86f09217d9f')\"\n",
              "            title=\"Suggest charts\"\n",
              "            style=\"display:none;\">\n",
              "\n",
              "<svg xmlns=\"http://www.w3.org/2000/svg\" height=\"24px\"viewBox=\"0 0 24 24\"\n",
              "     width=\"24px\">\n",
              "    <g>\n",
              "        <path d=\"M19 3H5c-1.1 0-2 .9-2 2v14c0 1.1.9 2 2 2h14c1.1 0 2-.9 2-2V5c0-1.1-.9-2-2-2zM9 17H7v-7h2v7zm4 0h-2V7h2v10zm4 0h-2v-4h2v4z\"/>\n",
              "    </g>\n",
              "</svg>\n",
              "  </button>\n",
              "\n",
              "<style>\n",
              "  .colab-df-quickchart {\n",
              "      --bg-color: #E8F0FE;\n",
              "      --fill-color: #1967D2;\n",
              "      --hover-bg-color: #E2EBFA;\n",
              "      --hover-fill-color: #174EA6;\n",
              "      --disabled-fill-color: #AAA;\n",
              "      --disabled-bg-color: #DDD;\n",
              "  }\n",
              "\n",
              "  [theme=dark] .colab-df-quickchart {\n",
              "      --bg-color: #3B4455;\n",
              "      --fill-color: #D2E3FC;\n",
              "      --hover-bg-color: #434B5C;\n",
              "      --hover-fill-color: #FFFFFF;\n",
              "      --disabled-bg-color: #3B4455;\n",
              "      --disabled-fill-color: #666;\n",
              "  }\n",
              "\n",
              "  .colab-df-quickchart {\n",
              "    background-color: var(--bg-color);\n",
              "    border: none;\n",
              "    border-radius: 50%;\n",
              "    cursor: pointer;\n",
              "    display: none;\n",
              "    fill: var(--fill-color);\n",
              "    height: 32px;\n",
              "    padding: 0;\n",
              "    width: 32px;\n",
              "  }\n",
              "\n",
              "  .colab-df-quickchart:hover {\n",
              "    background-color: var(--hover-bg-color);\n",
              "    box-shadow: 0 1px 2px rgba(60, 64, 67, 0.3), 0 1px 3px 1px rgba(60, 64, 67, 0.15);\n",
              "    fill: var(--button-hover-fill-color);\n",
              "  }\n",
              "\n",
              "  .colab-df-quickchart-complete:disabled,\n",
              "  .colab-df-quickchart-complete:disabled:hover {\n",
              "    background-color: var(--disabled-bg-color);\n",
              "    fill: var(--disabled-fill-color);\n",
              "    box-shadow: none;\n",
              "  }\n",
              "\n",
              "  .colab-df-spinner {\n",
              "    border: 2px solid var(--fill-color);\n",
              "    border-color: transparent;\n",
              "    border-bottom-color: var(--fill-color);\n",
              "    animation:\n",
              "      spin 1s steps(1) infinite;\n",
              "  }\n",
              "\n",
              "  @keyframes spin {\n",
              "    0% {\n",
              "      border-color: transparent;\n",
              "      border-bottom-color: var(--fill-color);\n",
              "      border-left-color: var(--fill-color);\n",
              "    }\n",
              "    20% {\n",
              "      border-color: transparent;\n",
              "      border-left-color: var(--fill-color);\n",
              "      border-top-color: var(--fill-color);\n",
              "    }\n",
              "    30% {\n",
              "      border-color: transparent;\n",
              "      border-left-color: var(--fill-color);\n",
              "      border-top-color: var(--fill-color);\n",
              "      border-right-color: var(--fill-color);\n",
              "    }\n",
              "    40% {\n",
              "      border-color: transparent;\n",
              "      border-right-color: var(--fill-color);\n",
              "      border-top-color: var(--fill-color);\n",
              "    }\n",
              "    60% {\n",
              "      border-color: transparent;\n",
              "      border-right-color: var(--fill-color);\n",
              "    }\n",
              "    80% {\n",
              "      border-color: transparent;\n",
              "      border-right-color: var(--fill-color);\n",
              "      border-bottom-color: var(--fill-color);\n",
              "    }\n",
              "    90% {\n",
              "      border-color: transparent;\n",
              "      border-bottom-color: var(--fill-color);\n",
              "    }\n",
              "  }\n",
              "</style>\n",
              "\n",
              "  <script>\n",
              "    async function quickchart(key) {\n",
              "      const quickchartButtonEl =\n",
              "        document.querySelector('#' + key + ' button');\n",
              "      quickchartButtonEl.disabled = true;  // To prevent multiple clicks.\n",
              "      quickchartButtonEl.classList.add('colab-df-spinner');\n",
              "      try {\n",
              "        const charts = await google.colab.kernel.invokeFunction(\n",
              "            'suggestCharts', [key], {});\n",
              "      } catch (error) {\n",
              "        console.error('Error during call to suggestCharts:', error);\n",
              "      }\n",
              "      quickchartButtonEl.classList.remove('colab-df-spinner');\n",
              "      quickchartButtonEl.classList.add('colab-df-quickchart-complete');\n",
              "    }\n",
              "    (() => {\n",
              "      let quickchartButtonEl =\n",
              "        document.querySelector('#df-48626078-991b-4413-bbf8-c86f09217d9f button');\n",
              "      quickchartButtonEl.style.display =\n",
              "        google.colab.kernel.accessAllowed ? 'block' : 'none';\n",
              "    })();\n",
              "  </script>\n",
              "</div>\n",
              "    </div>\n",
              "  </div>\n"
            ],
            "application/vnd.google.colaboratory.intrinsic+json": {
              "type": "dataframe",
              "variable_name": "df"
            }
          },
          "metadata": {},
          "execution_count": 298
        }
      ]
    },
    {
      "cell_type": "code",
      "source": [
        "df['average_rest'].describe()"
      ],
      "metadata": {
        "colab": {
          "base_uri": "https://localhost:8080/"
        },
        "id": "H1VVRH2wCm0R",
        "outputId": "7c931a9c-bf14-454e-e04e-aa60ca37a607"
      },
      "execution_count": null,
      "outputs": [
        {
          "output_type": "execute_result",
          "data": {
            "text/plain": [
              "count     129.000000\n",
              "mean       20.767442\n",
              "std       106.188108\n",
              "min         1.000000\n",
              "25%         2.000000\n",
              "50%         3.000000\n",
              "75%        15.000000\n",
              "max      1200.000000\n",
              "Name: average_rest, dtype: float64"
            ]
          },
          "metadata": {},
          "execution_count": 299
        }
      ]
    },
    {
      "cell_type": "code",
      "source": [
        "df['average_work_hour'].describe()"
      ],
      "metadata": {
        "colab": {
          "base_uri": "https://localhost:8080/"
        },
        "id": "as8dvNpXHe7Z",
        "outputId": "446bf0c1-76dc-49d9-ce5b-0e9be1fd96bc"
      },
      "execution_count": null,
      "outputs": [
        {
          "output_type": "execute_result",
          "data": {
            "text/plain": [
              "count    129.000000\n",
              "mean      11.201550\n",
              "std       17.084523\n",
              "min        2.000000\n",
              "25%        4.000000\n",
              "50%        6.000000\n",
              "75%        8.000000\n",
              "max       85.000000\n",
              "Name: average_work_hour, dtype: float64"
            ]
          },
          "metadata": {},
          "execution_count": 300
        }
      ]
    },
    {
      "cell_type": "code",
      "source": [
        "scatterPlot(df['average_work_hour'])\n",
        "scatterPlot(df['average_rest'], 'median')"
      ],
      "metadata": {
        "colab": {
          "base_uri": "https://localhost:8080/",
          "height": 957
        },
        "id": "Xjy4yGMHCT8r",
        "outputId": "8257eb92-f2b0-4837-a474-8700b7f23e78"
      },
      "execution_count": null,
      "outputs": [
        {
          "output_type": "display_data",
          "data": {
            "text/plain": [
              "<Figure size 1000x500 with 1 Axes>"
            ],
            "image/png": "[encoded data removed]"
          },
          "metadata": {}
        },
        {
          "output_type": "display_data",
          "data": {
            "text/plain": [
              "<Figure size 1000x500 with 1 Axes>"
            ],
            "image/png": "[encoded data removed]"
          },
          "metadata": {}
        }
      ]
    },
    {
      "cell_type": "code",
      "source": [
        "def handle_outliers(df, column_name):\n",
        "    # Menghitung Q1 (25th percentile) dan Q3 (75th percentile)\n",
        "    Q1 = df[column_name].quantile(0.25)\n",
        "    Q3 = df[column_name].quantile(0.75)\n",
        "    # Menghitung IQR (Interquartile Range)\n",
        "    IQR = Q3 - Q1\n",
        "    # Menentukan batas bawah dan batas atas untuk mendeteksi outliers\n",
        "    lower_bound = Q1 - 1.5 * IQR\n",
        "    upper_bound = Q3 + 1.5 * IQR\n",
        "    print(f\"Lower Bound: {lower_bound}\")\n",
        "    print(f\"Upper Bound: {upper_bound}\")\n",
        "\n",
        "    # Mengganti nilai outliers dengan NaN\n",
        "    df[column_name] = np.where((df[column_name] < lower_bound) | (df[column_name] > upper_bound), np.nan, df[column_name])\n",
        "\n",
        "    # Mengganti NaN dengan median\n",
        "    median = df[column_name].median()\n",
        "    df[column_name].fillna(median, inplace=True)\n",
        "\n",
        "    return df\n",
        "\n",
        "handle_outliers(df, 'average_work_hour')\n",
        "df['average_work_hour'].describe()"
      ],
      "metadata": {
        "colab": {
          "base_uri": "https://localhost:8080/"
        },
        "id": "qKIt-8eCtY7R",
        "outputId": "9acb9e80-be1b-4562-e00c-8bdcc5182ff7"
      },
      "execution_count": null,
      "outputs": [
        {
          "output_type": "stream",
          "name": "stdout",
          "text": [
            "Lower Bound: -2.0\n",
            "Upper Bound: 14.0\n"
          ]
        },
        {
          "output_type": "execute_result",
          "data": {
            "text/plain": [
              "count    129.000000\n",
              "mean       5.751938\n",
              "std        2.308378\n",
              "min        2.000000\n",
              "25%        4.000000\n",
              "50%        6.000000\n",
              "75%        7.000000\n",
              "max       12.000000\n",
              "Name: average_work_hour, dtype: float64"
            ]
          },
          "metadata": {},
          "execution_count": 302
        }
      ]
    },
    {
      "cell_type": "code",
      "source": [
        "scatterPlot(df['average_work_hour'])"
      ],
      "metadata": {
        "colab": {
          "base_uri": "https://localhost:8080/",
          "height": 487
        },
        "id": "PK0AHoyIzy8c",
        "outputId": "2a0a9cba-56b1-45bf-ddc1-8fd1744e8b00"
      },
      "execution_count": null,
      "outputs": [
        {
          "output_type": "display_data",
          "data": {
            "text/plain": [
              "<Figure size 1000x500 with 1 Axes>"
            ],
            "image/png": "[encoded data removed]"
          },
          "metadata": {}
        }
      ]
    },
    {
      "cell_type": "code",
      "source": [
        "def calculate_statistic(df, column_name, statistic='mean', decimals=1):\n",
        "    if statistic == 'mean':\n",
        "        result = round(df[column_name].mean(), decimals)\n",
        "    elif statistic == 'median':\n",
        "        result = round(df[column_name].median(), decimals)\n",
        "    else:\n",
        "        raise ValueError(\"Statistic must 'mean' or 'median'\")\n",
        "    return result\n",
        "\n",
        "# def modify_average_rest(x, describe):\n",
        "#     if x > 3:\n",
        "#         return describe\n",
        "#     else:\n",
        "#         return x\n",
        "\n",
        "def modify_average_rest(x):\n",
        "    if x >= 1200:\n",
        "        return round((x / 1200), 1)\n",
        "    elif x > 5:\n",
        "        return round((x / 60), 1)\n",
        "    else:\n",
        "        return x\n",
        "\n",
        "\n",
        "def custom_round(x):\n",
        "    if x - np.floor(x) < 0.5:\n",
        "        return np.floor(x)\n",
        "    else:\n",
        "        return np.ceil(x)\n",
        "\n",
        "df['average_work_hour'] = df['average_work_hour'].apply(custom_round)\n",
        "df['average_work_hour'] = df['average_work_hour'].astype(int)\n",
        "\n",
        "# df['average_rest'] = df['average_rest'].apply(lambda x: modify_average_rest(x, calculate_statistic(df, 'average_rest', 'median')))\n",
        "for col in df[['average_rest']]:\n",
        "    df[col] = df[col].apply(modify_average_rest)"
      ],
      "metadata": {
        "id": "QfFkhwvH-B5O"
      },
      "execution_count": null,
      "outputs": []
    },
    {
      "cell_type": "code",
      "source": [
        "df['average_work_hour'].describe()"
      ],
      "metadata": {
        "colab": {
          "base_uri": "https://localhost:8080/"
        },
        "id": "LYJptthgWdNi",
        "outputId": "1b931ce8-ad07-4920-c376-9b7fa1d846f7"
      },
      "execution_count": null,
      "outputs": [
        {
          "output_type": "execute_result",
          "data": {
            "text/plain": [
              "count    129.000000\n",
              "mean       5.751938\n",
              "std        2.308378\n",
              "min        2.000000\n",
              "25%        4.000000\n",
              "50%        6.000000\n",
              "75%        7.000000\n",
              "max       12.000000\n",
              "Name: average_work_hour, dtype: float64"
            ]
          },
          "metadata": {},
          "execution_count": 305
        }
      ]
    },
    {
      "cell_type": "code",
      "source": [
        "df['average_rest'].describe()"
      ],
      "metadata": {
        "id": "jZOJjbF7Wj1r",
        "outputId": "e4361893-8f0c-4aeb-a97b-580b128bca96",
        "colab": {
          "base_uri": "https://localhost:8080/"
        }
      },
      "execution_count": null,
      "outputs": [
        {
          "output_type": "execute_result",
          "data": {
            "text/plain": [
              "count    129.000000\n",
              "mean       1.687597\n",
              "std        1.412500\n",
              "min        0.100000\n",
              "25%        0.800000\n",
              "50%        1.000000\n",
              "75%        2.000000\n",
              "max        5.000000\n",
              "Name: average_rest, dtype: float64"
            ]
          },
          "metadata": {},
          "execution_count": 306
        }
      ]
    },
    {
      "cell_type": "code",
      "source": [
        "scatterPlot(df['average_rest'])\n",
        "scatterPlot(df['average_work_hour'], 'mean')\n",
        "\n",
        "sns.histplot(df['average_work_hour'], bins=20, kde=True)\n",
        "plt.title('Distribution of Average Work Hours')\n",
        "plt.show()"
      ],
      "metadata": {
        "colab": {
          "base_uri": "https://localhost:8080/",
          "height": 1000
        },
        "id": "60ZhnqWU94nV",
        "outputId": "f665459c-3232-4440-bb98-61ac40202a75"
      },
      "execution_count": null,
      "outputs": [
        {
          "output_type": "display_data",
          "data": {
            "text/plain": [
              "<Figure size 1000x500 with 1 Axes>"
            ],
            "image/png": "[encoded data removed]"
          },
          "metadata": {}
        },
        {
          "output_type": "display_data",
          "data": {
            "text/plain": [
              "<Figure size 1000x500 with 1 Axes>"
            ],
            "image/png": "[encoded data removed]"
          },
          "metadata": {}
        },
        {
          "output_type": "display_data",
          "data": {
            "text/plain": [
              "<Figure size 640x480 with 1 Axes>"
            ],
            "image/png": "[encoded data removed]"
          },
          "metadata": {}
        }
      ]
    },
    {
      "cell_type": "markdown",
      "source": [
        "## **Menjumlahkan Gangguan**"
      ],
      "metadata": {
        "id": "GcDlPX74RUJi"
      }
    },
    {
      "cell_type": "code",
      "source": [
        "print(df.columns)"
      ],
      "metadata": {
        "colab": {
          "base_uri": "https://localhost:8080/"
        },
        "id": "phgBZ8SFSBaH",
        "outputId": "f65501fe-bdaf-4969-b6b5-dc186edf36f7"
      },
      "execution_count": null,
      "outputs": [
        {
          "output_type": "stream",
          "name": "stdout",
          "text": [
            "Index(['gender', 'age', 'job', 'task', 'work_days', 'difficulty',\n",
            "       'average_work_hour', 'average_rest', 'mood_before_work',\n",
            "       'mood_after_work', 'deadline', 'importance', 'sleep_average',\n",
            "       'productive_time', 'urgency', 'Gangguan dari atasan',\n",
            "       'Gangguan dari internal (Kelelahan', 'Gangguan dari kesehatan',\n",
            "       'Gangguan dari lingkungan sekitar (kebisingan)',\n",
            "       'Gangguan dari perangkat elektronik (notifikasi dari smartphone atau komputer)',\n",
            "       'Gangguan dari teman atau rekan kerja', 'Gangguan internet',\n",
            "       'Gangguan jawa', 'MATI LAMPU ??', 'Mood ', 'Panggilan Telepon',\n",
            "       'Temen ngajak mabar??', 'Tidak ada', 'ajakan bermain'],\n",
            "      dtype='object')\n"
          ]
        }
      ]
    },
    {
      "cell_type": "code",
      "source": [
        "df['total_gangguan'] = df[['Gangguan dari atasan',\n",
        "       'Gangguan dari internal (Kelelahan', 'Gangguan dari kesehatan',\n",
        "       'Gangguan dari lingkungan sekitar (kebisingan)',\n",
        "       'Gangguan dari perangkat elektronik (notifikasi dari smartphone atau komputer)',\n",
        "       'Gangguan dari teman atau rekan kerja', 'Gangguan internet',\n",
        "       'Gangguan jawa', 'MATI LAMPU ??', 'Mood ', 'Panggilan Telepon',\n",
        "       'Temen ngajak mabar??', 'Tidak ada', 'ajakan bermain']].sum(axis=1)"
      ],
      "metadata": {
        "id": "1ozGaEf4RTvK"
      },
      "execution_count": null,
      "outputs": []
    },
    {
      "cell_type": "code",
      "source": [
        "df['total_gangguan'].describe()"
      ],
      "metadata": {
        "colab": {
          "base_uri": "https://localhost:8080/"
        },
        "id": "pSHoIasniH8L",
        "outputId": "0aaba503-7cfd-4c4f-cd4f-8f7767cef68b"
      },
      "execution_count": null,
      "outputs": [
        {
          "output_type": "execute_result",
          "data": {
            "text/plain": [
              "count    129.000000\n",
              "mean       2.294574\n",
              "std        1.220931\n",
              "min        1.000000\n",
              "25%        1.000000\n",
              "50%        2.000000\n",
              "75%        3.000000\n",
              "max        7.000000\n",
              "Name: total_gangguan, dtype: float64"
            ]
          },
          "metadata": {},
          "execution_count": 310
        }
      ]
    },
    {
      "cell_type": "markdown",
      "source": [
        "## **Kategorisasi Hari Kerja**"
      ],
      "metadata": {
        "id": "QBu3bQmliYJA"
      }
    },
    {
      "cell_type": "code",
      "source": [
        "df['work_days'].describe()"
      ],
      "metadata": {
        "colab": {
          "base_uri": "https://localhost:8080/"
        },
        "id": "ubYDEybniWqU",
        "outputId": "b6cb8e5d-982e-49eb-c576-9c57f4b3c756"
      },
      "execution_count": null,
      "outputs": [
        {
          "output_type": "execute_result",
          "data": {
            "text/plain": [
              "count    129.000000\n",
              "mean       4.767442\n",
              "std        1.417037\n",
              "min        1.000000\n",
              "25%        4.000000\n",
              "50%        5.000000\n",
              "75%        6.000000\n",
              "max        7.000000\n",
              "Name: work_days, dtype: float64"
            ]
          },
          "metadata": {},
          "execution_count": 311
        }
      ]
    },
    {
      "cell_type": "code",
      "source": [
        "def categorize_days(day):\n",
        "    if 1 <= day <= 3:\n",
        "        return \"1 - 3 hari\"\n",
        "    elif day == 4:\n",
        "        return \"2 - 4 hari\"\n",
        "    elif day == 5:\n",
        "        return \"3 - 5 hari\"\n",
        "    elif day == 6:\n",
        "        return \"4 - 6 hari\"\n",
        "    elif day == 7:\n",
        "        return \"5 - 7 hari\"\n",
        "    else:\n",
        "        return \"Unknown category\"\n",
        "\n",
        "df['work_days_category'] = [categorize_days(day) for day in df['work_days']]\n",
        "df['work_days_category_int'] = df['work_days_category'].str.extract(r'(\\d+)\\s*hari$')\n",
        "df['work_days_category_int'] = df['work_days_category_int'].astype(int)"
      ],
      "metadata": {
        "id": "PncSWlJRjiv9"
      },
      "execution_count": null,
      "outputs": []
    },
    {
      "cell_type": "markdown",
      "source": [
        "## **Kalikan hari kerja dengan rata - rata jam kerja**"
      ],
      "metadata": {
        "id": "IqXT7x7AmEyZ"
      }
    },
    {
      "cell_type": "code",
      "source": [
        "df['work_hour_in_week'] = df['work_days_category_int'] * df['average_work_hour']"
      ],
      "metadata": {
        "id": "RJxWadzJmC-w"
      },
      "execution_count": null,
      "outputs": []
    },
    {
      "cell_type": "code",
      "source": [
        "df['work_hour_in_week'].describe()"
      ],
      "metadata": {
        "colab": {
          "base_uri": "https://localhost:8080/"
        },
        "id": "mCKeEWC0ma2I",
        "outputId": "c37f8022-1a9e-462b-aa9e-debd6063ac5d"
      },
      "execution_count": null,
      "outputs": [
        {
          "output_type": "execute_result",
          "data": {
            "text/plain": [
              "count    129.000000\n",
              "mean      28.418605\n",
              "std       15.450373\n",
              "min        6.000000\n",
              "25%       15.000000\n",
              "50%       28.000000\n",
              "75%       40.000000\n",
              "max       84.000000\n",
              "Name: work_hour_in_week, dtype: float64"
            ]
          },
          "metadata": {},
          "execution_count": 314
        }
      ]
    },
    {
      "cell_type": "markdown",
      "source": [
        "## **Kategori jam kerja dalam 1 minggu :**\n",
        "\n",
        "1.   Paruh Waktu < 35 jam\n",
        "2.   Normal 35 <= 40 jam\n",
        "3.   Lembur > 40 jam\n",
        "\n"
      ],
      "metadata": {
        "id": "OrbfQJpLnCgO"
      }
    },
    {
      "cell_type": "code",
      "source": [
        "def work_hour_in_week(hours):\n",
        "\n",
        "    if hours < 35 :\n",
        "      return \"Paruh Waktu\"\n",
        "    elif 35 <= hours <= 40 :\n",
        "      return \"Normal\"\n",
        "    elif hours > 40 :\n",
        "      return \"Lembur\"\n",
        "\n",
        "df['categorize_work_hour_in_week'] = df['work_hour_in_week'].apply(work_hour_in_week)"
      ],
      "metadata": {
        "id": "uUr-G2TJTL1f"
      },
      "execution_count": null,
      "outputs": []
    },
    {
      "cell_type": "code",
      "source": [
        "df['categorize_work_hour_in_week'].head()"
      ],
      "metadata": {
        "colab": {
          "base_uri": "https://localhost:8080/"
        },
        "id": "RnlyjyEbpDCw",
        "outputId": "7310a04f-0ca6-43ae-b51b-425639963f81"
      },
      "execution_count": null,
      "outputs": [
        {
          "output_type": "execute_result",
          "data": {
            "text/plain": [
              "0         Lembur\n",
              "1         Lembur\n",
              "2         Lembur\n",
              "3    Paruh Waktu\n",
              "4    Paruh Waktu\n",
              "Name: categorize_work_hour_in_week, dtype: object"
            ]
          },
          "metadata": {},
          "execution_count": 316
        }
      ]
    },
    {
      "cell_type": "code",
      "source": [
        "# df.to_csv('data_gform_before_encode.csv', sep='|', index=False)\n",
        "# files.download('data_gform_before_encode.csv')"
      ],
      "metadata": {
        "id": "vzdEi9AFpN72"
      },
      "execution_count": null,
      "outputs": []
    },
    {
      "cell_type": "markdown",
      "source": [
        "## **Encode :**\n",
        "1. work_days_category\n",
        "2. categorize_work_hour_in_week"
      ],
      "metadata": {
        "id": "dW0-9K4HqqXi"
      }
    },
    {
      "cell_type": "code",
      "source": [
        "label_encoder = LabelEncoder()\n",
        "\n",
        "df['work_hour_label'] = label_encoder.fit_transform(df['categorize_work_hour_in_week'])\n",
        "df['work_days_label'] = label_encoder.fit_transform(df['work_days_category'])"
      ],
      "metadata": {
        "id": "4XW3BzHYqpmm"
      },
      "execution_count": null,
      "outputs": []
    },
    {
      "cell_type": "markdown",
      "source": [
        "## **Menyamakan jumlah label 'productive_time'**"
      ],
      "metadata": {
        "id": "fXcUvwSBkH_B"
      }
    },
    {
      "cell_type": "code",
      "source": [
        "df['productive_time'].value_counts()"
      ],
      "metadata": {
        "colab": {
          "base_uri": "https://localhost:8080/"
        },
        "id": "oyZWDMqCkfFt",
        "outputId": "55209d7d-86bc-4701-a9f7-e00fcf3f4bee"
      },
      "execution_count": null,
      "outputs": [
        {
          "output_type": "execute_result",
          "data": {
            "text/plain": [
              "productive_time\n",
              "0    52\n",
              "3    34\n",
              "1    25\n",
              "2    18\n",
              "Name: count, dtype: int64"
            ]
          },
          "metadata": {},
          "execution_count": 319
        }
      ]
    },
    {
      "cell_type": "code",
      "source": [
        "# Hitung jumlah setiap label\n",
        "productive_time_label = df['productive_time'].value_counts()\n",
        "\n",
        "# Temukan jumlah label yang paling sedikit\n",
        "min_jumlah = productive_time_label.min()\n",
        "\n",
        "# Temukan jumlah label 2\n",
        "jumlah_label_2 = productive_time_label[2]\n",
        "\n",
        "# Tentukan berapa banyak baris yang perlu dihapus dari setiap label lainnya\n",
        "rows_to_drop = abs(jumlah_label_2 - min_jumlah)\n",
        "\n",
        "# Ambil baris-baris dengan label 0, 3, dan 1 untuk dihapus\n",
        "rows_to_drop_label_0 = df[df['productive_time'] == 0].sample(productive_time_label[0] - 34, replace=True)\n",
        "rows_to_drop_label_1 = df[df['productive_time'] == 1].sample(productive_time_label[1] - 7, replace=True)\n",
        "rows_to_drop_label_3 = df[df['productive_time'] == 3].sample(productive_time_label[3] - 16, replace=True)\n",
        "rows_to_drop_label_2 = df[df['productive_time'] == 2].sample(productive_time_label[2], replace=True)\n",
        "\n",
        "# Gabungkan semua baris yang akan dihapus\n",
        "rows_to_drop_all = pd.concat([rows_to_drop_label_0, rows_to_drop_label_1, rows_to_drop_label_3, rows_to_drop_label_2])\n",
        "\n",
        "# Hapus baris-baris tersebut dari DataFrame\n",
        "# df = df.drop(rows_to_drop_all.index)"
      ],
      "metadata": {
        "id": "hsrnGr83kHah"
      },
      "execution_count": null,
      "outputs": []
    },
    {
      "cell_type": "code",
      "source": [
        "df = rows_to_drop_all"
      ],
      "metadata": {
        "id": "8WTL6KC2slwZ"
      },
      "execution_count": null,
      "outputs": []
    },
    {
      "cell_type": "code",
      "source": [
        "df['productive_time'].value_counts()"
      ],
      "metadata": {
        "colab": {
          "base_uri": "https://localhost:8080/"
        },
        "id": "VXaV9v9jmZ0D",
        "outputId": "d51fdbb0-4034-4892-90a7-b8a026709fa1"
      },
      "execution_count": null,
      "outputs": [
        {
          "output_type": "execute_result",
          "data": {
            "text/plain": [
              "productive_time\n",
              "0    18\n",
              "1    18\n",
              "3    18\n",
              "2    18\n",
              "Name: count, dtype: int64"
            ]
          },
          "metadata": {},
          "execution_count": 322
        }
      ]
    },
    {
      "cell_type": "code",
      "source": [
        "df = df.drop(columns=['work_days', 'average_work_hour',  'Gangguan dari atasan',\n",
        "             'Gangguan dari internal (Kelelahan', 'Gangguan dari kesehatan',\n",
        "             'Gangguan dari lingkungan sekitar (kebisingan)',\n",
        "             'Gangguan dari perangkat elektronik (notifikasi dari smartphone atau komputer)',\n",
        "             'Gangguan dari teman atau rekan kerja', 'Gangguan internet',\n",
        "             'Gangguan jawa', 'MATI LAMPU ??', 'Mood ', 'Panggilan Telepon',\n",
        "             'Temen ngajak mabar??', 'Tidak ada', 'ajakan bermain', 'work_days_category',\n",
        "             'work_days_category_int',\n",
        "             'work_hour_in_week',\n",
        "             'categorize_work_hour_in_week', 'work_days_label'])"
      ],
      "metadata": {
        "id": "diMglMDauVl9"
      },
      "execution_count": null,
      "outputs": []
    },
    {
      "cell_type": "code",
      "source": [
        "df['productive_time'].value_counts()"
      ],
      "metadata": {
        "id": "n0_Dz-dgu0ng",
        "outputId": "1022716b-6ae5-46e4-c103-cb579283f20a",
        "colab": {
          "base_uri": "https://localhost:8080/"
        }
      },
      "execution_count": null,
      "outputs": [
        {
          "output_type": "execute_result",
          "data": {
            "text/plain": [
              "productive_time\n",
              "0    18\n",
              "1    18\n",
              "3    18\n",
              "2    18\n",
              "Name: count, dtype: int64"
            ]
          },
          "metadata": {},
          "execution_count": 326
        }
      ]
    },
    {
      "cell_type": "markdown",
      "source": [
        "## **Save to CSV**"
      ],
      "metadata": {
        "id": "56MX2ol59oRK"
      }
    },
    {
      "cell_type": "code",
      "source": [
        "df.to_csv('data_gform_after_encode.csv', sep='|', index=False)\n",
        "files.download('data_gform_after_encode.csv')"
      ],
      "metadata": {
        "id": "pCDte77S0AFf",
        "colab": {
          "base_uri": "https://localhost:8080/",
          "height": 17
        },
        "outputId": "993db49d-c352-4d52-ec2c-52bc8b6707b4"
      },
      "execution_count": null,
      "outputs": [
        {
          "output_type": "display_data",
          "data": {
            "text/plain": [
              "<IPython.core.display.Javascript object>"
            ],
            "application/javascript": [
              "\n",
              "    async function download(id, filename, size) {\n",
              "      if (!google.colab.kernel.accessAllowed) {\n",
              "        return;\n",
              "      }\n",
              "      const div = document.createElement('div');\n",
              "      const label = document.createElement('label');\n",
              "      label.textContent = `Downloading \"${filename}\": `;\n",
              "      div.appendChild(label);\n",
              "      const progress = document.createElement('progress');\n",
              "      progress.max = size;\n",
              "      div.appendChild(progress);\n",
              "      document.body.appendChild(div);\n",
              "\n",
              "      const buffers = [];\n",
              "      let downloaded = 0;\n",
              "\n",
              "      const channel = await google.colab.kernel.comms.open(id);\n",
              "      // Send a message to notify the kernel that we're ready.\n",
              "      channel.send({})\n",
              "\n",
              "      for await (const message of channel.messages) {\n",
              "        // Send a message to notify the kernel that we're ready.\n",
              "        channel.send({})\n",
              "        if (message.buffers) {\n",
              "          for (const buffer of message.buffers) {\n",
              "            buffers.push(buffer);\n",
              "            downloaded += buffer.byteLength;\n",
              "            progress.value = downloaded;\n",
              "          }\n",
              "        }\n",
              "      }\n",
              "      const blob = new Blob(buffers, {type: 'application/binary'});\n",
              "      const a = document.createElement('a');\n",
              "      a.href = window.URL.createObjectURL(blob);\n",
              "      a.download = filename;\n",
              "      div.appendChild(a);\n",
              "      a.click();\n",
              "      div.remove();\n",
              "    }\n",
              "  "
            ]
          },
          "metadata": {}
        },
        {
          "output_type": "display_data",
          "data": {
            "text/plain": [
              "<IPython.core.display.Javascript object>"
            ],
            "application/javascript": [
              "download(\"download_7ad07961-eda3-4e0e-a361-a940a518e821\", \"data_gform_after_encode.csv\", 2687)"
            ]
          },
          "metadata": {}
        }
      ]
    }
  ]
}